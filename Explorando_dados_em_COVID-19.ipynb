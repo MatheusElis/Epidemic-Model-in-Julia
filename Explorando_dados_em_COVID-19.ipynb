{
 "cells": [
  {
   "cell_type": "markdown",
   "id": "fcc58348-8c27-491b-9e20-9645fe66f466",
   "metadata": {},
   "source": [
    "# Explorando Dados em Covid-19"
   ]
  },
  {
   "cell_type": "code",
   "execution_count": 2,
   "id": "feca9e8d-a4c8-4685-aaeb-e045f7c4aab4",
   "metadata": {},
   "outputs": [
    {
     "data": {
      "text/plain": [
       "\"https://github.com/CSSEGISandData/COVID-19/blob/master/csse_covid_19_data/csse_covid_19_time_series/time_series_covid19_confirmed_global.csv\""
      ]
     },
     "execution_count": 2,
     "metadata": {},
     "output_type": "execute_result"
    }
   ],
   "source": [
    "url = \"https://github.com/CSSEGISandData/COVID-19/blob/master/csse_covid_19_data/csse_covid_19_time_series/time_series_covid19_confirmed_global.csv\"\n"
   ]
  },
  {
   "cell_type": "code",
   "execution_count": 3,
   "id": "68a29d38-6069-488e-9ffa-74cb99246bbb",
   "metadata": {},
   "outputs": [
    {
     "data": {
      "text/plain": [
       "\"https://github.com/CSSEGISandData/COVID-19/blob/master/csse_covid_19_data/csse_covid_19_time_series/time_series_covid19_confirmed_global.csv\""
      ]
     },
     "execution_count": 3,
     "metadata": {},
     "output_type": "execute_result"
    }
   ],
   "source": [
    "url"
   ]
  },
  {
   "cell_type": "code",
   "execution_count": 4,
   "id": "db93c341-e39a-4831-b22e-264f895c33af",
   "metadata": {},
   "outputs": [
    {
     "data": {
      "text/plain": [
       "String"
      ]
     },
     "execution_count": 4,
     "metadata": {},
     "output_type": "execute_result"
    }
   ],
   "source": [
    "typeof(url)"
   ]
  },
  {
   "cell_type": "markdown",
   "id": "e10a77d2-d030-46a6-96d0-ff3a0d34c476",
   "metadata": {},
   "source": [
    "## Download de dados"
   ]
  },
  {
   "cell_type": "code",
   "execution_count": 30,
   "id": "fad71b3b-97d5-4102-8b33-853b68c7d9a3",
   "metadata": {},
   "outputs": [
    {
     "data": {
      "text/plain": [
       "\"covid_data.csv\""
      ]
     },
     "execution_count": 30,
     "metadata": {},
     "output_type": "execute_result"
    }
   ],
   "source": [
    "download(url, \"covid_data.csv\")"
   ]
  },
  {
   "cell_type": "code",
   "execution_count": 8,
   "id": "b1b9533a-2dfb-4962-bd12-a00eeb49c3d6",
   "metadata": {},
   "outputs": [
    {
     "data": {
      "text/plain": [
       "7-element Vector{String}:\n",
       " \".git\"\n",
       " \".ipynb_checkpoints\"\n",
       " \"Explorando_dados_em_COVID-19.ipynb\"\n",
       " \"README.md\"\n",
       " \"covid_data.csv\"\n",
       " \"ode.ipynb\"\n",
       " \"ode_mtk.ipynb\""
      ]
     },
     "execution_count": 8,
     "metadata": {},
     "output_type": "execute_result"
    }
   ],
   "source": [
    "readdir()"
   ]
  },
  {
   "cell_type": "code",
   "execution_count": 17,
   "id": "da42885f-47b6-45ca-914e-2a5cd2a3f8b8",
   "metadata": {},
   "outputs": [],
   "source": [
    "using Pkg\n",
    "#Pkg.add(\"CSV\")\n",
    "using CSV\n",
    "using DataFrames"
   ]
  },
  {
   "cell_type": "code",
   "execution_count": 28,
   "id": "426323b4-594e-4beb-b331-a296c5dbb4a9",
   "metadata": {},
   "outputs": [
    {
     "name": "stderr",
     "output_type": "stream",
     "text": [
      "┌ Warning: thread = 1 warning: parsed expected 1 columns, but didn't reach end of line around data row: 54. Ignoring any extra columns on this row\n",
      "└ @ CSV C:\\Users\\mathe\\.julia\\packages\\CSV\\Zl2ww\\src\\file.jl:613\n",
      "┌ Warning: thread = 1 warning: parsed expected 1 columns, but didn't reach end of line around data row: 58. Ignoring any extra columns on this row\n",
      "└ @ CSV C:\\Users\\mathe\\.julia\\packages\\CSV\\Zl2ww\\src\\file.jl:613\n",
      "┌ Warning: thread = 1 warning: parsed expected 1 columns, but didn't reach end of line around data row: 200. Ignoring any extra columns on this row\n",
      "└ @ CSV C:\\Users\\mathe\\.julia\\packages\\CSV\\Zl2ww\\src\\file.jl:613\n",
      "┌ Warning: thread = 1 warning: parsed expected 1 columns, but didn't reach end of line around data row: 303. Ignoring any extra columns on this row\n",
      "└ @ CSV C:\\Users\\mathe\\.julia\\packages\\CSV\\Zl2ww\\src\\file.jl:613\n",
      "┌ Warning: thread = 1 warning: parsed expected 1 columns, but didn't reach end of line around data row: 327. Ignoring any extra columns on this row\n",
      "└ @ CSV C:\\Users\\mathe\\.julia\\packages\\CSV\\Zl2ww\\src\\file.jl:613\n",
      "┌ Warning: thread = 1 warning: parsed expected 1 columns, but didn't reach end of line around data row: 342. Ignoring any extra columns on this row\n",
      "└ @ CSV C:\\Users\\mathe\\.julia\\packages\\CSV\\Zl2ww\\src\\file.jl:613\n",
      "┌ Warning: thread = 1 warning: parsed expected 1 columns, but didn't reach end of line around data row: 343. Ignoring any extra columns on this row\n",
      "└ @ CSV C:\\Users\\mathe\\.julia\\packages\\CSV\\Zl2ww\\src\\file.jl:613\n"
     ]
    },
    {
     "data": {
      "text/plain": [
       "342-element CSV.File{false}:\n",
       " CSV.Row: (<!DOCTYPE html> = \"<html lang=\\\"en\\\" data-color-mode=\\\"auto\\\" data-light-theme=\\\"light\\\" data-dark-theme=\\\"dark\\\">\",)\n",
       " CSV.Row: (<!DOCTYPE html> = \"  <head>\",)\n",
       " CSV.Row: (<!DOCTYPE html> = \"    <meta charset=\\\"utf-8\\\">\",)\n",
       " CSV.Row: (<!DOCTYPE html> = \"  <link rel=\\\"dns-prefetch\\\" href=\\\"https://github.githubassets.com\\\">\",)\n",
       " CSV.Row: (<!DOCTYPE html> = \"  <link rel=\\\"dns-prefetch\\\" href=\\\"https://avatars.githubusercontent.com\\\">\",)\n",
       " CSV.Row: (<!DOCTYPE html> = \"  <link rel=\\\"dns-prefetch\\\" href=\\\"https://github-cloud.s3.amazonaws.com\\\">\",)\n",
       " CSV.Row: (<!DOCTYPE html> = \"  <link rel=\\\"dns-prefetch\\\" href=\\\"https://user-images.githubusercontent.com/\\\">\",)\n",
       " CSV.Row: (<!DOCTYPE html> = \"  <link crossorigin=\\\"anonymous\\\" media=\\\"all\\\" integrity=\\\"sha512-B/jj6qcXmAwGUh/FG7mfpfFSb0lW1UpGiufFhzIeC+u3lXE5VDEJQzVxZ3gquw8xjZBNQ6CgWDSgCgjRzqPUgw==\\\" rel=\\\"stylesheet\\\" href=\\\"https://github.githubassets.com/assets/frameworks-07f8e3eaa717980c06521fc51bb99fa5.css\\\" />\",)\n",
       " CSV.Row: (<!DOCTYPE html> = \"  \",)\n",
       " CSV.Row: (<!DOCTYPE html> = \"    <link crossorigin=\\\"anonymous\\\" media=\\\"all\\\" integrity=\\\"sha512-LRtOXgwMH/t4K7emjC3BmhsO6R5oZUe1xqkwIdTdiBIO2LICoKB9AqL+jUzrJt+UoccLeAmF47GANmNdoFwdzg==\\\" rel=\\\"stylesheet\\\" href=\\\"https://github.githubassets.com/assets/behaviors-2d1b4e5e0c0c1ffb782bb7a68c2dc19a.css\\\" />\",)\n",
       " CSV.Row: (<!DOCTYPE html> = \"    \",)\n",
       " CSV.Row: (<!DOCTYPE html> = \"    \",)\n",
       " CSV.Row: (<!DOCTYPE html> = \"    \",)\n",
       " ⋮\n",
       " CSV.Row: (<!DOCTYPE html> = \"</div>\",)\n",
       " CSV.Row: (<!DOCTYPE html> = \"  </div>\",)\n",
       " CSV.Row: (<!DOCTYPE html> = \"</div>\",)\n",
       " CSV.Row: (<!DOCTYPE html> = \"    </main>\",)\n",
       " CSV.Row: (<!DOCTYPE html> = \"  </div>\",)\n",
       " CSV.Row: (<!DOCTYPE html> = \"  </div>\",)\n",
       " CSV.Row: (<!DOCTYPE html> = \"          \",)\n",
       " CSV.Row: (<!DOCTYPE html> = \"<div class=\\\"footer container-xl width-full p-responsive\\\" role=\\\"contentinfo\\\">\",)\n",
       " CSV.Row: (<!DOCTYPE html> = \"  <div class=\\\"position-relative d-flex flex-row-reverse flex-lg-row flex-wrap flex-lg-nowrap flex-justify-center flex-lg-justify-between pt-6 pb-2 mt-6 f6 color-text-secondary border-top color-border-secondary \\\">\",)\n",
       " CSV.Row: (<!DOCTYPE html> = \"    <ul class=\\\"list-style-none d-flex flex-wrap col-12 col-lg-5 flex-justify-center flex-lg-justify-between mb-2 mb-lg-0\\\">\",)\n",
       " CSV.Row: (<!DOCTYPE html> = \"      <li class=\\\"mr-3 mr-lg-0\\\">&copy; 2021 GitHub\",)\n",
       " CSV.Row: (<!DOCTYPE html> = \"        <li class=\\\"mr-3 mr-lg-0\\\"><a href=\\\"https://docs.github.com/en/github/site-policy/github-terms-of-service\\\" data-ga-click=\\\"Footer\",)"
      ]
     },
     "execution_count": 28,
     "metadata": {},
     "output_type": "execute_result"
    }
   ],
   "source": [
    "data = CSV.File(\"covid_data.csv\")"
   ]
  },
  {
   "cell_type": "code",
   "execution_count": 29,
   "id": "864ed5d2-1904-4d31-82eb-bced24647233",
   "metadata": {},
   "outputs": [
    {
     "data": {
      "text/plain": [
       "342-element CSV.File{false}:\n",
       " CSV.Row: (<!DOCTYPE html> = \"<html lang=\\\"en\\\" data-color-mode=\\\"auto\\\" data-light-theme=\\\"light\\\" data-dark-theme=\\\"dark\\\">\",)\n",
       " CSV.Row: (<!DOCTYPE html> = \"  <head>\",)\n",
       " CSV.Row: (<!DOCTYPE html> = \"    <meta charset=\\\"utf-8\\\">\",)\n",
       " CSV.Row: (<!DOCTYPE html> = \"  <link rel=\\\"dns-prefetch\\\" href=\\\"https://github.githubassets.com\\\">\",)\n",
       " CSV.Row: (<!DOCTYPE html> = \"  <link rel=\\\"dns-prefetch\\\" href=\\\"https://avatars.githubusercontent.com\\\">\",)\n",
       " CSV.Row: (<!DOCTYPE html> = \"  <link rel=\\\"dns-prefetch\\\" href=\\\"https://github-cloud.s3.amazonaws.com\\\">\",)\n",
       " CSV.Row: (<!DOCTYPE html> = \"  <link rel=\\\"dns-prefetch\\\" href=\\\"https://user-images.githubusercontent.com/\\\">\",)\n",
       " CSV.Row: (<!DOCTYPE html> = \"  <link crossorigin=\\\"anonymous\\\" media=\\\"all\\\" integrity=\\\"sha512-B/jj6qcXmAwGUh/FG7mfpfFSb0lW1UpGiufFhzIeC+u3lXE5VDEJQzVxZ3gquw8xjZBNQ6CgWDSgCgjRzqPUgw==\\\" rel=\\\"stylesheet\\\" href=\\\"https://github.githubassets.com/assets/frameworks-07f8e3eaa717980c06521fc51bb99fa5.css\\\" />\",)\n",
       " CSV.Row: (<!DOCTYPE html> = \"  \",)\n",
       " CSV.Row: (<!DOCTYPE html> = \"    <link crossorigin=\\\"anonymous\\\" media=\\\"all\\\" integrity=\\\"sha512-LRtOXgwMH/t4K7emjC3BmhsO6R5oZUe1xqkwIdTdiBIO2LICoKB9AqL+jUzrJt+UoccLeAmF47GANmNdoFwdzg==\\\" rel=\\\"stylesheet\\\" href=\\\"https://github.githubassets.com/assets/behaviors-2d1b4e5e0c0c1ffb782bb7a68c2dc19a.css\\\" />\",)\n",
       " CSV.Row: (<!DOCTYPE html> = \"    \",)\n",
       " CSV.Row: (<!DOCTYPE html> = \"    \",)\n",
       " CSV.Row: (<!DOCTYPE html> = \"    \",)\n",
       " ⋮\n",
       " CSV.Row: (<!DOCTYPE html> = \"</div>\",)\n",
       " CSV.Row: (<!DOCTYPE html> = \"  </div>\",)\n",
       " CSV.Row: (<!DOCTYPE html> = \"</div>\",)\n",
       " CSV.Row: (<!DOCTYPE html> = \"    </main>\",)\n",
       " CSV.Row: (<!DOCTYPE html> = \"  </div>\",)\n",
       " CSV.Row: (<!DOCTYPE html> = \"  </div>\",)\n",
       " CSV.Row: (<!DOCTYPE html> = \"          \",)\n",
       " CSV.Row: (<!DOCTYPE html> = \"<div class=\\\"footer container-xl width-full p-responsive\\\" role=\\\"contentinfo\\\">\",)\n",
       " CSV.Row: (<!DOCTYPE html> = \"  <div class=\\\"position-relative d-flex flex-row-reverse flex-lg-row flex-wrap flex-lg-nowrap flex-justify-center flex-lg-justify-between pt-6 pb-2 mt-6 f6 color-text-secondary border-top color-border-secondary \\\">\",)\n",
       " CSV.Row: (<!DOCTYPE html> = \"    <ul class=\\\"list-style-none d-flex flex-wrap col-12 col-lg-5 flex-justify-center flex-lg-justify-between mb-2 mb-lg-0\\\">\",)\n",
       " CSV.Row: (<!DOCTYPE html> = \"      <li class=\\\"mr-3 mr-lg-0\\\">&copy; 2021 GitHub\",)\n",
       " CSV.Row: (<!DOCTYPE html> = \"        <li class=\\\"mr-3 mr-lg-0\\\"><a href=\\\"https://docs.github.com/en/github/site-policy/github-terms-of-service\\\" data-ga-click=\\\"Footer\",)"
      ]
     },
     "execution_count": 29,
     "metadata": {},
     "output_type": "execute_result"
    }
   ],
   "source": [
    "data"
   ]
  },
  {
   "cell_type": "code",
   "execution_count": null,
   "id": "e1937b4c-14c9-42d9-a9d3-e1c28c90aae1",
   "metadata": {},
   "outputs": [],
   "source": []
  },
  {
   "cell_type": "code",
   "execution_count": null,
   "id": "0370e575-902e-4cc5-8511-5caf2ba0c3cc",
   "metadata": {},
   "outputs": [],
   "source": []
  }
 ],
 "metadata": {
  "kernelspec": {
   "display_name": "Julia 1.6.1",
   "language": "julia",
   "name": "julia-1.6"
  },
  "language_info": {
   "file_extension": ".jl",
   "mimetype": "application/julia",
   "name": "julia",
   "version": "1.6.1"
  }
 },
 "nbformat": 4,
 "nbformat_minor": 5
}
