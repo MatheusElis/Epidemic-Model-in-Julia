{
 "cells": [
  {
   "cell_type": "markdown",
   "id": "3094e9b4-8e7d-4db7-857e-33031d0efb78",
   "metadata": {},
   "source": [
    "# Modelo de equação diferencial ordinária\n"
   ]
  },
  {
   "cell_type": "markdown",
   "id": "ddc3e7bf-197b-4917-960f-8050165c7462",
   "metadata": {},
   "source": [
    "Matheus Elis da Silva  \n",
    "matheuselis@id.uff.br\n"
   ]
  },
  {
   "cell_type": "markdown",
   "id": "414b48ad-f1d3-4fab-b0de-ab7fe5f1e9e1",
   "metadata": {
    "tags": []
   },
   "source": [
    "## Modelos Compartimentais"
   ]
  },
  {
   "cell_type": "markdown",
   "id": "9a849129-031e-4a28-8829-2b9d745c1a8e",
   "metadata": {},
   "source": [
    "Muitos modelos epidemiológicos são compartimentais, o que significa que a população é dividida em várias subpopulações discretas, com fluxos entre as subpopulações modelados por meio de equações diferenciais ordinárias (EDOs). Na maioria dos casos, esses modelos são não lineares e são necessárias técnicas numéricas para resolver a dinâmica ao longo do tempo. ou um determinado conjunto de valores de parâmetro, o modelo irá gerar a mesma saída, portanto, esses modelos são conhecidos como determinísticos. Esses modelos geram saída, por exemplo o número de indivíduos infectados ao longo do tempo que são contínuos no tempo e em número, ou seja, é possível ter 1,1 indivíduos infectados e assim por diante. Podemos pensar nisso como uma aproximação da média de muitas epidemias estocásticas ao longo do tempo, mais sobre isso nas seções subsequentes.\n",
    "\n",
    "Algoritmos para resolver ODEs são implementados em muitas linguagens de computador, tornando relativamente simples simular esses modelos."
   ]
  },
  {
   "cell_type": "markdown",
   "id": "136dbffb-1dd7-4bae-9fdc-2ea299f58a45",
   "metadata": {},
   "source": [
    "### Descrição"
   ]
  },
  {
   "cell_type": "markdown",
   "id": "3ed40d6c-4c79-4d38-af7a-c2349c06e511",
   "metadata": {},
   "source": [
    "O modelo susceptivel-infeccioso-recuperado (SIR) em uma população fechadas foi proposto por Kermack e McKendrick como um caso especial de um modelo mais geral, e a forma estruturada de muito mais modelos compartimentados. Indivíduos susceptiveis, $S$, são infectados por indivíduos infecciosos, $I$, a uma taxa per-capita $\\beta I$, e indivíduos infecciosos são recuperadas a uma taxa per-capita $\\gamma$ para se tornarem indivíduos recuperados, $R$."
   ]
  },
  {
   "cell_type": "markdown",
   "id": "f0519aab-5f32-4d61-ad5f-b20fed6c10a8",
   "metadata": {},
   "source": [
    "### Equações "
   ]
  },
  {
   "cell_type": "markdown",
   "id": "1abbaa65-5236-4ebb-b76b-77971dc1595a",
   "metadata": {},
   "source": [
    "$$\n",
    "\\begin{align*} \n",
    "\\frac{dS(t)}{dt} = -\\beta S(t) I(t)\\\\\n",
    "\\frac{dI(t)}{dt} = \\beta S(t) I(t) - \\gamma I(t)\\\\\n",
    "\\frac{dR(t)}{dt} = \\gamma I(t)\\\\\n",
    "\\end{align*}\n",
    "$$"
   ]
  },
  {
   "cell_type": "markdown",
   "id": "8aa5ba57-5d15-49f0-a414-2fa12da5da3d",
   "metadata": {},
   "source": [
    "### Condições Iniciais"
   ]
  },
  {
   "cell_type": "markdown",
   "id": "5a0a0ee6-e3bd-462f-bfd9-692ce2a4b476",
   "metadata": {},
   "source": [
    "* O modelo de esquações ondinárias considera\n",
    "    - Susceptivel, $S$, com condição inicial $S(0) = 990$\n",
    "    - Infeccioso, $I$, com condição inicial $I(0) = 10$\n",
    "    - Recuperado, $R$, com condição inicial $R(0) = 0$\n",
    "    - População total, $N=S+I+R=1000$\n",
    "* Indivíduos susceptiveis fazendo contato com outros indivíduos a uma taxa $c(=10)$, com a probabilidade de um contato com uma pessoa infecciosa ser $I/N$. Com probabilidade $\\beta = 0.05$, uma pessoa infectada infectará um suscetível dado um contato.\n",
    "* Os indivíduos infectados se recuperam a uma taxa per capita $\\gamma = 0.25$.\n"
   ]
  },
  {
   "cell_type": "markdown",
   "id": "fe6e6ab3-bebe-43eb-9741-7ee1c9d8b8ad",
   "metadata": {},
   "source": [
    "A versão classica do SIR em ODE é dada por:\n",
    "   * Determinística\n",
    "   * Continuo no tempo\n",
    "   * Contínuo no estado"
   ]
  },
  {
   "cell_type": "markdown",
   "id": "eddd2721-2ffa-4e4c-8243-2c50e79fa6a9",
   "metadata": {
    "tags": []
   },
   "source": [
    "## Implementação em Julia"
   ]
  },
  {
   "cell_type": "markdown",
   "id": "8a1c16ea-b783-46a2-8dcb-520c17aa156b",
   "metadata": {
    "tags": []
   },
   "source": [
    "### Bibliotecas\n",
    "\n",
    "Inicialmente precisamos instalar e carregar as bibliotecas no ambiente de programação.  \n",
    "Só é necessario instalar as bibliotecas uma unica vez no computador, após isso as funções `Pkg.add()` podem ser comentadas"
   ]
  },
  {
   "cell_type": "code",
   "execution_count": 1,
   "id": "46aef5d3-3a6e-4bd7-af52-fa319fb1c734",
   "metadata": {},
   "outputs": [
    {
     "name": "stdout",
     "output_type": "stream",
     "text": [
      "    \u001b[36m\u001b[1mFetching:\u001b[22m\u001b[39m [========================================>]  100.0 % 4.2 %                       ]  40.9 %================================>        ]  77.6 %\r"
     ]
    }
   ],
   "source": [
    "using Pkg\n",
    "Pkg.add(\"DifferentialEquations\")\n",
    "Pkg.add(\"SimpleDiffEq\")\n",
    "Pkg.add(\"DataFrames\")\n",
    "Pkg.add(\"StatsPlots\")\n",
    "Pkg.add(\"BenchmarkTools\")\n"
   ]
  },
  {
   "cell_type": "code",
   "execution_count": 2,
   "id": "3f21543f-1111-496d-af22-215b0c0a9183",
   "metadata": {},
   "outputs": [],
   "source": [
    "using DifferentialEquations\n",
    "using SimpleDiffEq\n",
    "using DataFrames\n",
    "using StatsPlots\n",
    "using BenchmarkTools"
   ]
  },
  {
   "cell_type": "markdown",
   "id": "6150c136-3854-42af-96c3-63bb348c6f3d",
   "metadata": {
    "tags": []
   },
   "source": [
    "### ODE"
   ]
  },
  {
   "cell_type": "markdown",
   "id": "97e20ddc-7e27-4b7d-902c-991ffcaaf2d2",
   "metadata": {},
   "source": [
    "A função a seguir define as equações diferenciais do modelo que serão utilizadas para a simulação. As variaveis de estados e os parametros foram alocados em `u` e `p`, isso causa uma pequena diminuição de perfomace entretanto a equação fica mais facil de ser lida"
   ]
  },
  {
   "cell_type": "code",
   "execution_count": 36,
   "id": "0d871310-2fd6-49f4-894c-0b114aa96d65",
   "metadata": {},
   "outputs": [],
   "source": [
    "function sir_ode!(du,u,p,t)\n",
    "    (S,I,R) = u\n",
    "    (β,c,γ) = p\n",
    "    N = S+I+R\n",
    "    @inbounds begin\n",
    "        du[1] = -β*c*I/N*S\n",
    "        du[2] = β*c*I/N*S - γ*I\n",
    "        du[3] = γ*I\n",
    "    end\n",
    "    nothing\n",
    "end;"
   ]
  },
  {
   "cell_type": "markdown",
   "id": "761b476f-3f21-48ec-9ba7-cd9b44937657",
   "metadata": {},
   "source": [
    "### Domínio do Tempo\n",
    "\n",
    "Nós agora precisamos setar um intervalo de tempo em que a simulação irá funcionar e que será dado por `tspan`, o salto de tempo que será dado por `δt` e o tempo maximo que será dado por `tmax`."
   ]
  },
  {
   "cell_type": "code",
   "execution_count": 4,
   "id": "4e3d2b15-7c28-4b40-9327-30c57bb364d0",
   "metadata": {},
   "outputs": [],
   "source": [
    "δt = 0.1\n",
    "tmax = 40.0\n",
    "tspan = (0.0,tmax)\n",
    "t=0.0:δt:tmax;"
   ]
  },
  {
   "cell_type": "markdown",
   "id": "1339fbe1-6a07-424f-bd23-6683cc8b7a29",
   "metadata": {},
   "source": [
    "### Condições iniciais \n",
    "\n",
    "Agora iremos setar as condições iniciais de $S_0$, $I_0$ e $R_0$ para a simulação."
   ]
  },
  {
   "cell_type": "code",
   "execution_count": 5,
   "id": "fd1d0b02-7d51-4e06-852d-8b79deb7beac",
   "metadata": {},
   "outputs": [],
   "source": [
    "u0 = [990.0,10.0,0.0]; # S,I.R"
   ]
  },
  {
   "cell_type": "markdown",
   "id": "93a30b4e-a1f9-43ab-8d34-f22528a06b90",
   "metadata": {},
   "source": [
    "### Parammetros do Modelo\n",
    "\n",
    "Agora iremos definir os parametros $\\beta$, $c$ e $\\gamma$ das equações diferênciais."
   ]
  },
  {
   "cell_type": "code",
   "execution_count": 33,
   "id": "dbba9f01-8b5a-4b01-9a20-73623ecd50cb",
   "metadata": {},
   "outputs": [],
   "source": [
    "p = [0.05,10,0.25]; # β,c,γ"
   ]
  },
  {
   "cell_type": "markdown",
   "id": "1ba6804a-3495-460c-9cfe-f2771ff08fb9",
   "metadata": {},
   "source": [
    "### Execução do Modelo\n",
    "\n",
    "Primeiro iremos gerar um objeto do tipo `ODEProblem` utilizando a função que modela a equação diferencial, `sir_ode`, as condições iniciais, `u0`, o intervalo de tempo, `tspan` e os paramêtros , `p`."
   ]
  },
  {
   "cell_type": "code",
   "execution_count": 37,
   "id": "47ce294e-0ae3-4798-a850-111d35d7c9ef",
   "metadata": {},
   "outputs": [],
   "source": [
    "prob_ode = ODEProblem(sir_ode!,u0,tspan,p);"
   ]
  },
  {
   "cell_type": "markdown",
   "id": "7591cb41-8b11-4dfb-8aff-66cf20f67ebf",
   "metadata": {},
   "source": [
    "Logo após iremos utilizar a função `solve()` para resolver o objeto criado acima.\n"
   ]
  },
  {
   "cell_type": "code",
   "execution_count": 55,
   "id": "ee150ba5-29ff-48b3-91b1-d8500c7bd3cf",
   "metadata": {},
   "outputs": [],
   "source": [
    "sol_ode = solve(prob_ode,saveat = δt);"
   ]
  },
  {
   "cell_type": "markdown",
   "id": "37bc226f-9fe6-4760-a3df-a4ef5b143c44",
   "metadata": {},
   "source": [
    "### Pós processamento\n",
    "\n",
    "Para ficar mais facil de vizulizar os dados iremos juntar o output da função `solve()` em um dataframe."
   ]
  },
  {
   "cell_type": "code",
   "execution_count": 59,
   "id": "fb83eba3-ad21-4718-b613-7e8ecc4e1a5a",
   "metadata": {},
   "outputs": [],
   "source": [
    "df_ode = DataFrame(sol_ode)\n",
    "df_ode[!,:t] = t;"
   ]
  },
  {
   "cell_type": "markdown",
   "id": "c7e05ade-20c0-48d1-a454-d2c29a188ca7",
   "metadata": {},
   "source": [
    "### Plot do Resultado"
   ]
  },
  {
   "cell_type": "markdown",
   "id": "f4dc4695-9041-4077-8b29-d1b482f64680",
   "metadata": {},
   "source": [
    "Agora nós podemos plotar o resultado para vizualizar o resultado."
   ]
  },
  {
   "cell_type": "code",
   "execution_count": 64,
   "id": "2e691ae9-384a-4c2f-8942-9a06ef3344b5",
   "metadata": {},
   "outputs": [
    {
     "data": {
      "image/svg+xml": [
       "<?xml version=\"1.0\" encoding=\"utf-8\"?>\n",
       "<svg xmlns=\"http://www.w3.org/2000/svg\" xmlns:xlink=\"http://www.w3.org/1999/xlink\" width=\"600\" height=\"400\" viewBox=\"0 0 2400 1600\">\n",
       "<defs>\n",
       "  <clipPath id=\"clip530\">\n",
       "    <rect x=\"0\" y=\"0\" width=\"2400\" height=\"1600\"/>\n",
       "  </clipPath>\n",
       "</defs>\n",
       "<path clip-path=\"url(#clip530)\" d=\"\n",
       "M0 1600 L2400 1600 L2400 0 L0 0  Z\n",
       "  \" fill=\"#ffffff\" fill-rule=\"evenodd\" fill-opacity=\"1\"/>\n",
       "<defs>\n",
       "  <clipPath id=\"clip531\">\n",
       "    <rect x=\"480\" y=\"0\" width=\"1681\" height=\"1600\"/>\n",
       "  </clipPath>\n",
       "</defs>\n",
       "<path clip-path=\"url(#clip530)\" d=\"\n",
       "M262.551 1423.18 L2352.76 1423.18 L2352.76 47.2441 L262.551 47.2441  Z\n",
       "  \" fill=\"#ffffff\" fill-rule=\"evenodd\" fill-opacity=\"1\"/>\n",
       "<defs>\n",
       "  <clipPath id=\"clip532\">\n",
       "    <rect x=\"262\" y=\"47\" width=\"2091\" height=\"1377\"/>\n",
       "  </clipPath>\n",
       "</defs>\n",
       "<polyline clip-path=\"url(#clip532)\" style=\"stroke:#000000; stroke-linecap:butt; stroke-linejoin:round; stroke-width:2; stroke-opacity:0.1; fill:none\" points=\"\n",
       "  321.708,1423.18 321.708,47.2441 \n",
       "  \"/>\n",
       "<polyline clip-path=\"url(#clip532)\" style=\"stroke:#000000; stroke-linecap:butt; stroke-linejoin:round; stroke-width:2; stroke-opacity:0.1; fill:none\" points=\"\n",
       "  814.681,1423.18 814.681,47.2441 \n",
       "  \"/>\n",
       "<polyline clip-path=\"url(#clip532)\" style=\"stroke:#000000; stroke-linecap:butt; stroke-linejoin:round; stroke-width:2; stroke-opacity:0.1; fill:none\" points=\"\n",
       "  1307.65,1423.18 1307.65,47.2441 \n",
       "  \"/>\n",
       "<polyline clip-path=\"url(#clip532)\" style=\"stroke:#000000; stroke-linecap:butt; stroke-linejoin:round; stroke-width:2; stroke-opacity:0.1; fill:none\" points=\"\n",
       "  1800.63,1423.18 1800.63,47.2441 \n",
       "  \"/>\n",
       "<polyline clip-path=\"url(#clip532)\" style=\"stroke:#000000; stroke-linecap:butt; stroke-linejoin:round; stroke-width:2; stroke-opacity:0.1; fill:none\" points=\"\n",
       "  2293.6,1423.18 2293.6,47.2441 \n",
       "  \"/>\n",
       "<polyline clip-path=\"url(#clip530)\" style=\"stroke:#000000; stroke-linecap:butt; stroke-linejoin:round; stroke-width:4; stroke-opacity:1; fill:none\" points=\"\n",
       "  262.551,1423.18 2352.76,1423.18 \n",
       "  \"/>\n",
       "<polyline clip-path=\"url(#clip530)\" style=\"stroke:#000000; stroke-linecap:butt; stroke-linejoin:round; stroke-width:4; stroke-opacity:1; fill:none\" points=\"\n",
       "  321.708,1423.18 321.708,1406.67 \n",
       "  \"/>\n",
       "<polyline clip-path=\"url(#clip530)\" style=\"stroke:#000000; stroke-linecap:butt; stroke-linejoin:round; stroke-width:4; stroke-opacity:1; fill:none\" points=\"\n",
       "  814.681,1423.18 814.681,1406.67 \n",
       "  \"/>\n",
       "<polyline clip-path=\"url(#clip530)\" style=\"stroke:#000000; stroke-linecap:butt; stroke-linejoin:round; stroke-width:4; stroke-opacity:1; fill:none\" points=\"\n",
       "  1307.65,1423.18 1307.65,1406.67 \n",
       "  \"/>\n",
       "<polyline clip-path=\"url(#clip530)\" style=\"stroke:#000000; stroke-linecap:butt; stroke-linejoin:round; stroke-width:4; stroke-opacity:1; fill:none\" points=\"\n",
       "  1800.63,1423.18 1800.63,1406.67 \n",
       "  \"/>\n",
       "<polyline clip-path=\"url(#clip530)\" style=\"stroke:#000000; stroke-linecap:butt; stroke-linejoin:round; stroke-width:4; stroke-opacity:1; fill:none\" points=\"\n",
       "  2293.6,1423.18 2293.6,1406.67 \n",
       "  \"/>\n",
       "<path clip-path=\"url(#clip530)\" d=\"M321.708 1452.37 Q318.097 1452.37 316.268 1455.94 Q314.463 1459.48 314.463 1466.61 Q314.463 1473.71 316.268 1477.28 Q318.097 1480.82 321.708 1480.82 Q325.342 1480.82 327.148 1477.28 Q328.976 1473.71 328.976 1466.61 Q328.976 1459.48 327.148 1455.94 Q325.342 1452.37 321.708 1452.37 M321.708 1448.67 Q327.518 1448.67 330.574 1453.27 Q333.652 1457.86 333.652 1466.61 Q333.652 1475.33 330.574 1479.94 Q327.518 1484.52 321.708 1484.52 Q315.898 1484.52 312.819 1479.94 Q309.764 1475.33 309.764 1466.61 Q309.764 1457.86 312.819 1453.27 Q315.898 1448.67 321.708 1448.67 Z\" fill=\"#000000\" fill-rule=\"evenodd\" fill-opacity=\"1\" /><path clip-path=\"url(#clip530)\" d=\"M789.368 1479.92 L797.007 1479.92 L797.007 1453.55 L788.697 1455.22 L788.697 1450.96 L796.961 1449.29 L801.637 1449.29 L801.637 1479.92 L809.276 1479.92 L809.276 1483.85 L789.368 1483.85 L789.368 1479.92 Z\" fill=\"#000000\" fill-rule=\"evenodd\" fill-opacity=\"1\" /><path clip-path=\"url(#clip530)\" d=\"M828.72 1452.37 Q825.109 1452.37 823.28 1455.94 Q821.475 1459.48 821.475 1466.61 Q821.475 1473.71 823.28 1477.28 Q825.109 1480.82 828.72 1480.82 Q832.354 1480.82 834.16 1477.28 Q835.989 1473.71 835.989 1466.61 Q835.989 1459.48 834.16 1455.94 Q832.354 1452.37 828.72 1452.37 M828.72 1448.67 Q834.53 1448.67 837.586 1453.27 Q840.664 1457.86 840.664 1466.61 Q840.664 1475.33 837.586 1479.94 Q834.53 1484.52 828.72 1484.52 Q822.91 1484.52 819.831 1479.94 Q816.776 1475.33 816.776 1466.61 Q816.776 1457.86 819.831 1453.27 Q822.91 1448.67 828.72 1448.67 Z\" fill=\"#000000\" fill-rule=\"evenodd\" fill-opacity=\"1\" /><path clip-path=\"url(#clip530)\" d=\"M1286.43 1479.92 L1302.75 1479.92 L1302.75 1483.85 L1280.8 1483.85 L1280.8 1479.92 Q1283.46 1477.16 1288.05 1472.53 Q1292.65 1467.88 1293.83 1466.54 Q1296.08 1464.01 1296.96 1462.28 Q1297.86 1460.52 1297.86 1458.83 Q1297.86 1456.07 1295.92 1454.34 Q1294 1452.6 1290.89 1452.6 Q1288.7 1452.6 1286.24 1453.37 Q1283.81 1454.13 1281.03 1455.68 L1281.03 1450.96 Q1283.86 1449.82 1286.31 1449.25 Q1288.76 1448.67 1290.8 1448.67 Q1296.17 1448.67 1299.37 1451.35 Q1302.56 1454.04 1302.56 1458.53 Q1302.56 1460.66 1301.75 1462.58 Q1300.96 1464.48 1298.86 1467.07 Q1298.28 1467.74 1295.18 1470.96 Q1292.07 1474.15 1286.43 1479.92 Z\" fill=\"#000000\" fill-rule=\"evenodd\" fill-opacity=\"1\" /><path clip-path=\"url(#clip530)\" d=\"M1322.56 1452.37 Q1318.95 1452.37 1317.12 1455.94 Q1315.32 1459.48 1315.32 1466.61 Q1315.32 1473.71 1317.12 1477.28 Q1318.95 1480.82 1322.56 1480.82 Q1326.2 1480.82 1328 1477.28 Q1329.83 1473.71 1329.83 1466.61 Q1329.83 1459.48 1328 1455.94 Q1326.2 1452.37 1322.56 1452.37 M1322.56 1448.67 Q1328.37 1448.67 1331.43 1453.27 Q1334.51 1457.86 1334.51 1466.61 Q1334.51 1475.33 1331.43 1479.94 Q1328.37 1484.52 1322.56 1484.52 Q1316.75 1484.52 1313.67 1479.94 Q1310.62 1475.33 1310.62 1466.61 Q1310.62 1457.86 1313.67 1453.27 Q1316.75 1448.67 1322.56 1448.67 Z\" fill=\"#000000\" fill-rule=\"evenodd\" fill-opacity=\"1\" /><path clip-path=\"url(#clip530)\" d=\"M1789.47 1465.22 Q1792.83 1465.94 1794.7 1468.2 Q1796.6 1470.47 1796.6 1473.81 Q1796.6 1478.92 1793.08 1481.72 Q1789.56 1484.52 1783.08 1484.52 Q1780.9 1484.52 1778.59 1484.08 Q1776.3 1483.67 1773.84 1482.81 L1773.84 1478.3 Q1775.79 1479.43 1778.1 1480.01 Q1780.42 1480.59 1782.94 1480.59 Q1787.34 1480.59 1789.63 1478.85 Q1791.95 1477.12 1791.95 1473.81 Q1791.95 1470.75 1789.79 1469.04 Q1787.66 1467.3 1783.84 1467.3 L1779.82 1467.3 L1779.82 1463.46 L1784.03 1463.46 Q1787.48 1463.46 1789.31 1462.09 Q1791.14 1460.7 1791.14 1458.11 Q1791.14 1455.45 1789.24 1454.04 Q1787.36 1452.6 1783.84 1452.6 Q1781.92 1452.6 1779.72 1453.02 Q1777.52 1453.44 1774.89 1454.31 L1774.89 1450.15 Q1777.55 1449.41 1779.86 1449.04 Q1782.2 1448.67 1784.26 1448.67 Q1789.58 1448.67 1792.69 1451.1 Q1795.79 1453.5 1795.79 1457.63 Q1795.79 1460.5 1794.14 1462.49 Q1792.5 1464.45 1789.47 1465.22 Z\" fill=\"#000000\" fill-rule=\"evenodd\" fill-opacity=\"1\" /><path clip-path=\"url(#clip530)\" d=\"M1815.46 1452.37 Q1811.85 1452.37 1810.02 1455.94 Q1808.22 1459.48 1808.22 1466.61 Q1808.22 1473.71 1810.02 1477.28 Q1811.85 1480.82 1815.46 1480.82 Q1819.1 1480.82 1820.9 1477.28 Q1822.73 1473.71 1822.73 1466.61 Q1822.73 1459.48 1820.9 1455.94 Q1819.1 1452.37 1815.46 1452.37 M1815.46 1448.67 Q1821.27 1448.67 1824.33 1453.27 Q1827.41 1457.86 1827.41 1466.61 Q1827.41 1475.33 1824.33 1479.94 Q1821.27 1484.52 1815.46 1484.52 Q1809.65 1484.52 1806.58 1479.94 Q1803.52 1475.33 1803.52 1466.61 Q1803.52 1457.86 1806.58 1453.27 Q1809.65 1448.67 1815.46 1448.67 Z\" fill=\"#000000\" fill-rule=\"evenodd\" fill-opacity=\"1\" /><path clip-path=\"url(#clip530)\" d=\"M2281.77 1453.37 L2269.97 1471.81 L2281.77 1471.81 L2281.77 1453.37 M2280.54 1449.29 L2286.42 1449.29 L2286.42 1471.81 L2291.35 1471.81 L2291.35 1475.7 L2286.42 1475.7 L2286.42 1483.85 L2281.77 1483.85 L2281.77 1475.7 L2266.17 1475.7 L2266.17 1471.19 L2280.54 1449.29 Z\" fill=\"#000000\" fill-rule=\"evenodd\" fill-opacity=\"1\" /><path clip-path=\"url(#clip530)\" d=\"M2309.09 1452.37 Q2305.47 1452.37 2303.65 1455.94 Q2301.84 1459.48 2301.84 1466.61 Q2301.84 1473.71 2303.65 1477.28 Q2305.47 1480.82 2309.09 1480.82 Q2312.72 1480.82 2314.52 1477.28 Q2316.35 1473.71 2316.35 1466.61 Q2316.35 1459.48 2314.52 1455.94 Q2312.72 1452.37 2309.09 1452.37 M2309.09 1448.67 Q2314.9 1448.67 2317.95 1453.27 Q2321.03 1457.86 2321.03 1466.61 Q2321.03 1475.33 2317.95 1479.94 Q2314.9 1484.52 2309.09 1484.52 Q2303.28 1484.52 2300.2 1479.94 Q2297.14 1475.33 2297.14 1466.61 Q2297.14 1457.86 2300.2 1453.27 Q2303.28 1448.67 2309.09 1448.67 Z\" fill=\"#000000\" fill-rule=\"evenodd\" fill-opacity=\"1\" /><path clip-path=\"url(#clip530)\" d=\"M1202.54 1520.52 L1242.74 1520.52 L1242.74 1525.93 L1225.87 1525.93 L1225.87 1568.04 L1219.41 1568.04 L1219.41 1525.93 L1202.54 1525.93 L1202.54 1520.52 Z\" fill=\"#000000\" fill-rule=\"evenodd\" fill-opacity=\"1\" /><path clip-path=\"url(#clip530)\" d=\"M1268.11 1548.76 L1268.11 1551.62 L1241.18 1551.62 Q1241.56 1557.67 1244.81 1560.85 Q1248.09 1564 1253.91 1564 Q1257.28 1564 1260.44 1563.17 Q1263.62 1562.35 1266.74 1560.69 L1266.74 1566.23 Q1263.59 1567.57 1260.28 1568.27 Q1256.97 1568.97 1253.56 1568.97 Q1245.03 1568.97 1240.03 1564 Q1235.07 1559.04 1235.07 1550.57 Q1235.07 1541.82 1239.78 1536.69 Q1244.52 1531.54 1252.54 1531.54 Q1259.74 1531.54 1263.91 1536.18 Q1268.11 1540.8 1268.11 1548.76 M1262.25 1547.04 Q1262.19 1542.23 1259.54 1539.37 Q1256.93 1536.5 1252.61 1536.5 Q1247.7 1536.5 1244.74 1539.27 Q1241.82 1542.04 1241.37 1547.07 L1262.25 1547.04 Z\" fill=\"#000000\" fill-rule=\"evenodd\" fill-opacity=\"1\" /><path clip-path=\"url(#clip530)\" d=\"M1305.47 1539.24 Q1307.67 1535.29 1310.73 1533.41 Q1313.78 1531.54 1317.92 1531.54 Q1323.49 1531.54 1326.51 1535.45 Q1329.54 1539.33 1329.54 1546.53 L1329.54 1568.04 L1323.65 1568.04 L1323.65 1546.72 Q1323.65 1541.59 1321.83 1539.11 Q1320.02 1536.63 1316.3 1536.63 Q1311.74 1536.63 1309.1 1539.65 Q1306.46 1542.68 1306.46 1547.9 L1306.46 1568.04 L1300.57 1568.04 L1300.57 1546.72 Q1300.57 1541.56 1298.76 1539.11 Q1296.94 1536.63 1293.16 1536.63 Q1288.67 1536.63 1286.03 1539.68 Q1283.38 1542.71 1283.38 1547.9 L1283.38 1568.04 L1277.5 1568.04 L1277.5 1532.4 L1283.38 1532.4 L1283.38 1537.93 Q1285.39 1534.66 1288.19 1533.1 Q1290.99 1531.54 1294.84 1531.54 Q1298.73 1531.54 1301.43 1533.51 Q1304.17 1535.48 1305.47 1539.24 Z\" fill=\"#000000\" fill-rule=\"evenodd\" fill-opacity=\"1\" /><path clip-path=\"url(#clip530)\" d=\"M1346.88 1562.7 L1346.88 1581.6 L1340.99 1581.6 L1340.99 1532.4 L1346.88 1532.4 L1346.88 1537.81 Q1348.73 1534.62 1351.53 1533.1 Q1354.36 1531.54 1358.28 1531.54 Q1364.77 1531.54 1368.81 1536.69 Q1372.89 1541.85 1372.89 1550.25 Q1372.89 1558.65 1368.81 1563.81 Q1364.77 1568.97 1358.28 1568.97 Q1354.36 1568.97 1351.53 1567.44 Q1348.73 1565.88 1346.88 1562.7 M1366.81 1550.25 Q1366.81 1543.79 1364.13 1540.13 Q1361.49 1536.44 1356.84 1536.44 Q1352.2 1536.44 1349.52 1540.13 Q1346.88 1543.79 1346.88 1550.25 Q1346.88 1556.71 1349.52 1560.4 Q1352.2 1564.07 1356.84 1564.07 Q1361.49 1564.07 1364.13 1560.4 Q1366.81 1556.71 1366.81 1550.25 Z\" fill=\"#000000\" fill-rule=\"evenodd\" fill-opacity=\"1\" /><path clip-path=\"url(#clip530)\" d=\"M1396.41 1536.5 Q1391.7 1536.5 1388.96 1540.19 Q1386.22 1543.85 1386.22 1550.25 Q1386.22 1556.65 1388.93 1560.34 Q1391.66 1564 1396.41 1564 Q1401.09 1564 1403.82 1560.31 Q1406.56 1556.62 1406.56 1550.25 Q1406.56 1543.92 1403.82 1540.23 Q1401.09 1536.5 1396.41 1536.5 M1396.41 1531.54 Q1404.05 1531.54 1408.41 1536.5 Q1412.77 1541.47 1412.77 1550.25 Q1412.77 1559 1408.41 1564 Q1404.05 1568.97 1396.41 1568.97 Q1388.74 1568.97 1384.38 1564 Q1380.05 1559 1380.05 1550.25 Q1380.05 1541.47 1384.38 1536.5 Q1388.74 1531.54 1396.41 1531.54 Z\" fill=\"#000000\" fill-rule=\"evenodd\" fill-opacity=\"1\" /><polyline clip-path=\"url(#clip532)\" style=\"stroke:#000000; stroke-linecap:butt; stroke-linejoin:round; stroke-width:2; stroke-opacity:0.1; fill:none\" points=\"\n",
       "  262.551,1384.24 2352.76,1384.24 \n",
       "  \"/>\n",
       "<polyline clip-path=\"url(#clip532)\" style=\"stroke:#000000; stroke-linecap:butt; stroke-linejoin:round; stroke-width:2; stroke-opacity:0.1; fill:none\" points=\"\n",
       "  262.551,1056.45 2352.76,1056.45 \n",
       "  \"/>\n",
       "<polyline clip-path=\"url(#clip532)\" style=\"stroke:#000000; stroke-linecap:butt; stroke-linejoin:round; stroke-width:2; stroke-opacity:0.1; fill:none\" points=\"\n",
       "  262.551,728.656 2352.76,728.656 \n",
       "  \"/>\n",
       "<polyline clip-path=\"url(#clip532)\" style=\"stroke:#000000; stroke-linecap:butt; stroke-linejoin:round; stroke-width:2; stroke-opacity:0.1; fill:none\" points=\"\n",
       "  262.551,400.865 2352.76,400.865 \n",
       "  \"/>\n",
       "<polyline clip-path=\"url(#clip532)\" style=\"stroke:#000000; stroke-linecap:butt; stroke-linejoin:round; stroke-width:2; stroke-opacity:0.1; fill:none\" points=\"\n",
       "  262.551,73.074 2352.76,73.074 \n",
       "  \"/>\n",
       "<polyline clip-path=\"url(#clip530)\" style=\"stroke:#000000; stroke-linecap:butt; stroke-linejoin:round; stroke-width:4; stroke-opacity:1; fill:none\" points=\"\n",
       "  262.551,1423.18 262.551,47.2441 \n",
       "  \"/>\n",
       "<polyline clip-path=\"url(#clip530)\" style=\"stroke:#000000; stroke-linecap:butt; stroke-linejoin:round; stroke-width:4; stroke-opacity:1; fill:none\" points=\"\n",
       "  262.551,1384.24 287.634,1384.24 \n",
       "  \"/>\n",
       "<polyline clip-path=\"url(#clip530)\" style=\"stroke:#000000; stroke-linecap:butt; stroke-linejoin:round; stroke-width:4; stroke-opacity:1; fill:none\" points=\"\n",
       "  262.551,1056.45 287.634,1056.45 \n",
       "  \"/>\n",
       "<polyline clip-path=\"url(#clip530)\" style=\"stroke:#000000; stroke-linecap:butt; stroke-linejoin:round; stroke-width:4; stroke-opacity:1; fill:none\" points=\"\n",
       "  262.551,728.656 287.634,728.656 \n",
       "  \"/>\n",
       "<polyline clip-path=\"url(#clip530)\" style=\"stroke:#000000; stroke-linecap:butt; stroke-linejoin:round; stroke-width:4; stroke-opacity:1; fill:none\" points=\"\n",
       "  262.551,400.865 287.634,400.865 \n",
       "  \"/>\n",
       "<polyline clip-path=\"url(#clip530)\" style=\"stroke:#000000; stroke-linecap:butt; stroke-linejoin:round; stroke-width:4; stroke-opacity:1; fill:none\" points=\"\n",
       "  262.551,73.074 287.634,73.074 \n",
       "  \"/>\n",
       "<path clip-path=\"url(#clip530)\" d=\"M214.607 1370.04 Q210.996 1370.04 209.167 1373.6 Q207.362 1377.14 207.362 1384.27 Q207.362 1391.38 209.167 1394.94 Q210.996 1398.49 214.607 1398.49 Q218.241 1398.49 220.047 1394.94 Q221.875 1391.38 221.875 1384.27 Q221.875 1377.14 220.047 1373.6 Q218.241 1370.04 214.607 1370.04 M214.607 1366.33 Q220.417 1366.33 223.473 1370.94 Q226.551 1375.52 226.551 1384.27 Q226.551 1393 223.473 1397.61 Q220.417 1402.19 214.607 1402.19 Q208.797 1402.19 205.718 1397.61 Q202.662 1393 202.662 1384.27 Q202.662 1375.52 205.718 1370.94 Q208.797 1366.33 214.607 1366.33 Z\" fill=\"#000000\" fill-rule=\"evenodd\" fill-opacity=\"1\" /><path clip-path=\"url(#clip530)\" d=\"M148.311 1069.79 L164.63 1069.79 L164.63 1073.73 L142.686 1073.73 L142.686 1069.79 Q145.348 1067.04 149.931 1062.41 Q154.538 1057.76 155.718 1056.41 Q157.964 1053.89 158.843 1052.15 Q159.746 1050.39 159.746 1048.7 Q159.746 1045.95 157.802 1044.21 Q155.88 1042.48 152.778 1042.48 Q150.579 1042.48 148.126 1043.24 Q145.695 1044.01 142.917 1045.56 L142.917 1040.83 Q145.741 1039.7 148.195 1039.12 Q150.649 1038.54 152.686 1038.54 Q158.056 1038.54 161.251 1041.23 Q164.445 1043.91 164.445 1048.4 Q164.445 1050.53 163.635 1052.45 Q162.848 1054.35 160.741 1056.94 Q160.163 1057.62 157.061 1060.83 Q153.959 1064.03 148.311 1069.79 Z\" fill=\"#000000\" fill-rule=\"evenodd\" fill-opacity=\"1\" /><path clip-path=\"url(#clip530)\" d=\"M174.491 1039.17 L192.848 1039.17 L192.848 1043.1 L178.774 1043.1 L178.774 1051.57 Q179.792 1051.23 180.811 1051.07 Q181.829 1050.88 182.848 1050.88 Q188.635 1050.88 192.014 1054.05 Q195.394 1057.22 195.394 1062.64 Q195.394 1068.22 191.922 1071.32 Q188.45 1074.4 182.13 1074.4 Q179.954 1074.4 177.686 1074.03 Q175.44 1073.66 173.033 1072.92 L173.033 1068.22 Q175.116 1069.35 177.339 1069.91 Q179.561 1070.46 182.038 1070.46 Q186.042 1070.46 188.38 1068.36 Q190.718 1066.25 190.718 1062.64 Q190.718 1059.03 188.38 1056.92 Q186.042 1054.82 182.038 1054.82 Q180.163 1054.82 178.288 1055.23 Q176.436 1055.65 174.491 1056.53 L174.491 1039.17 Z\" fill=\"#000000\" fill-rule=\"evenodd\" fill-opacity=\"1\" /><path clip-path=\"url(#clip530)\" d=\"M214.607 1042.25 Q210.996 1042.25 209.167 1045.81 Q207.362 1049.35 207.362 1056.48 Q207.362 1063.59 209.167 1067.15 Q210.996 1070.69 214.607 1070.69 Q218.241 1070.69 220.047 1067.15 Q221.875 1063.59 221.875 1056.48 Q221.875 1049.35 220.047 1045.81 Q218.241 1042.25 214.607 1042.25 M214.607 1038.54 Q220.417 1038.54 223.473 1043.15 Q226.551 1047.73 226.551 1056.48 Q226.551 1065.21 223.473 1069.82 Q220.417 1074.4 214.607 1074.4 Q208.797 1074.4 205.718 1069.82 Q202.662 1065.21 202.662 1056.48 Q202.662 1047.73 205.718 1043.15 Q208.797 1038.54 214.607 1038.54 Z\" fill=\"#000000\" fill-rule=\"evenodd\" fill-opacity=\"1\" /><path clip-path=\"url(#clip530)\" d=\"M144.329 711.376 L162.686 711.376 L162.686 715.311 L148.612 715.311 L148.612 723.783 Q149.63 723.436 150.649 723.274 Q151.667 723.089 152.686 723.089 Q158.473 723.089 161.852 726.26 Q165.232 729.432 165.232 734.848 Q165.232 740.427 161.76 743.529 Q158.288 746.607 151.968 746.607 Q149.792 746.607 147.524 746.237 Q145.279 745.867 142.871 745.126 L142.871 740.427 Q144.954 741.561 147.177 742.117 Q149.399 742.672 151.876 742.672 Q155.88 742.672 158.218 740.566 Q160.556 738.459 160.556 734.848 Q160.556 731.237 158.218 729.131 Q155.88 727.024 151.876 727.024 Q150.001 727.024 148.126 727.441 Q146.274 727.858 144.329 728.737 L144.329 711.376 Z\" fill=\"#000000\" fill-rule=\"evenodd\" fill-opacity=\"1\" /><path clip-path=\"url(#clip530)\" d=\"M184.445 714.455 Q180.834 714.455 179.005 718.02 Q177.2 721.561 177.2 728.691 Q177.2 735.797 179.005 739.362 Q180.834 742.904 184.445 742.904 Q188.079 742.904 189.885 739.362 Q191.713 735.797 191.713 728.691 Q191.713 721.561 189.885 718.02 Q188.079 714.455 184.445 714.455 M184.445 710.751 Q190.255 710.751 193.311 715.358 Q196.389 719.941 196.389 728.691 Q196.389 737.418 193.311 742.024 Q190.255 746.607 184.445 746.607 Q178.635 746.607 175.556 742.024 Q172.501 737.418 172.501 728.691 Q172.501 719.941 175.556 715.358 Q178.635 710.751 184.445 710.751 Z\" fill=\"#000000\" fill-rule=\"evenodd\" fill-opacity=\"1\" /><path clip-path=\"url(#clip530)\" d=\"M214.607 714.455 Q210.996 714.455 209.167 718.02 Q207.362 721.561 207.362 728.691 Q207.362 735.797 209.167 739.362 Q210.996 742.904 214.607 742.904 Q218.241 742.904 220.047 739.362 Q221.875 735.797 221.875 728.691 Q221.875 721.561 220.047 718.02 Q218.241 714.455 214.607 714.455 M214.607 710.751 Q220.417 710.751 223.473 715.358 Q226.551 719.941 226.551 728.691 Q226.551 737.418 223.473 742.024 Q220.417 746.607 214.607 746.607 Q208.797 746.607 205.718 742.024 Q202.662 737.418 202.662 728.691 Q202.662 719.941 205.718 715.358 Q208.797 710.751 214.607 710.751 Z\" fill=\"#000000\" fill-rule=\"evenodd\" fill-opacity=\"1\" /><path clip-path=\"url(#clip530)\" d=\"M143.103 383.585 L165.325 383.585 L165.325 385.576 L152.778 418.145 L147.894 418.145 L159.7 387.52 L143.103 387.52 L143.103 383.585 Z\" fill=\"#000000\" fill-rule=\"evenodd\" fill-opacity=\"1\" /><path clip-path=\"url(#clip530)\" d=\"M174.491 383.585 L192.848 383.585 L192.848 387.52 L178.774 387.52 L178.774 395.992 Q179.792 395.645 180.811 395.483 Q181.829 395.298 182.848 395.298 Q188.635 395.298 192.014 398.469 Q195.394 401.641 195.394 407.057 Q195.394 412.636 191.922 415.738 Q188.45 418.816 182.13 418.816 Q179.954 418.816 177.686 418.446 Q175.44 418.076 173.033 417.335 L173.033 412.636 Q175.116 413.77 177.339 414.326 Q179.561 414.881 182.038 414.881 Q186.042 414.881 188.38 412.775 Q190.718 410.668 190.718 407.057 Q190.718 403.446 188.38 401.34 Q186.042 399.233 182.038 399.233 Q180.163 399.233 178.288 399.65 Q176.436 400.066 174.491 400.946 L174.491 383.585 Z\" fill=\"#000000\" fill-rule=\"evenodd\" fill-opacity=\"1\" /><path clip-path=\"url(#clip530)\" d=\"M214.607 386.664 Q210.996 386.664 209.167 390.229 Q207.362 393.77 207.362 400.9 Q207.362 408.006 209.167 411.571 Q210.996 415.113 214.607 415.113 Q218.241 415.113 220.047 411.571 Q221.875 408.006 221.875 400.9 Q221.875 393.77 220.047 390.229 Q218.241 386.664 214.607 386.664 M214.607 382.96 Q220.417 382.96 223.473 387.567 Q226.551 392.15 226.551 400.9 Q226.551 409.627 223.473 414.233 Q220.417 418.816 214.607 418.816 Q208.797 418.816 205.718 414.233 Q202.662 409.627 202.662 400.9 Q202.662 392.15 205.718 387.567 Q208.797 382.96 214.607 382.96 Z\" fill=\"#000000\" fill-rule=\"evenodd\" fill-opacity=\"1\" /><path clip-path=\"url(#clip530)\" d=\"M114.931 86.4189 L122.57 86.4189 L122.57 60.0533 L114.26 61.7199 L114.26 57.4607 L122.524 55.794 L127.2 55.794 L127.2 86.4189 L134.839 86.4189 L134.839 90.354 L114.931 90.354 L114.931 86.4189 Z\" fill=\"#000000\" fill-rule=\"evenodd\" fill-opacity=\"1\" /><path clip-path=\"url(#clip530)\" d=\"M154.283 58.8727 Q150.672 58.8727 148.843 62.4375 Q147.038 65.9792 147.038 73.1088 Q147.038 80.2152 148.843 83.78 Q150.672 87.3216 154.283 87.3216 Q157.917 87.3216 159.723 83.78 Q161.552 80.2152 161.552 73.1088 Q161.552 65.9792 159.723 62.4375 Q157.917 58.8727 154.283 58.8727 M154.283 55.169 Q160.093 55.169 163.149 59.7755 Q166.227 64.3588 166.227 73.1088 Q166.227 81.8356 163.149 86.442 Q160.093 91.0253 154.283 91.0253 Q148.473 91.0253 145.394 86.442 Q142.339 81.8356 142.339 73.1088 Q142.339 64.3588 145.394 59.7755 Q148.473 55.169 154.283 55.169 Z\" fill=\"#000000\" fill-rule=\"evenodd\" fill-opacity=\"1\" /><path clip-path=\"url(#clip530)\" d=\"M184.445 58.8727 Q180.834 58.8727 179.005 62.4375 Q177.2 65.9792 177.2 73.1088 Q177.2 80.2152 179.005 83.78 Q180.834 87.3216 184.445 87.3216 Q188.079 87.3216 189.885 83.78 Q191.713 80.2152 191.713 73.1088 Q191.713 65.9792 189.885 62.4375 Q188.079 58.8727 184.445 58.8727 M184.445 55.169 Q190.255 55.169 193.311 59.7755 Q196.389 64.3588 196.389 73.1088 Q196.389 81.8356 193.311 86.442 Q190.255 91.0253 184.445 91.0253 Q178.635 91.0253 175.556 86.442 Q172.501 81.8356 172.501 73.1088 Q172.501 64.3588 175.556 59.7755 Q178.635 55.169 184.445 55.169 Z\" fill=\"#000000\" fill-rule=\"evenodd\" fill-opacity=\"1\" /><path clip-path=\"url(#clip530)\" d=\"M214.607 58.8727 Q210.996 58.8727 209.167 62.4375 Q207.362 65.9792 207.362 73.1088 Q207.362 80.2152 209.167 83.78 Q210.996 87.3216 214.607 87.3216 Q218.241 87.3216 220.047 83.78 Q221.875 80.2152 221.875 73.1088 Q221.875 65.9792 220.047 62.4375 Q218.241 58.8727 214.607 58.8727 M214.607 55.169 Q220.417 55.169 223.473 59.7755 Q226.551 64.3588 226.551 73.1088 Q226.551 81.8356 223.473 86.442 Q220.417 91.0253 214.607 91.0253 Q208.797 91.0253 205.718 86.442 Q202.662 81.8356 202.662 73.1088 Q202.662 64.3588 205.718 59.7755 Q208.797 55.169 214.607 55.169 Z\" fill=\"#000000\" fill-rule=\"evenodd\" fill-opacity=\"1\" /><path clip-path=\"url(#clip530)\" d=\"M16.4842 859.693 L16.4842 851.036 L56.238 829.966 L16.4842 829.966 L16.4842 823.727 L64.0042 823.727 L64.0042 832.384 L24.2503 853.455 L64.0042 853.455 L64.0042 859.693 L16.4842 859.693 Z\" fill=\"#000000\" fill-rule=\"evenodd\" fill-opacity=\"1\" /><path clip-path=\"url(#clip530)\" d=\"M49.9359 811.791 L28.3562 811.791 L28.3562 805.935 L49.7131 805.935 Q54.7739 805.935 57.3202 803.962 Q59.8346 801.988 59.8346 798.041 Q59.8346 793.299 56.8109 790.562 Q53.7872 787.793 48.5673 787.793 L28.3562 787.793 L28.3562 781.936 L64.0042 781.936 L64.0042 787.793 L58.5296 787.793 Q61.7762 789.925 63.3676 792.758 Q64.9272 795.559 64.9272 799.283 Q64.9272 805.426 61.1078 808.609 Q57.2883 811.791 49.9359 811.791 M27.4968 797.055 L27.4968 797.055 M11.869 792.694 L11.869 786.36 L23.8365 796.737 L23.8365 801.606 L11.869 792.694 Z\" fill=\"#000000\" fill-rule=\"evenodd\" fill-opacity=\"1\" /><path clip-path=\"url(#clip530)\" d=\"M35.1993 742.119 Q31.2526 739.923 29.3747 736.867 Q27.4968 733.812 27.4968 729.674 Q27.4968 724.104 31.4117 721.08 Q35.2948 718.056 42.4881 718.056 L64.0042 718.056 L64.0042 723.945 L42.679 723.945 Q37.5546 723.945 35.072 725.759 Q32.5894 727.573 32.5894 731.297 Q32.5894 735.849 35.6131 738.49 Q38.6368 741.132 43.8567 741.132 L64.0042 741.132 L64.0042 747.02 L42.679 747.02 Q37.5228 747.02 35.072 748.835 Q32.5894 750.649 32.5894 754.436 Q32.5894 758.924 35.6449 761.566 Q38.6686 764.208 43.8567 764.208 L64.0042 764.208 L64.0042 770.096 L28.3562 770.096 L28.3562 764.208 L33.8944 764.208 Q30.616 762.203 29.0564 759.402 Q27.4968 756.601 27.4968 752.749 Q27.4968 748.866 29.4702 746.161 Q31.4436 743.424 35.1993 742.119 Z\" fill=\"#000000\" fill-rule=\"evenodd\" fill-opacity=\"1\" /><path clip-path=\"url(#clip530)\" d=\"M44.7161 675.884 L47.5806 675.884 L47.5806 702.811 Q53.6281 702.429 56.8109 699.182 Q59.9619 695.904 59.9619 690.079 Q59.9619 686.705 59.1344 683.554 Q58.3069 680.371 56.6518 677.252 L62.1899 677.252 Q63.5267 680.403 64.227 683.713 Q64.9272 687.024 64.9272 690.429 Q64.9272 698.959 59.9619 703.956 Q54.9967 708.922 46.5303 708.922 Q37.7774 708.922 32.6531 704.211 Q27.4968 699.469 27.4968 691.448 Q27.4968 684.254 32.1438 680.085 Q36.7589 675.884 44.7161 675.884 M42.9973 681.74 Q38.1912 681.804 35.3266 684.445 Q32.4621 687.055 32.4621 691.384 Q32.4621 696.286 35.2312 699.246 Q38.0002 702.174 43.0292 702.62 L42.9973 681.74 Z\" fill=\"#000000\" fill-rule=\"evenodd\" fill-opacity=\"1\" /><path clip-path=\"url(#clip530)\" d=\"M33.8307 645.615 Q33.2578 646.601 33.0032 647.779 Q32.7167 648.925 32.7167 650.325 Q32.7167 655.291 35.9632 657.964 Q39.1779 660.606 45.2253 660.606 L64.0042 660.606 L64.0042 666.494 L28.3562 666.494 L28.3562 660.606 L33.8944 660.606 Q30.6479 658.76 29.0883 655.8 Q27.4968 652.84 27.4968 648.607 Q27.4968 648.002 27.5923 647.27 Q27.656 646.538 27.8151 645.646 L33.8307 645.615 Z\" fill=\"#000000\" fill-rule=\"evenodd\" fill-opacity=\"1\" /><path clip-path=\"url(#clip530)\" d=\"M32.4621 627.09 Q32.4621 631.801 36.1542 634.538 Q39.8145 637.276 46.212 637.276 Q52.6095 637.276 56.3017 634.57 Q59.9619 631.833 59.9619 627.09 Q59.9619 622.412 56.2698 619.674 Q52.5777 616.937 46.212 616.937 Q39.8781 616.937 36.186 619.674 Q32.4621 622.412 32.4621 627.09 M27.4968 627.09 Q27.4968 619.452 32.4621 615.091 Q37.4273 610.731 46.212 610.731 Q54.9649 610.731 59.9619 615.091 Q64.9272 619.452 64.9272 627.09 Q64.9272 634.761 59.9619 639.122 Q54.9649 643.45 46.212 643.45 Q37.4273 643.45 32.4621 639.122 Q27.4968 634.761 27.4968 627.09 Z\" fill=\"#000000\" fill-rule=\"evenodd\" fill-opacity=\"1\" /><polyline clip-path=\"url(#clip532)\" style=\"stroke:#009af9; stroke-linecap:butt; stroke-linejoin:round; stroke-width:4; stroke-opacity:1; fill:none\" points=\"\n",
       "  321.708,86.1857 326.638,86.8425 331.567,87.5153 336.497,88.2044 341.427,88.9102 346.357,89.633 351.286,90.3732 356.216,91.1312 361.146,91.9073 366.076,92.7021 \n",
       "  371.005,93.5159 375.935,94.3491 380.865,95.2021 385.794,96.0755 390.724,96.9695 395.654,97.8847 400.584,98.8214 405.513,99.7803 410.443,100.762 415.373,101.766 \n",
       "  420.303,102.794 425.232,103.846 430.162,104.922 435.092,106.023 440.021,107.15 444.951,108.303 449.881,109.482 454.811,110.688 459.74,111.922 464.67,113.184 \n",
       "  469.6,114.475 474.53,115.795 479.459,117.145 484.389,118.525 489.319,119.936 494.248,121.378 499.178,122.853 504.108,124.36 509.038,125.901 513.967,127.475 \n",
       "  518.897,129.084 523.827,130.728 528.757,132.408 533.686,134.123 538.616,135.876 543.546,137.667 548.475,139.495 553.405,141.363 558.335,143.269 563.265,145.216 \n",
       "  568.194,147.204 573.124,149.232 578.054,151.303 582.984,153.416 587.913,155.572 592.843,157.772 597.773,160.016 602.702,162.305 607.632,164.64 612.562,167.021 \n",
       "  617.492,169.448 622.421,171.923 627.351,174.446 632.281,177.017 637.211,179.637 642.14,182.307 647.07,185.027 652,187.798 656.929,190.62 661.859,193.494 \n",
       "  666.789,196.419 671.719,199.398 676.648,202.429 681.578,205.513 686.508,208.652 691.438,211.845 696.367,215.092 701.297,218.394 706.227,221.751 711.156,225.164 \n",
       "  716.086,228.633 721.016,232.158 725.946,235.739 730.875,239.377 735.805,243.072 740.735,246.823 745.665,250.631 750.594,254.496 755.524,258.418 760.454,262.397 \n",
       "  765.383,266.434 770.313,270.527 775.243,274.676 780.173,278.883 785.102,283.146 790.032,287.465 794.962,291.84 799.892,296.27 804.821,300.756 809.751,305.297 \n",
       "  814.681,309.891 819.61,314.54 824.54,319.242 829.47,323.997 834.4,328.804 839.329,333.662 844.259,338.572 849.189,343.531 854.119,348.54 859.048,353.597 \n",
       "  863.978,358.703 868.908,363.855 873.837,369.054 878.767,374.297 883.697,379.584 888.627,384.914 893.556,390.286 898.486,395.697 903.416,401.148 908.346,406.636 \n",
       "  913.275,412.16 918.205,417.72 923.135,423.313 928.065,428.938 932.994,434.595 937.924,440.281 942.854,445.995 947.783,451.735 952.713,457.501 957.643,463.291 \n",
       "  962.573,469.103 967.502,474.935 972.432,480.787 977.362,486.656 982.292,492.541 987.221,498.44 992.151,504.352 997.081,510.275 1002.01,516.208 1006.94,522.148 \n",
       "  1011.87,528.094 1016.8,534.044 1021.73,539.997 1026.66,545.95 1031.59,551.903 1036.52,557.853 1041.45,563.799 1046.38,569.74 1051.31,575.674 1056.24,581.6 \n",
       "  1061.17,587.514 1066.1,593.417 1071.03,599.306 1075.96,605.18 1080.89,611.037 1085.82,616.876 1090.75,622.695 1095.68,628.493 1100.6,634.269 1105.53,640.021 \n",
       "  1110.46,645.749 1115.39,651.45 1120.32,657.123 1125.25,662.768 1130.18,668.383 1135.11,673.967 1140.04,679.519 1144.97,685.038 1149.9,690.523 1154.83,695.973 \n",
       "  1159.76,701.387 1164.69,706.764 1169.62,712.103 1174.55,717.403 1179.48,722.664 1184.41,727.884 1189.34,733.064 1194.27,738.202 1199.2,743.297 1204.13,748.35 \n",
       "  1209.06,753.359 1213.99,758.324 1218.92,763.244 1223.85,768.119 1228.78,772.947 1233.71,777.73 1238.64,782.466 1243.57,787.156 1248.5,791.798 1253.43,796.394 \n",
       "  1258.36,800.942 1263.29,805.443 1268.22,809.896 1273.15,814.301 1278.08,818.659 1283,822.969 1287.93,827.23 1292.86,831.444 1297.79,835.61 1302.72,839.728 \n",
       "  1307.65,843.798 1312.58,847.82 1317.51,851.794 1322.44,855.72 1327.37,859.599 1332.3,863.43 1337.23,867.213 1342.16,870.95 1347.09,874.639 1352.02,878.281 \n",
       "  1356.95,881.877 1361.88,885.426 1366.81,888.929 1371.74,892.386 1376.67,895.798 1381.6,899.164 1386.53,902.485 1391.46,905.762 1396.39,908.995 1401.32,912.183 \n",
       "  1406.25,915.328 1411.18,918.431 1416.11,921.491 1421.04,924.508 1425.97,927.484 1430.9,930.418 1435.83,933.311 1440.76,936.162 1445.69,938.974 1450.62,941.745 \n",
       "  1455.55,944.476 1460.48,947.168 1465.4,949.822 1470.33,952.438 1475.26,955.016 1480.19,957.556 1485.12,960.06 1490.05,962.528 1494.98,964.959 1499.91,967.355 \n",
       "  1504.84,969.716 1509.77,972.042 1514.7,974.334 1519.63,976.593 1524.56,978.818 1529.49,981.01 1534.42,983.169 1539.35,985.297 1544.28,987.393 1549.21,989.457 \n",
       "  1554.14,991.491 1559.07,993.494 1564,995.467 1568.93,997.41 1573.86,999.325 1578.79,1001.21 1583.72,1003.07 1588.65,1004.89 1593.58,1006.7 1598.51,1008.47 \n",
       "  1603.44,1010.22 1608.37,1011.94 1613.3,1013.63 1618.23,1015.3 1623.16,1016.94 1628.09,1018.56 1633.02,1020.15 1637.95,1021.72 1642.88,1023.26 1647.8,1024.78 \n",
       "  1652.73,1026.27 1657.66,1027.75 1662.59,1029.2 1667.52,1030.63 1672.45,1032.03 1677.38,1033.42 1682.31,1034.78 1687.24,1036.12 1692.17,1037.44 1697.1,1038.74 \n",
       "  1702.03,1040.02 1706.96,1041.28 1711.89,1042.52 1716.82,1043.75 1721.75,1044.95 1726.68,1046.13 1731.61,1047.3 1736.54,1048.45 1741.47,1049.58 1746.4,1050.69 \n",
       "  1751.33,1051.79 1756.26,1052.86 1761.19,1053.93 1766.12,1054.97 1771.05,1056 1775.98,1057.01 1780.91,1058.01 1785.84,1058.99 1790.77,1059.96 1795.7,1060.91 \n",
       "  1800.63,1061.85 1805.56,1062.77 1810.49,1063.68 1815.42,1064.58 1820.35,1065.46 1825.28,1066.32 1830.2,1067.18 1835.13,1068.02 1840.06,1068.85 1844.99,1069.66 \n",
       "  1849.92,1070.46 1854.85,1071.25 1859.78,1072.03 1864.71,1072.8 1869.64,1073.55 1874.57,1074.29 1879.5,1075.02 1884.43,1075.74 1889.36,1076.45 1894.29,1077.15 \n",
       "  1899.22,1077.83 1904.15,1078.51 1909.08,1079.18 1914.01,1079.83 1918.94,1080.48 1923.87,1081.11 1928.8,1081.74 1933.73,1082.35 1938.66,1082.96 1943.59,1083.56 \n",
       "  1948.52,1084.15 1953.45,1084.73 1958.38,1085.3 1963.31,1085.86 1968.24,1086.41 1973.17,1086.96 1978.1,1087.5 1983.03,1088.02 1987.96,1088.55 1992.89,1089.06 \n",
       "  1997.82,1089.56 2002.75,1090.06 2007.67,1090.55 2012.6,1091.03 2017.53,1091.5 2022.46,1091.97 2027.39,1092.43 2032.32,1092.88 2037.25,1093.32 2042.18,1093.76 \n",
       "  2047.11,1094.19 2052.04,1094.62 2056.97,1095.04 2061.9,1095.45 2066.83,1095.85 2071.76,1096.25 2076.69,1096.65 2081.62,1097.03 2086.55,1097.41 2091.48,1097.79 \n",
       "  2096.41,1098.16 2101.34,1098.52 2106.27,1098.88 2111.2,1099.23 2116.13,1099.58 2121.06,1099.92 2125.99,1100.25 2130.92,1100.58 2135.85,1100.91 2140.78,1101.23 \n",
       "  2145.71,1101.55 2150.64,1101.86 2155.57,1102.16 2160.5,1102.47 2165.43,1102.76 2170.36,1103.05 2175.29,1103.34 2180.22,1103.63 2185.15,1103.91 2190.07,1104.18 \n",
       "  2195,1104.45 2199.93,1104.72 2204.86,1104.98 2209.79,1105.24 2214.72,1105.5 2219.65,1105.75 2224.58,1106 2229.51,1106.24 2234.44,1106.48 2239.37,1106.72 \n",
       "  2244.3,1106.95 2249.23,1107.18 2254.16,1107.41 2259.09,1107.63 2264.02,1107.85 2268.95,1108.07 2273.88,1108.28 2278.81,1108.49 2283.74,1108.7 2288.67,1108.9 \n",
       "  2293.6,1109.1 \n",
       "  \"/>\n",
       "<polyline clip-path=\"url(#clip532)\" style=\"stroke:#e26f46; stroke-linecap:butt; stroke-linejoin:round; stroke-width:4; stroke-opacity:1; fill:none\" points=\"\n",
       "  321.708,1371.13 326.638,1370.8 331.567,1370.47 336.497,1370.13 341.427,1369.78 346.357,1369.42 351.286,1369.06 356.216,1368.68 361.146,1368.3 366.076,1367.91 \n",
       "  371.005,1367.51 375.935,1367.1 380.865,1366.68 385.794,1366.25 390.724,1365.81 395.654,1365.36 400.584,1364.9 405.513,1364.43 410.443,1363.95 415.373,1363.46 \n",
       "  420.303,1362.96 425.232,1362.45 430.162,1361.92 435.092,1361.39 440.021,1360.84 444.951,1360.28 449.881,1359.7 454.811,1359.12 459.74,1358.52 464.67,1357.91 \n",
       "  469.6,1357.28 474.53,1356.64 479.459,1355.99 484.389,1355.33 489.319,1354.65 494.248,1353.95 499.178,1353.24 504.108,1352.52 509.038,1351.78 513.967,1351.03 \n",
       "  518.897,1350.26 523.827,1349.48 528.757,1348.67 533.686,1347.86 538.616,1347.03 543.546,1346.18 548.475,1345.31 553.405,1344.43 558.335,1343.53 563.265,1342.61 \n",
       "  568.194,1341.67 573.124,1340.72 578.054,1339.75 582.984,1338.76 587.913,1337.76 592.843,1336.73 597.773,1335.69 602.702,1334.62 607.632,1333.54 612.562,1332.44 \n",
       "  617.492,1331.33 622.421,1330.19 627.351,1329.03 632.281,1327.85 637.211,1326.66 642.14,1325.44 647.07,1324.21 652,1322.95 656.929,1321.68 661.859,1320.39 \n",
       "  666.789,1319.07 671.719,1317.74 676.648,1316.39 681.578,1315.02 686.508,1313.63 691.438,1312.22 696.367,1310.79 701.297,1309.34 706.227,1307.87 711.156,1306.39 \n",
       "  716.086,1304.88 721.016,1303.36 725.946,1301.82 730.875,1300.26 735.805,1298.69 740.735,1297.1 745.665,1295.49 750.594,1293.86 755.524,1292.22 760.454,1290.56 \n",
       "  765.383,1288.89 770.313,1287.2 775.243,1285.5 780.173,1283.78 785.102,1282.05 790.032,1280.31 794.962,1278.55 799.892,1276.79 804.821,1275.01 809.751,1273.22 \n",
       "  814.681,1271.43 819.61,1269.62 824.54,1267.81 829.47,1265.98 834.4,1264.16 839.329,1262.32 844.259,1260.48 849.189,1258.64 854.119,1256.8 859.048,1254.95 \n",
       "  863.978,1253.1 868.908,1251.25 873.837,1249.4 878.767,1247.55 883.697,1245.7 888.627,1243.86 893.556,1242.02 898.486,1240.19 903.416,1238.36 908.346,1236.54 \n",
       "  913.275,1234.73 918.205,1232.93 923.135,1231.15 928.065,1229.37 932.994,1227.61 937.924,1225.86 942.854,1224.13 947.783,1222.41 952.713,1220.71 957.643,1219.03 \n",
       "  962.573,1217.37 967.502,1215.73 972.432,1214.11 977.362,1212.51 982.292,1210.94 987.221,1209.39 992.151,1207.87 997.081,1206.38 1002.01,1204.91 1006.94,1203.47 \n",
       "  1011.87,1202.06 1016.8,1200.68 1021.73,1199.33 1026.66,1198.02 1031.59,1196.74 1036.52,1195.49 1041.45,1194.28 1046.38,1193.1 1051.31,1191.96 1056.24,1190.86 \n",
       "  1061.17,1189.79 1066.1,1188.77 1071.03,1187.78 1075.96,1186.83 1080.89,1185.92 1085.82,1185.05 1090.75,1184.22 1095.68,1183.43 1100.6,1182.68 1105.53,1181.98 \n",
       "  1110.46,1181.32 1115.39,1180.7 1120.32,1180.12 1125.25,1179.58 1130.18,1179.09 1135.11,1178.64 1140.04,1178.23 1144.97,1177.86 1149.9,1177.54 1154.83,1177.26 \n",
       "  1159.76,1177.03 1164.69,1176.83 1169.62,1176.68 1174.55,1176.57 1179.48,1176.5 1184.41,1176.47 1189.34,1176.49 1194.27,1176.54 1199.2,1176.64 1204.13,1176.78 \n",
       "  1209.06,1176.95 1213.99,1177.17 1218.92,1177.42 1223.85,1177.71 1228.78,1178.04 1233.71,1178.41 1238.64,1178.82 1243.57,1179.26 1248.5,1179.73 1253.43,1180.24 \n",
       "  1258.36,1180.79 1263.29,1181.37 1268.22,1181.98 1273.15,1182.62 1278.08,1183.3 1283,1184 1287.93,1184.73 1292.86,1185.5 1297.79,1186.29 1302.72,1187.11 \n",
       "  1307.65,1187.96 1312.58,1188.83 1317.51,1189.73 1322.44,1190.66 1327.37,1191.61 1332.3,1192.58 1337.23,1193.58 1342.16,1194.59 1347.09,1195.63 1352.02,1196.69 \n",
       "  1356.95,1197.77 1361.88,1198.87 1366.81,1199.99 1371.74,1201.12 1376.67,1202.27 1381.6,1203.44 1386.53,1204.63 1391.46,1205.83 1396.39,1207.04 1401.32,1208.27 \n",
       "  1406.25,1209.5 1411.18,1210.75 1416.11,1212.02 1421.04,1213.29 1425.97,1214.57 1430.9,1215.86 1435.83,1217.16 1440.76,1218.47 1445.69,1219.78 1450.62,1221.1 \n",
       "  1455.55,1222.43 1460.48,1223.77 1465.4,1225.1 1470.33,1226.45 1475.26,1227.8 1480.19,1229.15 1485.12,1230.5 1490.05,1231.86 1494.98,1233.22 1499.91,1234.58 \n",
       "  1504.84,1235.94 1509.77,1237.3 1514.7,1238.67 1519.63,1240.03 1524.56,1241.39 1529.49,1242.76 1534.42,1244.12 1539.35,1245.48 1544.28,1246.83 1549.21,1248.19 \n",
       "  1554.14,1249.54 1559.07,1250.89 1564,1252.23 1568.93,1253.57 1573.86,1254.91 1578.79,1256.24 1583.72,1257.57 1588.65,1258.9 1593.58,1260.21 1598.51,1261.53 \n",
       "  1603.44,1262.83 1608.37,1264.13 1613.3,1265.43 1618.23,1266.72 1623.16,1268 1628.09,1269.27 1633.02,1270.54 1637.95,1271.8 1642.88,1273.05 1647.8,1274.3 \n",
       "  1652.73,1275.54 1657.66,1276.77 1662.59,1277.99 1667.52,1279.2 1672.45,1280.41 1677.38,1281.6 1682.31,1282.79 1687.24,1283.97 1692.17,1285.14 1697.1,1286.3 \n",
       "  1702.03,1287.46 1706.96,1288.6 1711.89,1289.74 1716.82,1290.86 1721.75,1291.98 1726.68,1293.09 1731.61,1294.19 1736.54,1295.28 1741.47,1296.36 1746.4,1297.43 \n",
       "  1751.33,1298.49 1756.26,1299.54 1761.19,1300.58 1766.12,1301.62 1771.05,1302.64 1775.98,1303.65 1780.91,1304.66 1785.84,1305.65 1790.77,1306.64 1795.7,1307.61 \n",
       "  1800.63,1308.58 1805.56,1309.54 1810.49,1310.49 1815.42,1311.42 1820.35,1312.35 1825.28,1313.27 1830.2,1314.18 1835.13,1315.08 1840.06,1315.97 1844.99,1316.85 \n",
       "  1849.92,1317.72 1854.85,1318.58 1859.78,1319.44 1864.71,1320.28 1869.64,1321.12 1874.57,1321.94 1879.5,1322.76 1884.43,1323.57 1889.36,1324.36 1894.29,1325.15 \n",
       "  1899.22,1325.93 1904.15,1326.71 1909.08,1327.47 1914.01,1328.22 1918.94,1328.97 1923.87,1329.71 1928.8,1330.44 1933.73,1331.16 1938.66,1331.87 1943.59,1332.57 \n",
       "  1948.52,1333.27 1953.45,1333.96 1958.38,1334.64 1963.31,1335.31 1968.24,1335.97 1973.17,1336.63 1978.1,1337.28 1983.03,1337.92 1987.96,1338.55 1992.89,1339.17 \n",
       "  1997.82,1339.79 2002.75,1340.4 2007.67,1341 2012.6,1341.59 2017.53,1342.18 2022.46,1342.76 2027.39,1343.33 2032.32,1343.9 2037.25,1344.46 2042.18,1345.01 \n",
       "  2047.11,1345.55 2052.04,1346.09 2056.97,1346.62 2061.9,1347.14 2066.83,1347.66 2071.76,1348.17 2076.69,1348.67 2081.62,1349.17 2086.55,1349.66 2091.48,1350.14 \n",
       "  2096.41,1350.62 2101.34,1351.09 2106.27,1351.55 2111.2,1352.01 2116.13,1352.47 2121.06,1352.91 2125.99,1353.35 2130.92,1353.79 2135.85,1354.22 2140.78,1354.64 \n",
       "  2145.71,1355.06 2150.64,1355.47 2155.57,1355.87 2160.5,1356.27 2165.43,1356.67 2170.36,1357.06 2175.29,1357.44 2180.22,1357.82 2185.15,1358.19 2190.07,1358.56 \n",
       "  2195,1358.93 2199.93,1359.29 2204.86,1359.64 2209.79,1359.99 2214.72,1360.33 2219.65,1360.67 2224.58,1361.01 2229.51,1361.34 2234.44,1361.67 2239.37,1361.99 \n",
       "  2244.3,1362.31 2249.23,1362.62 2254.16,1362.93 2259.09,1363.24 2264.02,1363.54 2268.95,1363.84 2273.88,1364.13 2278.81,1364.42 2283.74,1364.7 2288.67,1364.98 \n",
       "  2293.6,1365.26 \n",
       "  \"/>\n",
       "<polyline clip-path=\"url(#clip532)\" style=\"stroke:#3da44d; stroke-linecap:butt; stroke-linejoin:round; stroke-width:4; stroke-opacity:1; fill:none\" points=\"\n",
       "  321.708,1384.24 326.638,1383.91 331.567,1383.57 336.497,1383.22 341.427,1382.86 346.357,1382.49 351.286,1382.12 356.216,1381.74 361.146,1381.34 366.076,1380.94 \n",
       "  371.005,1380.53 375.935,1380.1 380.865,1379.67 385.794,1379.22 390.724,1378.77 395.654,1378.3 400.584,1377.83 405.513,1377.34 410.443,1376.84 415.373,1376.32 \n",
       "  420.303,1375.8 425.232,1375.26 430.162,1374.71 435.092,1374.14 440.021,1373.56 444.951,1372.97 449.881,1372.37 454.811,1371.74 459.74,1371.11 464.67,1370.46 \n",
       "  469.6,1369.79 474.53,1369.11 479.459,1368.41 484.389,1367.7 489.319,1366.97 494.248,1366.22 499.178,1365.45 504.108,1364.67 509.038,1363.87 513.967,1363.05 \n",
       "  518.897,1362.21 523.827,1361.35 528.757,1360.47 533.686,1359.57 538.616,1358.65 543.546,1357.71 548.475,1356.75 553.405,1355.76 558.335,1354.75 563.265,1353.73 \n",
       "  568.194,1352.67 573.124,1351.6 578.054,1350.5 582.984,1349.37 587.913,1348.22 592.843,1347.05 597.773,1345.85 602.702,1344.62 607.632,1343.37 612.562,1342.09 \n",
       "  617.492,1340.78 622.421,1339.44 627.351,1338.07 632.281,1336.68 637.211,1335.26 642.14,1333.8 647.07,1332.32 652,1330.8 656.929,1329.25 661.859,1327.67 \n",
       "  666.789,1326.06 671.719,1324.41 676.648,1322.73 681.578,1321.02 686.508,1319.27 691.438,1317.49 696.367,1315.67 701.297,1313.82 706.227,1311.93 711.156,1310 \n",
       "  716.086,1308.03 721.016,1306.03 725.946,1303.99 730.875,1301.91 735.805,1299.79 740.735,1297.63 745.665,1295.43 750.594,1293.19 755.524,1290.91 760.454,1288.59 \n",
       "  765.383,1286.23 770.313,1283.83 775.243,1281.38 780.173,1278.89 785.102,1276.35 790.032,1273.78 794.962,1271.16 799.892,1268.49 804.821,1265.78 809.751,1263.03 \n",
       "  814.681,1260.23 819.61,1257.39 824.54,1254.5 829.47,1251.57 834.4,1248.59 839.329,1245.57 844.259,1242.49 849.189,1239.38 854.119,1236.21 859.048,1233.01 \n",
       "  863.978,1229.75 868.908,1226.45 873.837,1223.1 878.767,1219.71 883.697,1216.27 888.627,1212.78 893.556,1209.25 898.486,1205.67 903.416,1202.04 908.346,1198.37 \n",
       "  913.275,1194.66 918.205,1190.9 923.135,1187.09 928.065,1183.24 932.994,1179.35 937.924,1175.41 942.854,1171.43 947.783,1167.41 952.713,1163.34 957.643,1159.23 \n",
       "  962.573,1155.08 967.502,1150.89 972.432,1146.65 977.362,1142.38 982.292,1138.07 987.221,1133.72 992.151,1129.33 997.081,1124.9 1002.01,1120.43 1006.94,1115.93 \n",
       "  1011.87,1111.4 1016.8,1106.82 1021.73,1102.22 1026.66,1097.58 1031.59,1092.91 1036.52,1088.2 1041.45,1083.47 1046.38,1078.71 1051.31,1073.91 1056.24,1069.09 \n",
       "  1061.17,1064.24 1066.1,1059.37 1071.03,1054.47 1075.96,1049.54 1080.89,1044.6 1085.82,1039.63 1090.75,1034.64 1095.68,1029.63 1100.6,1024.6 1105.53,1019.55 \n",
       "  1110.46,1014.49 1115.39,1009.41 1120.32,1004.31 1125.25,999.201 1130.18,994.08 1135.11,988.946 1140.04,983.802 1144.97,978.648 1149.9,973.486 1154.83,968.315 \n",
       "  1159.76,963.139 1164.69,957.956 1169.62,952.769 1174.55,947.579 1179.48,942.386 1184.41,937.192 1189.34,931.998 1194.27,926.804 1199.2,921.612 1204.13,916.423 \n",
       "  1209.06,911.238 1213.99,906.058 1218.92,900.884 1223.85,895.718 1228.78,890.559 1233.71,885.408 1238.64,880.268 1243.57,875.138 1248.5,870.019 1253.43,864.913 \n",
       "  1258.36,859.82 1263.29,854.741 1268.22,849.677 1273.15,844.629 1278.08,839.597 1283,834.582 1287.93,829.585 1292.86,824.607 1297.79,819.649 1302.72,814.711 \n",
       "  1307.65,809.793 1312.58,804.897 1317.51,800.023 1322.44,795.172 1327.37,790.345 1332.3,785.541 1337.23,780.762 1342.16,776.008 1347.09,771.28 1352.02,766.578 \n",
       "  1356.95,761.903 1361.88,757.254 1366.81,752.634 1371.74,748.042 1376.67,743.478 1381.6,738.943 1386.53,734.438 1391.46,729.962 1396.39,725.517 1401.32,721.102 \n",
       "  1406.25,716.718 1411.18,712.365 1416.11,708.044 1421.04,703.754 1425.97,699.496 1430.9,695.272 1435.83,691.08 1440.76,686.921 1445.69,682.795 1450.62,678.702 \n",
       "  1455.55,674.642 1460.48,670.616 1465.4,666.624 1470.33,662.664 1475.26,658.739 1480.19,654.847 1485.12,650.989 1490.05,647.164 1494.98,643.373 1499.91,639.616 \n",
       "  1504.84,635.893 1509.77,632.203 1514.7,628.548 1519.63,624.926 1524.56,621.338 1529.49,617.784 1534.42,614.264 1539.35,610.778 1544.28,607.325 1549.21,603.906 \n",
       "  1554.14,600.52 1559.07,597.169 1564,593.85 1568.93,590.565 1573.86,587.314 1578.79,584.096 1583.72,580.911 1588.65,577.759 1593.58,574.64 1598.51,571.554 \n",
       "  1603.44,568.501 1608.37,565.481 1613.3,562.493 1618.23,559.537 1623.16,556.614 1628.09,553.722 1633.02,550.863 1637.95,548.035 1642.88,545.239 1647.8,542.474 \n",
       "  1652.73,539.74 1657.66,537.038 1662.59,534.366 1667.52,531.724 1672.45,529.113 1677.38,526.532 1682.31,523.981 1687.24,521.46 1692.17,518.968 1697.1,516.505 \n",
       "  1702.03,514.072 1706.96,511.667 1711.89,509.29 1716.82,506.942 1721.75,504.622 1726.68,502.329 1731.61,500.064 1736.54,497.827 1741.47,495.616 1746.4,493.433 \n",
       "  1751.33,491.276 1756.26,489.145 1761.19,487.041 1766.12,484.962 1771.05,482.909 1775.98,480.882 1780.91,478.88 1785.84,476.903 1790.77,474.95 1795.7,473.022 \n",
       "  1800.63,471.118 1805.56,469.239 1810.49,467.383 1815.42,465.551 1820.35,463.742 1825.28,461.956 1830.2,460.193 1835.13,458.453 1840.06,456.735 1844.99,455.039 \n",
       "  1849.92,453.365 1854.85,451.713 1859.78,450.082 1864.71,448.473 1869.64,446.885 1874.57,445.317 1879.5,443.77 1884.43,442.243 1889.36,440.737 1894.29,439.25 \n",
       "  1899.22,437.782 1904.15,436.335 1909.08,434.906 1914.01,433.496 1918.94,432.104 1923.87,430.731 1928.8,429.376 1933.73,428.039 1938.66,426.719 1943.59,425.417 \n",
       "  1948.52,424.133 1953.45,422.865 1958.38,421.615 1963.31,420.381 1968.24,419.164 1973.17,417.963 1978.1,416.779 1983.03,415.61 1987.96,414.458 1992.89,413.321 \n",
       "  1997.82,412.2 2002.75,411.094 2007.67,410.004 2012.6,408.928 2017.53,407.867 2022.46,406.821 2027.39,405.79 2032.32,404.772 2037.25,403.769 2042.18,402.78 \n",
       "  2047.11,401.805 2052.04,400.843 2056.97,399.895 2061.9,398.96 2066.83,398.038 2071.76,397.13 2076.69,396.234 2081.62,395.351 2086.55,394.48 2091.48,393.622 \n",
       "  2096.41,392.775 2101.34,391.941 2106.27,391.119 2111.2,390.308 2116.13,389.509 2121.06,388.722 2125.99,387.945 2130.92,387.18 2135.85,386.426 2140.78,385.682 \n",
       "  2145.71,384.949 2150.64,384.227 2155.57,383.514 2160.5,382.812 2165.43,382.12 2170.36,381.438 2175.29,380.766 2180.22,380.103 2185.15,379.45 2190.07,378.806 \n",
       "  2195,378.171 2199.93,377.545 2204.86,376.928 2209.79,376.319 2214.72,375.72 2219.65,375.128 2224.58,374.545 2229.51,373.97 2234.44,373.403 2239.37,372.845 \n",
       "  2244.3,372.293 2249.23,371.75 2254.16,371.214 2259.09,370.685 2264.02,370.164 2268.95,369.65 2273.88,369.144 2278.81,368.644 2283.74,368.152 2288.67,367.668 \n",
       "  2293.6,367.19 \n",
       "  \"/>\n",
       "<path clip-path=\"url(#clip530)\" d=\"\n",
       "M2023.92 335.029 L2283.08 335.029 L2283.08 93.1086 L2023.92 93.1086  Z\n",
       "  \" fill=\"#ffffff\" fill-rule=\"evenodd\" fill-opacity=\"1\"/>\n",
       "<polyline clip-path=\"url(#clip530)\" style=\"stroke:#000000; stroke-linecap:butt; stroke-linejoin:round; stroke-width:4; stroke-opacity:1; fill:none\" points=\"\n",
       "  2023.92,335.029 2283.08,335.029 2283.08,93.1086 2023.92,93.1086 2023.92,335.029 \n",
       "  \"/>\n",
       "<polyline clip-path=\"url(#clip530)\" style=\"stroke:#009af9; stroke-linecap:butt; stroke-linejoin:round; stroke-width:4; stroke-opacity:1; fill:none\" points=\"\n",
       "  2047.14,153.589 2186.49,153.589 \n",
       "  \"/>\n",
       "<path clip-path=\"url(#clip530)\" d=\"M2231.96 137.443 L2231.96 142.003 Q2229.3 140.73 2226.93 140.105 Q2224.57 139.48 2222.37 139.48 Q2218.55 139.48 2216.47 140.961 Q2214.41 142.443 2214.41 145.174 Q2214.41 147.466 2215.78 148.647 Q2217.17 149.804 2221.01 150.522 L2223.83 151.1 Q2229.06 152.096 2231.54 154.619 Q2234.04 157.119 2234.04 161.332 Q2234.04 166.355 2230.66 168.947 Q2227.3 171.54 2220.8 171.54 Q2218.35 171.54 2215.57 170.984 Q2212.81 170.429 2209.85 169.341 L2209.85 164.526 Q2212.7 166.123 2215.43 166.933 Q2218.16 167.744 2220.8 167.744 Q2224.8 167.744 2226.98 166.17 Q2229.16 164.596 2229.16 161.679 Q2229.16 159.133 2227.58 157.697 Q2226.03 156.262 2222.47 155.545 L2219.62 154.989 Q2214.39 153.947 2212.05 151.725 Q2209.71 149.503 2209.71 145.545 Q2209.71 140.961 2212.93 138.322 Q2216.17 135.684 2221.84 135.684 Q2224.27 135.684 2226.8 136.123 Q2229.32 136.563 2231.96 137.443 Z\" fill=\"#000000\" fill-rule=\"evenodd\" fill-opacity=\"1\" /><polyline clip-path=\"url(#clip530)\" style=\"stroke:#e26f46; stroke-linecap:butt; stroke-linejoin:round; stroke-width:4; stroke-opacity:1; fill:none\" points=\"\n",
       "  2047.14,214.069 2186.49,214.069 \n",
       "  \"/>\n",
       "<path clip-path=\"url(#clip530)\" d=\"M2209.71 196.789 L2214.39 196.789 L2214.39 231.349 L2209.71 231.349 L2209.71 196.789 Z\" fill=\"#000000\" fill-rule=\"evenodd\" fill-opacity=\"1\" /><polyline clip-path=\"url(#clip530)\" style=\"stroke:#3da44d; stroke-linecap:butt; stroke-linejoin:round; stroke-width:4; stroke-opacity:1; fill:none\" points=\"\n",
       "  2047.14,274.549 2186.49,274.549 \n",
       "  \"/>\n",
       "<path clip-path=\"url(#clip530)\" d=\"M2226.1 275.625 Q2227.61 276.134 2229.02 277.801 Q2230.45 279.468 2231.89 282.384 L2236.63 291.829 L2231.61 291.829 L2227.19 282.963 Q2225.48 279.491 2223.86 278.356 Q2222.26 277.222 2219.48 277.222 L2214.39 277.222 L2214.39 291.829 L2209.71 291.829 L2209.71 257.269 L2220.27 257.269 Q2226.19 257.269 2229.11 259.745 Q2232.03 262.222 2232.03 267.222 Q2232.03 270.486 2230.5 272.639 Q2228.99 274.792 2226.1 275.625 M2214.39 261.111 L2214.39 273.38 L2220.27 273.38 Q2223.65 273.38 2225.36 271.829 Q2227.1 270.255 2227.1 267.222 Q2227.1 264.19 2225.36 262.662 Q2223.65 261.111 2220.27 261.111 L2214.39 261.111 Z\" fill=\"#000000\" fill-rule=\"evenodd\" fill-opacity=\"1\" /></svg>\n"
      ]
     },
     "execution_count": 64,
     "metadata": {},
     "output_type": "execute_result"
    }
   ],
   "source": [
    "@df df_ode plot(:t,\n",
    "    [:value1 :value2 :value3],\n",
    "    label=[\"S\" \"I\" \"R\"],\n",
    "    xlabel=\"Tempo\",\n",
    "    ylabel=\"Número\")"
   ]
  },
  {
   "cell_type": "markdown",
   "id": "ebec3058-cf38-4e33-9cd9-608b3403031f",
   "metadata": {},
   "source": [
    "## Benchmarking do problema"
   ]
  },
  {
   "cell_type": "markdown",
   "id": "f616d68e-abbd-4605-b1ca-03c51122c05c",
   "metadata": {},
   "source": [
    "Para fazer um benchmarking de uma função basta utilizar a função `@benchmark` antes da função desejada"
   ]
  },
  {
   "cell_type": "code",
   "execution_count": 66,
   "id": "68a08acc-8e0a-44fb-a431-9fe1dd32b64a",
   "metadata": {},
   "outputs": [
    {
     "data": {
      "text/plain": [
       "BenchmarkTools.Trial: \n",
       "  memory estimate:  31.91 KiB\n",
       "  allocs estimate:  299\n",
       "  --------------\n",
       "  minimum time:     25.400 μs (0.00% GC)\n",
       "  median time:      29.500 μs (0.00% GC)\n",
       "  mean time:        35.489 μs (6.46% GC)\n",
       "  maximum time:     11.821 ms (98.97% GC)\n",
       "  --------------\n",
       "  samples:          10000\n",
       "  evals/sample:     1"
      ]
     },
     "execution_count": 66,
     "metadata": {},
     "output_type": "execute_result"
    }
   ],
   "source": [
    "@benchmark solve(prob_ode)"
   ]
  }
 ],
 "metadata": {
  "kernelspec": {
   "display_name": "Julia 1.6.1",
   "language": "julia",
   "name": "julia-1.6"
  },
  "language_info": {
   "file_extension": ".jl",
   "mimetype": "application/julia",
   "name": "julia",
   "version": "1.6.1"
  }
 },
 "nbformat": 4,
 "nbformat_minor": 5
}
