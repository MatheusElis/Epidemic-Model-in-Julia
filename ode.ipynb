{
 "cells": [
  {
   "cell_type": "markdown",
   "id": "3094e9b4-8e7d-4db7-857e-33031d0efb78",
   "metadata": {},
   "source": [
    "# Modelo de equação diferencial ordinária\n"
   ]
  },
  {
   "cell_type": "markdown",
   "id": "ddc3e7bf-197b-4917-960f-8050165c7462",
   "metadata": {},
   "source": [
    "Matheus Elis da Silva  \n",
    "matheuselis@id.uff.br\n"
   ]
  },
  {
   "cell_type": "markdown",
   "id": "414b48ad-f1d3-4fab-b0de-ab7fe5f1e9e1",
   "metadata": {
    "tags": []
   },
   "source": [
    "## Modelos Compartimentais"
   ]
  },
  {
   "cell_type": "markdown",
   "id": "9a849129-031e-4a28-8829-2b9d745c1a8e",
   "metadata": {},
   "source": [
    "Muitos modelos epidemiológicos são compartimentais, o que significa que a população é dividida em várias subpopulações discretas, com fluxos entre as subpopulações modelados por meio de equações diferenciais ordinárias (EDOs). Na maioria dos casos, esses modelos são não lineares e são necessárias técnicas numéricas para resolver a dinâmica ao longo do tempo. ou um determinado conjunto de valores de parâmetro, o modelo irá gerar a mesma saída, portanto, esses modelos são conhecidos como determinísticos. Esses modelos geram saída, por exemplo o número de indivíduos infectados ao longo do tempo que são contínuos no tempo e em número, ou seja, é possível ter 1,1 indivíduos infectados e assim por diante. Podemos pensar nisso como uma aproximação da média de muitas epidemias estocásticas ao longo do tempo, mais sobre isso nas seções subsequentes.\n",
    "\n",
    "Algoritmos para resolver ODEs são implementados em muitas linguagens de computador, tornando relativamente simples simular esses modelos."
   ]
  },
  {
   "cell_type": "markdown",
   "id": "136dbffb-1dd7-4bae-9fdc-2ea299f58a45",
   "metadata": {},
   "source": [
    "### Descrição"
   ]
  },
  {
   "cell_type": "markdown",
   "id": "3ed40d6c-4c79-4d38-af7a-c2349c06e511",
   "metadata": {},
   "source": [
    "O modelo susceptivel-infeccioso-recuperado (SIR) em uma população fechadas foi proposto por Kermack e McKendrick como um caso especial de um modelo mais geral, e a forma estruturada de muito mais modelos compartimentados. Indivíduos susceptiveis, $S$, são infectados por indivíduos infecciosos, $I$, a uma taxa per-capita $\\beta I$, e indivíduos infecciosos são recuperadas a uma taxa per-capita $\\gamma$ para se tornarem indivíduos recuperados, $R$."
   ]
  },
  {
   "cell_type": "markdown",
   "id": "f0519aab-5f32-4d61-ad5f-b20fed6c10a8",
   "metadata": {},
   "source": [
    "### Equações "
   ]
  },
  {
   "cell_type": "markdown",
   "id": "1abbaa65-5236-4ebb-b76b-77971dc1595a",
   "metadata": {},
   "source": [
    "$$\n",
    "\\begin{align*} \n",
    "\\frac{dS(t)}{dt} = -\\beta S(t) I(t)/N\\\\\n",
    "\\frac{dI(t)}{dt} = \\beta S(t) I(t)/N - \\gamma I(t)\\\\\n",
    "\\frac{dR(t)}{dt} = \\gamma I(t)\\\\\n",
    "\\end{align*}\n",
    "$$"
   ]
  },
  {
   "cell_type": "markdown",
   "id": "8aa5ba57-5d15-49f0-a414-2fa12da5da3d",
   "metadata": {},
   "source": [
    "### Condições Iniciais"
   ]
  },
  {
   "cell_type": "markdown",
   "id": "5a0a0ee6-e3bd-462f-bfd9-692ce2a4b476",
   "metadata": {},
   "source": [
    "* O modelo de esquações ondinárias considera\n",
    "    - Susceptivel, $S$, com condição inicial $S(0) = 990$\n",
    "    - Infeccioso, $I$, com condição inicial $I(0) = 10$\n",
    "    - Recuperado, $R$, com condição inicial $R(0) = 0$\n",
    "    - População total, $N=S+I+R=1000$\n",
    "* Indivíduos susceptiveis fazendo contato com outros indivíduos a uma taxa $c(=10)$, com a probabilidade de um contato com uma pessoa infecciosa ser $I/N$. Com probabilidade $\\beta = 0.05$, uma pessoa infectada infectará um suscetível dado um contato.\n",
    "* Os indivíduos infectados se recuperam a uma taxa per capita $\\gamma = 0.25$.\n"
   ]
  },
  {
   "cell_type": "markdown",
   "id": "fe6e6ab3-bebe-43eb-9741-7ee1c9d8b8ad",
   "metadata": {},
   "source": [
    "A versão classica do SIR em ODE é dada por:\n",
    "   * Determinística\n",
    "   * Continuo no tempo\n",
    "   * Contínuo no estado"
   ]
  },
  {
   "cell_type": "markdown",
   "id": "eddd2721-2ffa-4e4c-8243-2c50e79fa6a9",
   "metadata": {
    "tags": []
   },
   "source": [
    "## Implementação em Julia"
   ]
  },
  {
   "cell_type": "markdown",
   "id": "8a1c16ea-b783-46a2-8dcb-520c17aa156b",
   "metadata": {
    "tags": []
   },
   "source": [
    "### Bibliotecas\n",
    "\n",
    "Inicialmente precisamos instalar e carregar as bibliotecas no ambiente de programação.  \n",
    "Só é necessario instalar as bibliotecas uma unica vez no computador, após isso as funções `Pkg.add()` podem ser comentadas"
   ]
  },
  {
   "cell_type": "code",
   "execution_count": 1,
   "id": "46aef5d3-3a6e-4bd7-af52-fa319fb1c734",
   "metadata": {},
   "outputs": [],
   "source": [
    "using Pkg\n",
    "#Pkg.add(\"DifferentialEquations\")\n",
    "#Pkg.add(\"SimpleDiffEq\")\n",
    "#Pkg.add(\"DataFrames\")\n",
    "#Pkg.add(\"StatsPlots\")\n",
    "#Pkg.add(\"BenchmarkTools\")\n"
   ]
  },
  {
   "cell_type": "code",
   "execution_count": 2,
   "id": "3f21543f-1111-496d-af22-215b0c0a9183",
   "metadata": {},
   "outputs": [],
   "source": [
    "using DifferentialEquations\n",
    "using SimpleDiffEq\n",
    "using DataFrames\n",
    "using StatsPlots\n",
    "using BenchmarkTools"
   ]
  },
  {
   "cell_type": "markdown",
   "id": "6150c136-3854-42af-96c3-63bb348c6f3d",
   "metadata": {
    "tags": []
   },
   "source": [
    "### ODE"
   ]
  },
  {
   "cell_type": "markdown",
   "id": "97e20ddc-7e27-4b7d-902c-991ffcaaf2d2",
   "metadata": {},
   "source": [
    "A função a seguir define as equações diferenciais do modelo que serão utilizadas para a simulação. As variaveis de estados e os parametros foram alocados em `u` e `p`, isso causa uma pequena diminuição de perfomace entretanto a equação fica mais facil de ser lida"
   ]
  },
  {
   "cell_type": "code",
   "execution_count": 3,
   "id": "0d871310-2fd6-49f4-894c-0b114aa96d65",
   "metadata": {},
   "outputs": [],
   "source": [
    "function sir_ode!(du,u,p,t)\n",
    "    (S,I,R) = u\n",
    "    (β,c,γ) = p\n",
    "    N = S+I+R\n",
    "    @inbounds begin\n",
    "        du[1] = -β*c*I/N*S\n",
    "        du[2] = β*c*I/N*S - γ*I\n",
    "        du[3] = γ*I\n",
    "    end\n",
    "    nothing\n",
    "end;"
   ]
  },
  {
   "cell_type": "markdown",
   "id": "761b476f-3f21-48ec-9ba7-cd9b44937657",
   "metadata": {},
   "source": [
    "### Domínio do Tempo\n",
    "\n",
    "Nós agora precisamos setar um intervalo de tempo em que a simulação irá funcionar e que será dado por `tspan`, o salto de tempo que será dado por `δt` e o tempo maximo que será dado por `tmax`."
   ]
  },
  {
   "cell_type": "code",
   "execution_count": 4,
   "id": "4e3d2b15-7c28-4b40-9327-30c57bb364d0",
   "metadata": {},
   "outputs": [],
   "source": [
    "δt = 0.1\n",
    "tmax = 40.0\n",
    "tspan = (0.0,tmax)\n",
    "t=0.0:δt:tmax;"
   ]
  },
  {
   "cell_type": "markdown",
   "id": "1339fbe1-6a07-424f-bd23-6683cc8b7a29",
   "metadata": {},
   "source": [
    "### Condições iniciais \n",
    "\n",
    "Agora iremos setar as condições iniciais de $S_0$, $I_0$ e $R_0$ para a simulação."
   ]
  },
  {
   "cell_type": "code",
   "execution_count": 5,
   "id": "fd1d0b02-7d51-4e06-852d-8b79deb7beac",
   "metadata": {},
   "outputs": [],
   "source": [
    "u0 = [990.0,10.0,0.0]; # S,I.R"
   ]
  },
  {
   "cell_type": "markdown",
   "id": "93a30b4e-a1f9-43ab-8d34-f22528a06b90",
   "metadata": {},
   "source": [
    "### Parammetros do Modelo\n",
    "\n",
    "Agora iremos definir os parametros $\\beta$, $c$ e $\\gamma$ das equações diferênciais."
   ]
  },
  {
   "cell_type": "code",
   "execution_count": 6,
   "id": "dbba9f01-8b5a-4b01-9a20-73623ecd50cb",
   "metadata": {},
   "outputs": [],
   "source": [
    "p = [0.05,10,0.25]; # β,c,γ"
   ]
  },
  {
   "cell_type": "markdown",
   "id": "1ba6804a-3495-460c-9cfe-f2771ff08fb9",
   "metadata": {},
   "source": [
    "### Execução do Modelo\n",
    "\n",
    "Primeiro iremos gerar um objeto do tipo `ODEProblem` utilizando a função que modela a equação diferencial, `sir_ode`, as condições iniciais, `u0`, o intervalo de tempo, `tspan` e os paramêtros , `p`."
   ]
  },
  {
   "cell_type": "code",
   "execution_count": 7,
   "id": "47ce294e-0ae3-4798-a850-111d35d7c9ef",
   "metadata": {},
   "outputs": [],
   "source": [
    "prob_ode = ODEProblem(sir_ode!,u0,tspan,p);"
   ]
  },
  {
   "cell_type": "markdown",
   "id": "7591cb41-8b11-4dfb-8aff-66cf20f67ebf",
   "metadata": {},
   "source": [
    "Logo após iremos utilizar a função `solve()` para resolver o objeto criado acima.\n"
   ]
  },
  {
   "cell_type": "code",
   "execution_count": 8,
   "id": "ee150ba5-29ff-48b3-91b1-d8500c7bd3cf",
   "metadata": {},
   "outputs": [],
   "source": [
    "sol_ode = solve(prob_ode,saveat = δt);"
   ]
  },
  {
   "cell_type": "markdown",
   "id": "37bc226f-9fe6-4760-a3df-a4ef5b143c44",
   "metadata": {},
   "source": [
    "### Pós processamento\n",
    "\n",
    "Para ficar mais facil de vizulizar os dados iremos juntar o output da função `solve()` em um dataframe."
   ]
  },
  {
   "cell_type": "code",
   "execution_count": 9,
   "id": "fb83eba3-ad21-4718-b613-7e8ecc4e1a5a",
   "metadata": {},
   "outputs": [
    {
     "data": {
      "text/plain": [
       "0.0:0.1:40.0"
      ]
     },
     "execution_count": 9,
     "metadata": {},
     "output_type": "execute_result"
    }
   ],
   "source": [
    "df_ode = DataFrame(sol_ode)\n",
    "df_ode[!,:t] = t"
   ]
  },
  {
   "cell_type": "markdown",
   "id": "c7e05ade-20c0-48d1-a454-d2c29a188ca7",
   "metadata": {},
   "source": [
    "### Plot do Resultado"
   ]
  },
  {
   "cell_type": "markdown",
   "id": "f4dc4695-9041-4077-8b29-d1b482f64680",
   "metadata": {},
   "source": [
    "Agora nós podemos plotar o resultado para vizualizar o resultado."
   ]
  },
  {
   "cell_type": "code",
   "execution_count": 10,
   "id": "2e691ae9-384a-4c2f-8942-9a06ef3344b5",
   "metadata": {},
   "outputs": [
    {
     "data": {
      "image/svg+xml": [
       "<?xml version=\"1.0\" encoding=\"utf-8\"?>\n",
       "<svg xmlns=\"http://www.w3.org/2000/svg\" xmlns:xlink=\"http://www.w3.org/1999/xlink\" width=\"600\" height=\"400\" viewBox=\"0 0 2400 1600\">\n",
       "<defs>\n",
       "  <clipPath id=\"clip980\">\n",
       "    <rect x=\"0\" y=\"0\" width=\"2400\" height=\"1600\"/>\n",
       "  </clipPath>\n",
       "</defs>\n",
       "<path clip-path=\"url(#clip980)\" d=\"\n",
       "M0 1600 L2400 1600 L2400 0 L0 0  Z\n",
       "  \" fill=\"#ffffff\" fill-rule=\"evenodd\" fill-opacity=\"1\"/>\n",
       "<defs>\n",
       "  <clipPath id=\"clip981\">\n",
       "    <rect x=\"480\" y=\"0\" width=\"1681\" height=\"1600\"/>\n",
       "  </clipPath>\n",
       "</defs>\n",
       "<path clip-path=\"url(#clip980)\" d=\"\n",
       "M262.551 1423.18 L2352.76 1423.18 L2352.76 123.472 L262.551 123.472  Z\n",
       "  \" fill=\"#ffffff\" fill-rule=\"evenodd\" fill-opacity=\"1\"/>\n",
       "<defs>\n",
       "  <clipPath id=\"clip982\">\n",
       "    <rect x=\"262\" y=\"123\" width=\"2091\" height=\"1301\"/>\n",
       "  </clipPath>\n",
       "</defs>\n",
       "<polyline clip-path=\"url(#clip982)\" style=\"stroke:#000000; stroke-linecap:butt; stroke-linejoin:round; stroke-width:2; stroke-opacity:0.1; fill:none\" points=\"\n",
       "  321.708,1423.18 321.708,123.472 \n",
       "  \"/>\n",
       "<polyline clip-path=\"url(#clip982)\" style=\"stroke:#000000; stroke-linecap:butt; stroke-linejoin:round; stroke-width:2; stroke-opacity:0.1; fill:none\" points=\"\n",
       "  814.681,1423.18 814.681,123.472 \n",
       "  \"/>\n",
       "<polyline clip-path=\"url(#clip982)\" style=\"stroke:#000000; stroke-linecap:butt; stroke-linejoin:round; stroke-width:2; stroke-opacity:0.1; fill:none\" points=\"\n",
       "  1307.65,1423.18 1307.65,123.472 \n",
       "  \"/>\n",
       "<polyline clip-path=\"url(#clip982)\" style=\"stroke:#000000; stroke-linecap:butt; stroke-linejoin:round; stroke-width:2; stroke-opacity:0.1; fill:none\" points=\"\n",
       "  1800.63,1423.18 1800.63,123.472 \n",
       "  \"/>\n",
       "<polyline clip-path=\"url(#clip982)\" style=\"stroke:#000000; stroke-linecap:butt; stroke-linejoin:round; stroke-width:2; stroke-opacity:0.1; fill:none\" points=\"\n",
       "  2293.6,1423.18 2293.6,123.472 \n",
       "  \"/>\n",
       "<polyline clip-path=\"url(#clip980)\" style=\"stroke:#000000; stroke-linecap:butt; stroke-linejoin:round; stroke-width:4; stroke-opacity:1; fill:none\" points=\"\n",
       "  262.551,1423.18 2352.76,1423.18 \n",
       "  \"/>\n",
       "<polyline clip-path=\"url(#clip980)\" style=\"stroke:#000000; stroke-linecap:butt; stroke-linejoin:round; stroke-width:4; stroke-opacity:1; fill:none\" points=\"\n",
       "  321.708,1423.18 321.708,1407.58 \n",
       "  \"/>\n",
       "<polyline clip-path=\"url(#clip980)\" style=\"stroke:#000000; stroke-linecap:butt; stroke-linejoin:round; stroke-width:4; stroke-opacity:1; fill:none\" points=\"\n",
       "  814.681,1423.18 814.681,1407.58 \n",
       "  \"/>\n",
       "<polyline clip-path=\"url(#clip980)\" style=\"stroke:#000000; stroke-linecap:butt; stroke-linejoin:round; stroke-width:4; stroke-opacity:1; fill:none\" points=\"\n",
       "  1307.65,1423.18 1307.65,1407.58 \n",
       "  \"/>\n",
       "<polyline clip-path=\"url(#clip980)\" style=\"stroke:#000000; stroke-linecap:butt; stroke-linejoin:round; stroke-width:4; stroke-opacity:1; fill:none\" points=\"\n",
       "  1800.63,1423.18 1800.63,1407.58 \n",
       "  \"/>\n",
       "<polyline clip-path=\"url(#clip980)\" style=\"stroke:#000000; stroke-linecap:butt; stroke-linejoin:round; stroke-width:4; stroke-opacity:1; fill:none\" points=\"\n",
       "  2293.6,1423.18 2293.6,1407.58 \n",
       "  \"/>\n",
       "<path clip-path=\"url(#clip980)\" d=\"M321.708 1452.37 Q318.097 1452.37 316.268 1455.94 Q314.463 1459.48 314.463 1466.61 Q314.463 1473.71 316.268 1477.28 Q318.097 1480.82 321.708 1480.82 Q325.342 1480.82 327.148 1477.28 Q328.976 1473.71 328.976 1466.61 Q328.976 1459.48 327.148 1455.94 Q325.342 1452.37 321.708 1452.37 M321.708 1448.67 Q327.518 1448.67 330.574 1453.27 Q333.652 1457.86 333.652 1466.61 Q333.652 1475.33 330.574 1479.94 Q327.518 1484.52 321.708 1484.52 Q315.898 1484.52 312.819 1479.94 Q309.764 1475.33 309.764 1466.61 Q309.764 1457.86 312.819 1453.27 Q315.898 1448.67 321.708 1448.67 Z\" fill=\"#000000\" fill-rule=\"evenodd\" fill-opacity=\"1\" /><path clip-path=\"url(#clip980)\" d=\"M789.368 1479.92 L797.007 1479.92 L797.007 1453.55 L788.697 1455.22 L788.697 1450.96 L796.961 1449.29 L801.637 1449.29 L801.637 1479.92 L809.276 1479.92 L809.276 1483.85 L789.368 1483.85 L789.368 1479.92 Z\" fill=\"#000000\" fill-rule=\"evenodd\" fill-opacity=\"1\" /><path clip-path=\"url(#clip980)\" d=\"M828.72 1452.37 Q825.109 1452.37 823.28 1455.94 Q821.475 1459.48 821.475 1466.61 Q821.475 1473.71 823.28 1477.28 Q825.109 1480.82 828.72 1480.82 Q832.354 1480.82 834.16 1477.28 Q835.989 1473.71 835.989 1466.61 Q835.989 1459.48 834.16 1455.94 Q832.354 1452.37 828.72 1452.37 M828.72 1448.67 Q834.53 1448.67 837.586 1453.27 Q840.664 1457.86 840.664 1466.61 Q840.664 1475.33 837.586 1479.94 Q834.53 1484.52 828.72 1484.52 Q822.91 1484.52 819.831 1479.94 Q816.776 1475.33 816.776 1466.61 Q816.776 1457.86 819.831 1453.27 Q822.91 1448.67 828.72 1448.67 Z\" fill=\"#000000\" fill-rule=\"evenodd\" fill-opacity=\"1\" /><path clip-path=\"url(#clip980)\" d=\"M1286.43 1479.92 L1302.75 1479.92 L1302.75 1483.85 L1280.8 1483.85 L1280.8 1479.92 Q1283.46 1477.16 1288.05 1472.53 Q1292.65 1467.88 1293.83 1466.54 Q1296.08 1464.01 1296.96 1462.28 Q1297.86 1460.52 1297.86 1458.83 Q1297.86 1456.07 1295.92 1454.34 Q1294 1452.6 1290.89 1452.6 Q1288.7 1452.6 1286.24 1453.37 Q1283.81 1454.13 1281.03 1455.68 L1281.03 1450.96 Q1283.86 1449.82 1286.31 1449.25 Q1288.76 1448.67 1290.8 1448.67 Q1296.17 1448.67 1299.37 1451.35 Q1302.56 1454.04 1302.56 1458.53 Q1302.56 1460.66 1301.75 1462.58 Q1300.96 1464.48 1298.86 1467.07 Q1298.28 1467.74 1295.18 1470.96 Q1292.07 1474.15 1286.43 1479.92 Z\" fill=\"#000000\" fill-rule=\"evenodd\" fill-opacity=\"1\" /><path clip-path=\"url(#clip980)\" d=\"M1322.56 1452.37 Q1318.95 1452.37 1317.12 1455.94 Q1315.32 1459.48 1315.32 1466.61 Q1315.32 1473.71 1317.12 1477.28 Q1318.95 1480.82 1322.56 1480.82 Q1326.2 1480.82 1328 1477.28 Q1329.83 1473.71 1329.83 1466.61 Q1329.83 1459.48 1328 1455.94 Q1326.2 1452.37 1322.56 1452.37 M1322.56 1448.67 Q1328.37 1448.67 1331.43 1453.27 Q1334.51 1457.86 1334.51 1466.61 Q1334.51 1475.33 1331.43 1479.94 Q1328.37 1484.52 1322.56 1484.52 Q1316.75 1484.52 1313.67 1479.94 Q1310.62 1475.33 1310.62 1466.61 Q1310.62 1457.86 1313.67 1453.27 Q1316.75 1448.67 1322.56 1448.67 Z\" fill=\"#000000\" fill-rule=\"evenodd\" fill-opacity=\"1\" /><path clip-path=\"url(#clip980)\" d=\"M1789.47 1465.22 Q1792.83 1465.94 1794.7 1468.2 Q1796.6 1470.47 1796.6 1473.81 Q1796.6 1478.92 1793.08 1481.72 Q1789.56 1484.52 1783.08 1484.52 Q1780.9 1484.52 1778.59 1484.08 Q1776.3 1483.67 1773.84 1482.81 L1773.84 1478.3 Q1775.79 1479.43 1778.1 1480.01 Q1780.42 1480.59 1782.94 1480.59 Q1787.34 1480.59 1789.63 1478.85 Q1791.95 1477.12 1791.95 1473.81 Q1791.95 1470.75 1789.79 1469.04 Q1787.66 1467.3 1783.84 1467.3 L1779.82 1467.3 L1779.82 1463.46 L1784.03 1463.46 Q1787.48 1463.46 1789.31 1462.09 Q1791.14 1460.7 1791.14 1458.11 Q1791.14 1455.45 1789.24 1454.04 Q1787.36 1452.6 1783.84 1452.6 Q1781.92 1452.6 1779.72 1453.02 Q1777.52 1453.44 1774.89 1454.31 L1774.89 1450.15 Q1777.55 1449.41 1779.86 1449.04 Q1782.2 1448.67 1784.26 1448.67 Q1789.58 1448.67 1792.69 1451.1 Q1795.79 1453.5 1795.79 1457.63 Q1795.79 1460.5 1794.14 1462.49 Q1792.5 1464.45 1789.47 1465.22 Z\" fill=\"#000000\" fill-rule=\"evenodd\" fill-opacity=\"1\" /><path clip-path=\"url(#clip980)\" d=\"M1815.46 1452.37 Q1811.85 1452.37 1810.02 1455.94 Q1808.22 1459.48 1808.22 1466.61 Q1808.22 1473.71 1810.02 1477.28 Q1811.85 1480.82 1815.46 1480.82 Q1819.1 1480.82 1820.9 1477.28 Q1822.73 1473.71 1822.73 1466.61 Q1822.73 1459.48 1820.9 1455.94 Q1819.1 1452.37 1815.46 1452.37 M1815.46 1448.67 Q1821.27 1448.67 1824.33 1453.27 Q1827.41 1457.86 1827.41 1466.61 Q1827.41 1475.33 1824.33 1479.94 Q1821.27 1484.52 1815.46 1484.52 Q1809.65 1484.52 1806.58 1479.94 Q1803.52 1475.33 1803.52 1466.61 Q1803.52 1457.86 1806.58 1453.27 Q1809.65 1448.67 1815.46 1448.67 Z\" fill=\"#000000\" fill-rule=\"evenodd\" fill-opacity=\"1\" /><path clip-path=\"url(#clip980)\" d=\"M2281.77 1453.37 L2269.97 1471.81 L2281.77 1471.81 L2281.77 1453.37 M2280.54 1449.29 L2286.42 1449.29 L2286.42 1471.81 L2291.35 1471.81 L2291.35 1475.7 L2286.42 1475.7 L2286.42 1483.85 L2281.77 1483.85 L2281.77 1475.7 L2266.17 1475.7 L2266.17 1471.19 L2280.54 1449.29 Z\" fill=\"#000000\" fill-rule=\"evenodd\" fill-opacity=\"1\" /><path clip-path=\"url(#clip980)\" d=\"M2309.09 1452.37 Q2305.47 1452.37 2303.65 1455.94 Q2301.84 1459.48 2301.84 1466.61 Q2301.84 1473.71 2303.65 1477.28 Q2305.47 1480.82 2309.09 1480.82 Q2312.72 1480.82 2314.52 1477.28 Q2316.35 1473.71 2316.35 1466.61 Q2316.35 1459.48 2314.52 1455.94 Q2312.72 1452.37 2309.09 1452.37 M2309.09 1448.67 Q2314.9 1448.67 2317.95 1453.27 Q2321.03 1457.86 2321.03 1466.61 Q2321.03 1475.33 2317.95 1479.94 Q2314.9 1484.52 2309.09 1484.52 Q2303.28 1484.52 2300.2 1479.94 Q2297.14 1475.33 2297.14 1466.61 Q2297.14 1457.86 2300.2 1453.27 Q2303.28 1448.67 2309.09 1448.67 Z\" fill=\"#000000\" fill-rule=\"evenodd\" fill-opacity=\"1\" /><path clip-path=\"url(#clip980)\" d=\"M1202.54 1520.52 L1242.74 1520.52 L1242.74 1525.93 L1225.87 1525.93 L1225.87 1568.04 L1219.41 1568.04 L1219.41 1525.93 L1202.54 1525.93 L1202.54 1520.52 Z\" fill=\"#000000\" fill-rule=\"evenodd\" fill-opacity=\"1\" /><path clip-path=\"url(#clip980)\" d=\"M1268.11 1548.76 L1268.11 1551.62 L1241.18 1551.62 Q1241.56 1557.67 1244.81 1560.85 Q1248.09 1564 1253.91 1564 Q1257.28 1564 1260.44 1563.17 Q1263.62 1562.35 1266.74 1560.69 L1266.74 1566.23 Q1263.59 1567.57 1260.28 1568.27 Q1256.97 1568.97 1253.56 1568.97 Q1245.03 1568.97 1240.03 1564 Q1235.07 1559.04 1235.07 1550.57 Q1235.07 1541.82 1239.78 1536.69 Q1244.52 1531.54 1252.54 1531.54 Q1259.74 1531.54 1263.91 1536.18 Q1268.11 1540.8 1268.11 1548.76 M1262.25 1547.04 Q1262.19 1542.23 1259.54 1539.37 Q1256.93 1536.5 1252.61 1536.5 Q1247.7 1536.5 1244.74 1539.27 Q1241.82 1542.04 1241.37 1547.07 L1262.25 1547.04 Z\" fill=\"#000000\" fill-rule=\"evenodd\" fill-opacity=\"1\" /><path clip-path=\"url(#clip980)\" d=\"M1305.47 1539.24 Q1307.67 1535.29 1310.73 1533.41 Q1313.78 1531.54 1317.92 1531.54 Q1323.49 1531.54 1326.51 1535.45 Q1329.54 1539.33 1329.54 1546.53 L1329.54 1568.04 L1323.65 1568.04 L1323.65 1546.72 Q1323.65 1541.59 1321.83 1539.11 Q1320.02 1536.63 1316.3 1536.63 Q1311.74 1536.63 1309.1 1539.65 Q1306.46 1542.68 1306.46 1547.9 L1306.46 1568.04 L1300.57 1568.04 L1300.57 1546.72 Q1300.57 1541.56 1298.76 1539.11 Q1296.94 1536.63 1293.16 1536.63 Q1288.67 1536.63 1286.03 1539.68 Q1283.38 1542.71 1283.38 1547.9 L1283.38 1568.04 L1277.5 1568.04 L1277.5 1532.4 L1283.38 1532.4 L1283.38 1537.93 Q1285.39 1534.66 1288.19 1533.1 Q1290.99 1531.54 1294.84 1531.54 Q1298.73 1531.54 1301.43 1533.51 Q1304.17 1535.48 1305.47 1539.24 Z\" fill=\"#000000\" fill-rule=\"evenodd\" fill-opacity=\"1\" /><path clip-path=\"url(#clip980)\" d=\"M1346.88 1562.7 L1346.88 1581.6 L1340.99 1581.6 L1340.99 1532.4 L1346.88 1532.4 L1346.88 1537.81 Q1348.73 1534.62 1351.53 1533.1 Q1354.36 1531.54 1358.28 1531.54 Q1364.77 1531.54 1368.81 1536.69 Q1372.89 1541.85 1372.89 1550.25 Q1372.89 1558.65 1368.81 1563.81 Q1364.77 1568.97 1358.28 1568.97 Q1354.36 1568.97 1351.53 1567.44 Q1348.73 1565.88 1346.88 1562.7 M1366.81 1550.25 Q1366.81 1543.79 1364.13 1540.13 Q1361.49 1536.44 1356.84 1536.44 Q1352.2 1536.44 1349.52 1540.13 Q1346.88 1543.79 1346.88 1550.25 Q1346.88 1556.71 1349.52 1560.4 Q1352.2 1564.07 1356.84 1564.07 Q1361.49 1564.07 1364.13 1560.4 Q1366.81 1556.71 1366.81 1550.25 Z\" fill=\"#000000\" fill-rule=\"evenodd\" fill-opacity=\"1\" /><path clip-path=\"url(#clip980)\" d=\"M1396.41 1536.5 Q1391.7 1536.5 1388.96 1540.19 Q1386.22 1543.85 1386.22 1550.25 Q1386.22 1556.65 1388.93 1560.34 Q1391.66 1564 1396.41 1564 Q1401.09 1564 1403.82 1560.31 Q1406.56 1556.62 1406.56 1550.25 Q1406.56 1543.92 1403.82 1540.23 Q1401.09 1536.5 1396.41 1536.5 M1396.41 1531.54 Q1404.05 1531.54 1408.41 1536.5 Q1412.77 1541.47 1412.77 1550.25 Q1412.77 1559 1408.41 1564 Q1404.05 1568.97 1396.41 1568.97 Q1388.74 1568.97 1384.38 1564 Q1380.05 1559 1380.05 1550.25 Q1380.05 1541.47 1384.38 1536.5 Q1388.74 1531.54 1396.41 1531.54 Z\" fill=\"#000000\" fill-rule=\"evenodd\" fill-opacity=\"1\" /><polyline clip-path=\"url(#clip982)\" style=\"stroke:#000000; stroke-linecap:butt; stroke-linejoin:round; stroke-width:2; stroke-opacity:0.1; fill:none\" points=\"\n",
       "  262.551,1386.4 2352.76,1386.4 \n",
       "  \"/>\n",
       "<polyline clip-path=\"url(#clip982)\" style=\"stroke:#000000; stroke-linecap:butt; stroke-linejoin:round; stroke-width:2; stroke-opacity:0.1; fill:none\" points=\"\n",
       "  262.551,1076.76 2352.76,1076.76 \n",
       "  \"/>\n",
       "<polyline clip-path=\"url(#clip982)\" style=\"stroke:#000000; stroke-linecap:butt; stroke-linejoin:round; stroke-width:2; stroke-opacity:0.1; fill:none\" points=\"\n",
       "  262.551,767.133 2352.76,767.133 \n",
       "  \"/>\n",
       "<polyline clip-path=\"url(#clip982)\" style=\"stroke:#000000; stroke-linecap:butt; stroke-linejoin:round; stroke-width:2; stroke-opacity:0.1; fill:none\" points=\"\n",
       "  262.551,457.502 2352.76,457.502 \n",
       "  \"/>\n",
       "<polyline clip-path=\"url(#clip982)\" style=\"stroke:#000000; stroke-linecap:butt; stroke-linejoin:round; stroke-width:2; stroke-opacity:0.1; fill:none\" points=\"\n",
       "  262.551,147.871 2352.76,147.871 \n",
       "  \"/>\n",
       "<polyline clip-path=\"url(#clip980)\" style=\"stroke:#000000; stroke-linecap:butt; stroke-linejoin:round; stroke-width:4; stroke-opacity:1; fill:none\" points=\"\n",
       "  262.551,1423.18 262.551,123.472 \n",
       "  \"/>\n",
       "<polyline clip-path=\"url(#clip980)\" style=\"stroke:#000000; stroke-linecap:butt; stroke-linejoin:round; stroke-width:4; stroke-opacity:1; fill:none\" points=\"\n",
       "  262.551,1386.4 287.634,1386.4 \n",
       "  \"/>\n",
       "<polyline clip-path=\"url(#clip980)\" style=\"stroke:#000000; stroke-linecap:butt; stroke-linejoin:round; stroke-width:4; stroke-opacity:1; fill:none\" points=\"\n",
       "  262.551,1076.76 287.634,1076.76 \n",
       "  \"/>\n",
       "<polyline clip-path=\"url(#clip980)\" style=\"stroke:#000000; stroke-linecap:butt; stroke-linejoin:round; stroke-width:4; stroke-opacity:1; fill:none\" points=\"\n",
       "  262.551,767.133 287.634,767.133 \n",
       "  \"/>\n",
       "<polyline clip-path=\"url(#clip980)\" style=\"stroke:#000000; stroke-linecap:butt; stroke-linejoin:round; stroke-width:4; stroke-opacity:1; fill:none\" points=\"\n",
       "  262.551,457.502 287.634,457.502 \n",
       "  \"/>\n",
       "<polyline clip-path=\"url(#clip980)\" style=\"stroke:#000000; stroke-linecap:butt; stroke-linejoin:round; stroke-width:4; stroke-opacity:1; fill:none\" points=\"\n",
       "  262.551,147.871 287.634,147.871 \n",
       "  \"/>\n",
       "<path clip-path=\"url(#clip980)\" d=\"M214.607 1372.19 Q210.996 1372.19 209.167 1375.76 Q207.362 1379.3 207.362 1386.43 Q207.362 1393.54 209.167 1397.1 Q210.996 1400.64 214.607 1400.64 Q218.241 1400.64 220.047 1397.1 Q221.875 1393.54 221.875 1386.43 Q221.875 1379.3 220.047 1375.76 Q218.241 1372.19 214.607 1372.19 M214.607 1368.49 Q220.417 1368.49 223.473 1373.1 Q226.551 1377.68 226.551 1386.43 Q226.551 1395.16 223.473 1399.76 Q220.417 1404.35 214.607 1404.35 Q208.797 1404.35 205.718 1399.76 Q202.662 1395.16 202.662 1386.43 Q202.662 1377.68 205.718 1373.1 Q208.797 1368.49 214.607 1368.49 Z\" fill=\"#000000\" fill-rule=\"evenodd\" fill-opacity=\"1\" /><path clip-path=\"url(#clip980)\" d=\"M148.311 1090.11 L164.63 1090.11 L164.63 1094.04 L142.686 1094.04 L142.686 1090.11 Q145.348 1087.35 149.931 1082.73 Q154.538 1078.07 155.718 1076.73 Q157.964 1074.21 158.843 1072.47 Q159.746 1070.71 159.746 1069.02 Q159.746 1066.27 157.802 1064.53 Q155.88 1062.79 152.778 1062.79 Q150.579 1062.79 148.126 1063.56 Q145.695 1064.32 142.917 1065.87 L142.917 1061.15 Q145.741 1060.02 148.195 1059.44 Q150.649 1058.86 152.686 1058.86 Q158.056 1058.86 161.251 1061.54 Q164.445 1064.23 164.445 1068.72 Q164.445 1070.85 163.635 1072.77 Q162.848 1074.67 160.741 1077.26 Q160.163 1077.93 157.061 1081.15 Q153.959 1084.35 148.311 1090.11 Z\" fill=\"#000000\" fill-rule=\"evenodd\" fill-opacity=\"1\" /><path clip-path=\"url(#clip980)\" d=\"M174.491 1059.48 L192.848 1059.48 L192.848 1063.42 L178.774 1063.42 L178.774 1071.89 Q179.792 1071.54 180.811 1071.38 Q181.829 1071.2 182.848 1071.2 Q188.635 1071.2 192.014 1074.37 Q195.394 1077.54 195.394 1082.96 Q195.394 1088.54 191.922 1091.64 Q188.45 1094.72 182.13 1094.72 Q179.954 1094.72 177.686 1094.35 Q175.44 1093.98 173.033 1093.23 L173.033 1088.54 Q175.116 1089.67 177.339 1090.23 Q179.561 1090.78 182.038 1090.78 Q186.042 1090.78 188.38 1088.67 Q190.718 1086.57 190.718 1082.96 Q190.718 1079.35 188.38 1077.24 Q186.042 1075.13 182.038 1075.13 Q180.163 1075.13 178.288 1075.55 Q176.436 1075.97 174.491 1076.85 L174.491 1059.48 Z\" fill=\"#000000\" fill-rule=\"evenodd\" fill-opacity=\"1\" /><path clip-path=\"url(#clip980)\" d=\"M214.607 1062.56 Q210.996 1062.56 209.167 1066.13 Q207.362 1069.67 207.362 1076.8 Q207.362 1083.91 209.167 1087.47 Q210.996 1091.01 214.607 1091.01 Q218.241 1091.01 220.047 1087.47 Q221.875 1083.91 221.875 1076.8 Q221.875 1069.67 220.047 1066.13 Q218.241 1062.56 214.607 1062.56 M214.607 1058.86 Q220.417 1058.86 223.473 1063.47 Q226.551 1068.05 226.551 1076.8 Q226.551 1085.53 223.473 1090.13 Q220.417 1094.72 214.607 1094.72 Q208.797 1094.72 205.718 1090.13 Q202.662 1085.53 202.662 1076.8 Q202.662 1068.05 205.718 1063.47 Q208.797 1058.86 214.607 1058.86 Z\" fill=\"#000000\" fill-rule=\"evenodd\" fill-opacity=\"1\" /><path clip-path=\"url(#clip980)\" d=\"M144.329 749.853 L162.686 749.853 L162.686 753.789 L148.612 753.789 L148.612 762.261 Q149.63 761.913 150.649 761.751 Q151.667 761.566 152.686 761.566 Q158.473 761.566 161.852 764.738 Q165.232 767.909 165.232 773.325 Q165.232 778.904 161.76 782.006 Q158.288 785.085 151.968 785.085 Q149.792 785.085 147.524 784.714 Q145.279 784.344 142.871 783.603 L142.871 778.904 Q144.954 780.038 147.177 780.594 Q149.399 781.149 151.876 781.149 Q155.88 781.149 158.218 779.043 Q160.556 776.937 160.556 773.325 Q160.556 769.714 158.218 767.608 Q155.88 765.501 151.876 765.501 Q150.001 765.501 148.126 765.918 Q146.274 766.335 144.329 767.214 L144.329 749.853 Z\" fill=\"#000000\" fill-rule=\"evenodd\" fill-opacity=\"1\" /><path clip-path=\"url(#clip980)\" d=\"M184.445 752.932 Q180.834 752.932 179.005 756.497 Q177.2 760.038 177.2 767.168 Q177.2 774.275 179.005 777.839 Q180.834 781.381 184.445 781.381 Q188.079 781.381 189.885 777.839 Q191.713 774.275 191.713 767.168 Q191.713 760.038 189.885 756.497 Q188.079 752.932 184.445 752.932 M184.445 749.228 Q190.255 749.228 193.311 753.835 Q196.389 758.418 196.389 767.168 Q196.389 775.895 193.311 780.501 Q190.255 785.085 184.445 785.085 Q178.635 785.085 175.556 780.501 Q172.501 775.895 172.501 767.168 Q172.501 758.418 175.556 753.835 Q178.635 749.228 184.445 749.228 Z\" fill=\"#000000\" fill-rule=\"evenodd\" fill-opacity=\"1\" /><path clip-path=\"url(#clip980)\" d=\"M214.607 752.932 Q210.996 752.932 209.167 756.497 Q207.362 760.038 207.362 767.168 Q207.362 774.275 209.167 777.839 Q210.996 781.381 214.607 781.381 Q218.241 781.381 220.047 777.839 Q221.875 774.275 221.875 767.168 Q221.875 760.038 220.047 756.497 Q218.241 752.932 214.607 752.932 M214.607 749.228 Q220.417 749.228 223.473 753.835 Q226.551 758.418 226.551 767.168 Q226.551 775.895 223.473 780.501 Q220.417 785.085 214.607 785.085 Q208.797 785.085 205.718 780.501 Q202.662 775.895 202.662 767.168 Q202.662 758.418 205.718 753.835 Q208.797 749.228 214.607 749.228 Z\" fill=\"#000000\" fill-rule=\"evenodd\" fill-opacity=\"1\" /><path clip-path=\"url(#clip980)\" d=\"M143.103 440.222 L165.325 440.222 L165.325 442.213 L152.778 474.782 L147.894 474.782 L159.7 444.157 L143.103 444.157 L143.103 440.222 Z\" fill=\"#000000\" fill-rule=\"evenodd\" fill-opacity=\"1\" /><path clip-path=\"url(#clip980)\" d=\"M174.491 440.222 L192.848 440.222 L192.848 444.157 L178.774 444.157 L178.774 452.63 Q179.792 452.282 180.811 452.12 Q181.829 451.935 182.848 451.935 Q188.635 451.935 192.014 455.106 Q195.394 458.278 195.394 463.694 Q195.394 469.273 191.922 472.375 Q188.45 475.454 182.13 475.454 Q179.954 475.454 177.686 475.083 Q175.44 474.713 173.033 473.972 L173.033 469.273 Q175.116 470.407 177.339 470.963 Q179.561 471.518 182.038 471.518 Q186.042 471.518 188.38 469.412 Q190.718 467.305 190.718 463.694 Q190.718 460.083 188.38 457.977 Q186.042 455.87 182.038 455.87 Q180.163 455.87 178.288 456.287 Q176.436 456.704 174.491 457.583 L174.491 440.222 Z\" fill=\"#000000\" fill-rule=\"evenodd\" fill-opacity=\"1\" /><path clip-path=\"url(#clip980)\" d=\"M214.607 443.301 Q210.996 443.301 209.167 446.866 Q207.362 450.407 207.362 457.537 Q207.362 464.643 209.167 468.208 Q210.996 471.75 214.607 471.75 Q218.241 471.75 220.047 468.208 Q221.875 464.643 221.875 457.537 Q221.875 450.407 220.047 446.866 Q218.241 443.301 214.607 443.301 M214.607 439.597 Q220.417 439.597 223.473 444.204 Q226.551 448.787 226.551 457.537 Q226.551 466.264 223.473 470.87 Q220.417 475.454 214.607 475.454 Q208.797 475.454 205.718 470.87 Q202.662 466.264 202.662 457.537 Q202.662 448.787 205.718 444.204 Q208.797 439.597 214.607 439.597 Z\" fill=\"#000000\" fill-rule=\"evenodd\" fill-opacity=\"1\" /><path clip-path=\"url(#clip980)\" d=\"M114.931 161.216 L122.57 161.216 L122.57 134.85 L114.26 136.517 L114.26 132.258 L122.524 130.591 L127.2 130.591 L127.2 161.216 L134.839 161.216 L134.839 165.151 L114.931 165.151 L114.931 161.216 Z\" fill=\"#000000\" fill-rule=\"evenodd\" fill-opacity=\"1\" /><path clip-path=\"url(#clip980)\" d=\"M154.283 133.67 Q150.672 133.67 148.843 137.235 Q147.038 140.776 147.038 147.906 Q147.038 155.012 148.843 158.577 Q150.672 162.119 154.283 162.119 Q157.917 162.119 159.723 158.577 Q161.552 155.012 161.552 147.906 Q161.552 140.776 159.723 137.235 Q157.917 133.67 154.283 133.67 M154.283 129.966 Q160.093 129.966 163.149 134.573 Q166.227 139.156 166.227 147.906 Q166.227 156.633 163.149 161.239 Q160.093 165.822 154.283 165.822 Q148.473 165.822 145.394 161.239 Q142.339 156.633 142.339 147.906 Q142.339 139.156 145.394 134.573 Q148.473 129.966 154.283 129.966 Z\" fill=\"#000000\" fill-rule=\"evenodd\" fill-opacity=\"1\" /><path clip-path=\"url(#clip980)\" d=\"M184.445 133.67 Q180.834 133.67 179.005 137.235 Q177.2 140.776 177.2 147.906 Q177.2 155.012 179.005 158.577 Q180.834 162.119 184.445 162.119 Q188.079 162.119 189.885 158.577 Q191.713 155.012 191.713 147.906 Q191.713 140.776 189.885 137.235 Q188.079 133.67 184.445 133.67 M184.445 129.966 Q190.255 129.966 193.311 134.573 Q196.389 139.156 196.389 147.906 Q196.389 156.633 193.311 161.239 Q190.255 165.822 184.445 165.822 Q178.635 165.822 175.556 161.239 Q172.501 156.633 172.501 147.906 Q172.501 139.156 175.556 134.573 Q178.635 129.966 184.445 129.966 Z\" fill=\"#000000\" fill-rule=\"evenodd\" fill-opacity=\"1\" /><path clip-path=\"url(#clip980)\" d=\"M214.607 133.67 Q210.996 133.67 209.167 137.235 Q207.362 140.776 207.362 147.906 Q207.362 155.012 209.167 158.577 Q210.996 162.119 214.607 162.119 Q218.241 162.119 220.047 158.577 Q221.875 155.012 221.875 147.906 Q221.875 140.776 220.047 137.235 Q218.241 133.67 214.607 133.67 M214.607 129.966 Q220.417 129.966 223.473 134.573 Q226.551 139.156 226.551 147.906 Q226.551 156.633 223.473 161.239 Q220.417 165.822 214.607 165.822 Q208.797 165.822 205.718 161.239 Q202.662 156.633 202.662 147.906 Q202.662 139.156 205.718 134.573 Q208.797 129.966 214.607 129.966 Z\" fill=\"#000000\" fill-rule=\"evenodd\" fill-opacity=\"1\" /><path clip-path=\"url(#clip980)\" d=\"M16.4842 897.807 L16.4842 889.15 L56.238 868.08 L16.4842 868.08 L16.4842 861.841 L64.0042 861.841 L64.0042 870.498 L24.2503 891.569 L64.0042 891.569 L64.0042 897.807 L16.4842 897.807 Z\" fill=\"#000000\" fill-rule=\"evenodd\" fill-opacity=\"1\" /><path clip-path=\"url(#clip980)\" d=\"M49.9359 849.905 L28.3562 849.905 L28.3562 844.049 L49.7131 844.049 Q54.7739 844.049 57.3202 842.076 Q59.8346 840.102 59.8346 836.156 Q59.8346 831.413 56.8109 828.676 Q53.7872 825.907 48.5673 825.907 L28.3562 825.907 L28.3562 820.05 L64.0042 820.05 L64.0042 825.907 L58.5296 825.907 Q61.7762 828.039 63.3676 830.872 Q64.9272 833.673 64.9272 837.397 Q64.9272 843.54 61.1078 846.723 Q57.2883 849.905 49.9359 849.905 M27.4968 835.169 L27.4968 835.169 M11.869 830.808 L11.869 824.474 L23.8365 834.851 L23.8365 839.72 L11.869 830.808 Z\" fill=\"#000000\" fill-rule=\"evenodd\" fill-opacity=\"1\" /><path clip-path=\"url(#clip980)\" d=\"M35.1993 780.233 Q31.2526 778.037 29.3747 774.981 Q27.4968 771.926 27.4968 767.788 Q27.4968 762.218 31.4117 759.194 Q35.2948 756.17 42.4881 756.17 L64.0042 756.17 L64.0042 762.059 L42.679 762.059 Q37.5546 762.059 35.072 763.873 Q32.5894 765.687 32.5894 769.411 Q32.5894 773.963 35.6131 776.604 Q38.6368 779.246 43.8567 779.246 L64.0042 779.246 L64.0042 785.134 L42.679 785.134 Q37.5228 785.134 35.072 786.949 Q32.5894 788.763 32.5894 792.55 Q32.5894 797.038 35.6449 799.68 Q38.6686 802.322 43.8567 802.322 L64.0042 802.322 L64.0042 808.21 L28.3562 808.21 L28.3562 802.322 L33.8944 802.322 Q30.616 800.317 29.0564 797.516 Q27.4968 794.715 27.4968 790.864 Q27.4968 786.98 29.4702 784.275 Q31.4436 781.538 35.1993 780.233 Z\" fill=\"#000000\" fill-rule=\"evenodd\" fill-opacity=\"1\" /><path clip-path=\"url(#clip980)\" d=\"M44.7161 713.998 L47.5806 713.998 L47.5806 740.925 Q53.6281 740.543 56.8109 737.296 Q59.9619 734.018 59.9619 728.193 Q59.9619 724.819 59.1344 721.668 Q58.3069 718.485 56.6518 715.366 L62.1899 715.366 Q63.5267 718.517 64.227 721.827 Q64.9272 725.138 64.9272 728.543 Q64.9272 737.073 59.9619 742.07 Q54.9967 747.036 46.5303 747.036 Q37.7774 747.036 32.6531 742.325 Q27.4968 737.583 27.4968 729.562 Q27.4968 722.369 32.1438 718.199 Q36.7589 713.998 44.7161 713.998 M42.9973 719.854 Q38.1912 719.918 35.3266 722.559 Q32.4621 725.169 32.4621 729.498 Q32.4621 734.4 35.2312 737.36 Q38.0002 740.288 43.0292 740.734 L42.9973 719.854 Z\" fill=\"#000000\" fill-rule=\"evenodd\" fill-opacity=\"1\" /><path clip-path=\"url(#clip980)\" d=\"M33.8307 683.729 Q33.2578 684.715 33.0032 685.893 Q32.7167 687.039 32.7167 688.439 Q32.7167 693.405 35.9632 696.078 Q39.1779 698.72 45.2253 698.72 L64.0042 698.72 L64.0042 704.608 L28.3562 704.608 L28.3562 698.72 L33.8944 698.72 Q30.6479 696.874 29.0883 693.914 Q27.4968 690.954 27.4968 686.721 Q27.4968 686.116 27.5923 685.384 Q27.656 684.652 27.8151 683.76 L33.8307 683.729 Z\" fill=\"#000000\" fill-rule=\"evenodd\" fill-opacity=\"1\" /><path clip-path=\"url(#clip980)\" d=\"M32.4621 665.204 Q32.4621 669.915 36.1542 672.652 Q39.8145 675.39 46.212 675.39 Q52.6095 675.39 56.3017 672.684 Q59.9619 669.947 59.9619 665.204 Q59.9619 660.526 56.2698 657.788 Q52.5777 655.051 46.212 655.051 Q39.8781 655.051 36.186 657.788 Q32.4621 660.526 32.4621 665.204 M27.4968 665.204 Q27.4968 657.566 32.4621 653.205 Q37.4273 648.845 46.212 648.845 Q54.9649 648.845 59.9619 653.205 Q64.9272 657.566 64.9272 665.204 Q64.9272 672.875 59.9619 677.236 Q54.9649 681.564 46.212 681.564 Q37.4273 681.564 32.4621 677.236 Q27.4968 672.875 27.4968 665.204 Z\" fill=\"#000000\" fill-rule=\"evenodd\" fill-opacity=\"1\" /><path clip-path=\"url(#clip980)\" d=\"M1082.42 12.096 L1094.62 12.096 L1110.05 53.2532 L1125.57 12.096 L1137.76 12.096 L1137.76 72.576 L1129.78 72.576 L1129.78 19.4686 L1114.18 60.9499 L1105.96 60.9499 L1090.36 19.4686 L1090.36 72.576 L1082.42 72.576 L1082.42 12.096 Z\" fill=\"#000000\" fill-rule=\"evenodd\" fill-opacity=\"1\" /><path clip-path=\"url(#clip980)\" d=\"M1171.26 32.4315 Q1165.26 32.4315 1161.78 37.1306 Q1158.3 41.7891 1158.3 49.9314 Q1158.3 58.0738 1161.74 62.7728 Q1165.22 67.4314 1171.26 67.4314 Q1177.21 67.4314 1180.7 62.7323 Q1184.18 58.0333 1184.18 49.9314 Q1184.18 41.8701 1180.7 37.1711 Q1177.21 32.4315 1171.26 32.4315 M1171.26 26.1121 Q1180.98 26.1121 1186.53 32.4315 Q1192.08 38.7509 1192.08 49.9314 Q1192.08 61.0714 1186.53 67.4314 Q1180.98 73.7508 1171.26 73.7508 Q1161.5 73.7508 1155.95 67.4314 Q1150.44 61.0714 1150.44 49.9314 Q1150.44 38.7509 1155.95 32.4315 Q1161.5 26.1121 1171.26 26.1121 Z\" fill=\"#000000\" fill-rule=\"evenodd\" fill-opacity=\"1\" /><path clip-path=\"url(#clip980)\" d=\"M1234.29 34.0924 L1234.29 9.54393 L1241.75 9.54393 L1241.75 72.576 L1234.29 72.576 L1234.29 65.7705 Q1231.94 69.8214 1228.34 71.8063 Q1224.77 73.7508 1219.75 73.7508 Q1211.53 73.7508 1206.34 67.1883 Q1201.2 60.6258 1201.2 49.9314 Q1201.2 39.2371 1206.34 32.6746 Q1211.53 26.1121 1219.75 26.1121 Q1224.77 26.1121 1228.34 28.0971 Q1231.94 30.0415 1234.29 34.0924 M1208.89 49.9314 Q1208.89 58.1548 1212.25 62.8538 Q1215.66 67.5124 1221.57 67.5124 Q1227.49 67.5124 1230.89 62.8538 Q1234.29 58.1548 1234.29 49.9314 Q1234.29 41.7081 1230.89 37.0496 Q1227.49 32.3505 1221.57 32.3505 Q1215.66 32.3505 1212.25 37.0496 Q1208.89 41.7081 1208.89 49.9314 Z\" fill=\"#000000\" fill-rule=\"evenodd\" fill-opacity=\"1\" /><path clip-path=\"url(#clip980)\" d=\"M1295.91 48.0275 L1295.91 51.6733 L1261.64 51.6733 Q1262.12 59.3701 1266.25 63.421 Q1270.43 67.4314 1277.84 67.4314 Q1282.13 67.4314 1286.14 66.3781 Q1290.19 65.3249 1294.16 63.2184 L1294.16 70.267 Q1290.15 71.9684 1285.94 72.8596 Q1281.73 73.7508 1277.39 73.7508 Q1266.54 73.7508 1260.18 67.4314 Q1253.86 61.1119 1253.86 50.3365 Q1253.86 39.1965 1259.85 32.6746 Q1265.89 26.1121 1276.1 26.1121 Q1285.25 26.1121 1290.56 32.0264 Q1295.91 37.9003 1295.91 48.0275 M1288.45 45.84 Q1288.37 39.7232 1285.01 36.0774 Q1281.69 32.4315 1276.18 32.4315 Q1269.94 32.4315 1266.17 35.9558 Q1262.45 39.4801 1261.88 45.8805 L1288.45 45.84 Z\" fill=\"#000000\" fill-rule=\"evenodd\" fill-opacity=\"1\" /><path clip-path=\"url(#clip980)\" d=\"M1308.14 9.54393 L1315.59 9.54393 L1315.59 72.576 L1308.14 72.576 L1308.14 9.54393 Z\" fill=\"#000000\" fill-rule=\"evenodd\" fill-opacity=\"1\" /><path clip-path=\"url(#clip980)\" d=\"M1348.77 32.4315 Q1342.77 32.4315 1339.29 37.1306 Q1335.81 41.7891 1335.81 49.9314 Q1335.81 58.0738 1339.25 62.7728 Q1342.73 67.4314 1348.77 67.4314 Q1354.73 67.4314 1358.21 62.7323 Q1361.69 58.0333 1361.69 49.9314 Q1361.69 41.8701 1358.21 37.1711 Q1354.73 32.4315 1348.77 32.4315 M1348.77 26.1121 Q1358.49 26.1121 1364.04 32.4315 Q1369.59 38.7509 1369.59 49.9314 Q1369.59 61.0714 1364.04 67.4314 Q1358.49 73.7508 1348.77 73.7508 Q1339.01 73.7508 1333.46 67.4314 Q1327.95 61.0714 1327.95 49.9314 Q1327.95 38.7509 1333.46 32.4315 Q1339.01 26.1121 1348.77 26.1121 Z\" fill=\"#000000\" fill-rule=\"evenodd\" fill-opacity=\"1\" /><path clip-path=\"url(#clip980)\" d=\"M1444.9 14.0809 L1444.9 22.0612 Q1440.24 19.8332 1436.11 18.7395 Q1431.98 17.6457 1428.13 17.6457 Q1421.44 17.6457 1417.8 20.2383 Q1414.19 22.8309 1414.19 27.611 Q1414.19 31.6214 1416.58 33.6873 Q1419.01 35.7128 1425.74 36.9686 L1430.68 37.9813 Q1439.83 39.7232 1444.17 44.1387 Q1448.54 48.5136 1448.54 55.8863 Q1448.54 64.6767 1442.63 69.2137 Q1436.76 73.7508 1425.37 73.7508 Q1421.08 73.7508 1416.22 72.7785 Q1411.4 71.8063 1406.21 69.9024 L1406.21 61.4765 Q1411.19 64.2716 1415.97 65.6895 Q1420.75 67.1073 1425.37 67.1073 Q1432.38 67.1073 1436.19 64.3527 Q1440 61.598 1440 56.4939 Q1440 52.0379 1437.24 49.5264 Q1434.53 47.0148 1428.29 45.759 L1423.31 44.7868 Q1414.15 42.9639 1410.06 39.075 Q1405.97 35.1862 1405.97 28.2591 Q1405.97 20.2383 1411.6 15.6203 Q1417.27 11.0023 1427.2 11.0023 Q1431.45 11.0023 1435.86 11.7719 Q1440.28 12.5416 1444.9 14.0809 Z\" fill=\"#000000\" fill-rule=\"evenodd\" fill-opacity=\"1\" /><path clip-path=\"url(#clip980)\" d=\"M1461.3 12.096 L1469.49 12.096 L1469.49 72.576 L1461.3 72.576 L1461.3 12.096 Z\" fill=\"#000000\" fill-rule=\"evenodd\" fill-opacity=\"1\" /><path clip-path=\"url(#clip980)\" d=\"M1514.45 44.2197 Q1517.09 45.1109 1519.56 48.0275 Q1522.07 50.9442 1524.58 56.0483 L1532.88 72.576 L1524.09 72.576 L1516.36 57.061 Q1513.36 50.9847 1510.52 48.9997 Q1507.73 47.0148 1502.87 47.0148 L1493.95 47.0148 L1493.95 72.576 L1485.77 72.576 L1485.77 12.096 L1504.24 12.096 Q1514.61 12.096 1519.72 16.4305 Q1524.82 20.7649 1524.82 29.5149 Q1524.82 35.2267 1522.15 38.994 Q1519.52 42.7613 1514.45 44.2197 M1493.95 18.8205 L1493.95 40.2903 L1504.24 40.2903 Q1510.16 40.2903 1513.16 37.5762 Q1516.19 34.8216 1516.19 29.5149 Q1516.19 24.2082 1513.16 21.5346 Q1510.16 18.8205 1504.24 18.8205 L1493.95 18.8205 Z\" fill=\"#000000\" fill-rule=\"evenodd\" fill-opacity=\"1\" /><polyline clip-path=\"url(#clip982)\" style=\"stroke:#009af9; stroke-linecap:butt; stroke-linejoin:round; stroke-width:4; stroke-opacity:1; fill:none\" points=\"\n",
       "  321.708,160.256 326.638,160.877 331.567,161.512 336.497,162.163 341.427,162.83 346.357,163.513 351.286,164.212 356.216,164.928 361.146,165.661 366.076,166.412 \n",
       "  371.005,167.18 375.935,167.967 380.865,168.773 385.794,169.598 390.724,170.443 395.654,171.307 400.584,172.192 405.513,173.098 410.443,174.025 415.373,174.974 \n",
       "  420.303,175.944 425.232,176.938 430.162,177.955 435.092,178.995 440.021,180.059 444.951,181.148 449.881,182.262 454.811,183.402 459.74,184.567 464.67,185.759 \n",
       "  469.6,186.978 474.53,188.225 479.459,189.5 484.389,190.804 489.319,192.137 494.248,193.499 499.178,194.892 504.108,196.316 509.038,197.771 513.967,199.258 \n",
       "  518.897,200.778 523.827,202.331 528.757,203.917 533.686,205.538 538.616,207.194 543.546,208.885 548.475,210.613 553.405,212.376 558.335,214.178 563.265,216.016 \n",
       "  568.194,217.894 573.124,219.81 578.054,221.766 582.984,223.762 587.913,225.799 592.843,227.877 597.773,229.996 602.702,232.159 607.632,234.364 612.562,236.613 \n",
       "  617.492,238.906 622.421,241.244 627.351,243.627 632.281,246.056 637.211,248.531 642.14,251.053 647.07,253.622 652,256.239 656.929,258.905 661.859,261.619 \n",
       "  666.789,264.383 671.719,267.196 676.648,270.059 681.578,272.973 686.508,275.938 691.438,278.954 696.367,282.021 701.297,285.14 706.227,288.312 711.156,291.535 \n",
       "  716.086,294.812 721.016,298.142 725.946,301.525 730.875,304.961 735.805,308.451 740.735,311.994 745.665,315.591 750.594,319.242 755.524,322.947 760.454,326.706 \n",
       "  765.383,330.518 770.313,334.385 775.243,338.305 780.173,342.278 785.102,346.305 790.032,350.384 794.962,354.517 799.892,358.702 804.821,362.939 809.751,367.228 \n",
       "  814.681,371.568 819.61,375.96 824.54,380.401 829.47,384.893 834.4,389.433 839.329,394.023 844.259,398.66 849.189,403.345 854.119,408.076 859.048,412.853 \n",
       "  863.978,417.676 868.908,422.543 873.837,427.453 878.767,432.406 883.697,437.401 888.627,442.435 893.556,447.509 898.486,452.621 903.416,457.769 908.346,462.953 \n",
       "  913.275,468.172 918.205,473.423 923.135,478.706 928.065,484.02 932.994,489.363 937.924,494.734 942.854,500.132 947.783,505.554 952.713,511.001 957.643,516.47 \n",
       "  962.573,521.959 967.502,527.469 972.432,532.996 977.362,538.54 982.292,544.099 987.221,549.671 992.151,555.256 997.081,560.851 1002.01,566.455 1006.94,572.066 \n",
       "  1011.87,577.682 1016.8,583.303 1021.73,588.926 1026.66,594.55 1031.59,600.172 1036.52,605.793 1041.45,611.41 1046.38,617.022 1051.31,622.627 1056.24,628.224 \n",
       "  1061.17,633.811 1066.1,639.386 1071.03,644.949 1075.96,650.498 1080.89,656.03 1085.82,661.546 1090.75,667.042 1095.68,672.52 1100.6,677.976 1105.53,683.409 \n",
       "  1110.46,688.819 1115.39,694.204 1120.32,699.564 1125.25,704.896 1130.18,710.2 1135.11,715.474 1140.04,720.719 1144.97,725.932 1149.9,731.113 1154.83,736.261 \n",
       "  1159.76,741.375 1164.69,746.454 1169.62,751.497 1174.55,756.503 1179.48,761.473 1184.41,766.404 1189.34,771.297 1194.27,776.15 1199.2,780.963 1204.13,785.736 \n",
       "  1209.06,790.467 1213.99,795.157 1218.92,799.805 1223.85,804.409 1228.78,808.971 1233.71,813.488 1238.64,817.962 1243.57,822.392 1248.5,826.777 1253.43,831.118 \n",
       "  1258.36,835.414 1263.29,839.666 1268.22,843.872 1273.15,848.034 1278.08,852.15 1283,856.221 1287.93,860.247 1292.86,864.227 1297.79,868.162 1302.72,872.052 \n",
       "  1307.65,875.896 1312.58,879.695 1317.51,883.449 1322.44,887.158 1327.37,890.822 1332.3,894.44 1337.23,898.014 1342.16,901.544 1347.09,905.029 1352.02,908.469 \n",
       "  1356.95,911.866 1361.88,915.218 1366.81,918.527 1371.74,921.793 1376.67,925.015 1381.6,928.195 1386.53,931.332 1391.46,934.427 1396.39,937.481 1401.32,940.493 \n",
       "  1406.25,943.464 1411.18,946.394 1416.11,949.285 1421.04,952.135 1425.97,954.946 1430.9,957.718 1435.83,960.45 1440.76,963.144 1445.69,965.799 1450.62,968.417 \n",
       "  1455.55,970.997 1460.48,973.54 1465.4,976.047 1470.33,978.517 1475.26,980.952 1480.19,983.352 1485.12,985.717 1490.05,988.048 1494.98,990.345 1499.91,992.608 \n",
       "  1504.84,994.838 1509.77,997.036 1514.7,999.201 1519.63,1001.33 1524.56,1003.44 1529.49,1005.51 1534.42,1007.55 1539.35,1009.56 1544.28,1011.54 1549.21,1013.49 \n",
       "  1554.14,1015.41 1559.07,1017.3 1564,1019.16 1568.93,1021 1573.86,1022.81 1578.79,1024.59 1583.72,1026.34 1588.65,1028.07 1593.58,1029.77 1598.51,1031.44 \n",
       "  1603.44,1033.09 1608.37,1034.72 1613.3,1036.32 1618.23,1037.89 1623.16,1039.44 1628.09,1040.97 1633.02,1042.48 1637.95,1043.96 1642.88,1045.41 1647.8,1046.85 \n",
       "  1652.73,1048.26 1657.66,1049.65 1662.59,1051.02 1667.52,1052.37 1672.45,1053.7 1677.38,1055.01 1682.31,1056.3 1687.24,1057.56 1692.17,1058.81 1697.1,1060.04 \n",
       "  1702.03,1061.25 1706.96,1062.44 1711.89,1063.61 1716.82,1064.77 1721.75,1065.9 1726.68,1067.02 1731.61,1068.12 1736.54,1069.21 1741.47,1070.28 1746.4,1071.33 \n",
       "  1751.33,1072.36 1756.26,1073.38 1761.19,1074.38 1766.12,1075.37 1771.05,1076.34 1775.98,1077.3 1780.91,1078.24 1785.84,1079.17 1790.77,1080.08 1795.7,1080.98 \n",
       "  1800.63,1081.87 1805.56,1082.74 1810.49,1083.6 1815.42,1084.44 1820.35,1085.28 1825.28,1086.09 1830.2,1086.9 1835.13,1087.7 1840.06,1088.48 1844.99,1089.25 \n",
       "  1849.92,1090 1854.85,1090.75 1859.78,1091.48 1864.71,1092.21 1869.64,1092.92 1874.57,1093.62 1879.5,1094.31 1884.43,1094.99 1889.36,1095.66 1894.29,1096.32 \n",
       "  1899.22,1096.97 1904.15,1097.6 1909.08,1098.23 1914.01,1098.85 1918.94,1099.46 1923.87,1100.06 1928.8,1100.65 1933.73,1101.24 1938.66,1101.81 1943.59,1102.38 \n",
       "  1948.52,1102.93 1953.45,1103.48 1958.38,1104.02 1963.31,1104.55 1968.24,1105.07 1973.17,1105.59 1978.1,1106.09 1983.03,1106.59 1987.96,1107.08 1992.89,1107.57 \n",
       "  1997.82,1108.04 2002.75,1108.51 2007.67,1108.97 2012.6,1109.43 2017.53,1109.88 2022.46,1110.32 2027.39,1110.75 2032.32,1111.18 2037.25,1111.6 2042.18,1112.01 \n",
       "  2047.11,1112.42 2052.04,1112.82 2056.97,1113.22 2061.9,1113.61 2066.83,1113.99 2071.76,1114.36 2076.69,1114.74 2081.62,1115.1 2086.55,1115.46 2091.48,1115.81 \n",
       "  2096.41,1116.16 2101.34,1116.51 2106.27,1116.84 2111.2,1117.18 2116.13,1117.5 2121.06,1117.83 2125.99,1118.14 2130.92,1118.46 2135.85,1118.76 2140.78,1119.07 \n",
       "  2145.71,1119.37 2150.64,1119.66 2155.57,1119.95 2160.5,1120.23 2165.43,1120.51 2170.36,1120.79 2175.29,1121.06 2180.22,1121.33 2185.15,1121.59 2190.07,1121.85 \n",
       "  2195,1122.11 2199.93,1122.36 2204.86,1122.61 2209.79,1122.86 2214.72,1123.1 2219.65,1123.33 2224.58,1123.57 2229.51,1123.8 2234.44,1124.02 2239.37,1124.25 \n",
       "  2244.3,1124.47 2249.23,1124.69 2254.16,1124.9 2259.09,1125.11 2264.02,1125.32 2268.95,1125.52 2273.88,1125.72 2278.81,1125.92 2283.74,1126.12 2288.67,1126.31 \n",
       "  2293.6,1126.5 \n",
       "  \"/>\n",
       "<polyline clip-path=\"url(#clip982)\" style=\"stroke:#e26f46; stroke-linecap:butt; stroke-linejoin:round; stroke-width:4; stroke-opacity:1; fill:none\" points=\"\n",
       "  321.708,1374.01 326.638,1373.7 331.567,1373.39 336.497,1373.07 341.427,1372.74 346.357,1372.4 351.286,1372.06 356.216,1371.7 361.146,1371.34 366.076,1370.97 \n",
       "  371.005,1370.59 375.935,1370.21 380.865,1369.81 385.794,1369.4 390.724,1368.99 395.654,1368.57 400.584,1368.13 405.513,1367.69 410.443,1367.24 415.373,1366.77 \n",
       "  420.303,1366.3 425.232,1365.81 430.162,1365.32 435.092,1364.81 440.021,1364.29 444.951,1363.76 449.881,1363.22 454.811,1362.67 459.74,1362.1 464.67,1361.52 \n",
       "  469.6,1360.93 474.53,1360.33 479.459,1359.72 484.389,1359.09 489.319,1358.44 494.248,1357.79 499.178,1357.12 504.108,1356.44 509.038,1355.74 513.967,1355.03 \n",
       "  518.897,1354.3 523.827,1353.56 528.757,1352.8 533.686,1352.03 538.616,1351.24 543.546,1350.44 548.475,1349.62 553.405,1348.79 558.335,1347.94 563.265,1347.07 \n",
       "  568.194,1346.19 573.124,1345.29 578.054,1344.37 582.984,1343.44 587.913,1342.49 592.843,1341.52 597.773,1340.53 602.702,1339.53 607.632,1338.51 612.562,1337.47 \n",
       "  617.492,1336.41 622.421,1335.34 627.351,1334.25 632.281,1333.13 637.211,1332.01 642.14,1330.86 647.07,1329.69 652,1328.51 656.929,1327.3 661.859,1326.08 \n",
       "  666.789,1324.84 671.719,1323.58 676.648,1322.31 681.578,1321.01 686.508,1319.7 691.438,1318.36 696.367,1317.02 701.297,1315.65 706.227,1314.26 711.156,1312.86 \n",
       "  716.086,1311.44 721.016,1310 725.946,1308.55 730.875,1307.07 735.805,1305.59 740.735,1304.08 745.665,1302.56 750.594,1301.02 755.524,1299.47 760.454,1297.91 \n",
       "  765.383,1296.33 770.313,1294.73 775.243,1293.12 780.173,1291.5 785.102,1289.87 790.032,1288.22 794.962,1286.57 799.892,1284.9 804.821,1283.22 809.751,1281.53 \n",
       "  814.681,1279.83 819.61,1278.13 824.54,1276.41 829.47,1274.69 834.4,1272.97 839.329,1271.23 844.259,1269.5 849.189,1267.76 854.119,1266.01 859.048,1264.27 \n",
       "  863.978,1262.52 868.908,1260.77 873.837,1259.02 878.767,1257.28 883.697,1255.53 888.627,1253.79 893.556,1252.06 898.486,1250.32 903.416,1248.6 908.346,1246.88 \n",
       "  913.275,1245.17 918.205,1243.47 923.135,1241.78 928.065,1240.11 932.994,1238.44 937.924,1236.79 942.854,1235.15 947.783,1233.53 952.713,1231.93 957.643,1230.34 \n",
       "  962.573,1228.77 967.502,1227.22 972.432,1225.69 977.362,1224.18 982.292,1222.7 987.221,1221.24 992.151,1219.8 997.081,1218.39 1002.01,1217 1006.94,1215.64 \n",
       "  1011.87,1214.31 1016.8,1213.01 1021.73,1211.74 1026.66,1210.49 1031.59,1209.28 1036.52,1208.11 1041.45,1206.96 1046.38,1205.85 1051.31,1204.77 1056.24,1203.73 \n",
       "  1061.17,1202.72 1066.1,1201.75 1071.03,1200.82 1075.96,1199.92 1080.89,1199.06 1085.82,1198.24 1090.75,1197.46 1095.68,1196.71 1100.6,1196.01 1105.53,1195.34 \n",
       "  1110.46,1194.72 1115.39,1194.13 1120.32,1193.58 1125.25,1193.08 1130.18,1192.61 1135.11,1192.18 1140.04,1191.8 1144.97,1191.45 1149.9,1191.15 1154.83,1190.89 \n",
       "  1159.76,1190.66 1164.69,1190.48 1169.62,1190.34 1174.55,1190.23 1179.48,1190.17 1184.41,1190.14 1189.34,1190.16 1194.27,1190.21 1199.2,1190.3 1204.13,1190.43 \n",
       "  1209.06,1190.59 1213.99,1190.8 1218.92,1191.04 1223.85,1191.31 1228.78,1191.63 1233.71,1191.97 1238.64,1192.35 1243.57,1192.77 1248.5,1193.22 1253.43,1193.7 \n",
       "  1258.36,1194.22 1263.29,1194.76 1268.22,1195.34 1273.15,1195.95 1278.08,1196.58 1283,1197.25 1287.93,1197.94 1292.86,1198.67 1297.79,1199.42 1302.72,1200.19 \n",
       "  1307.65,1200.99 1312.58,1201.82 1317.51,1202.67 1322.44,1203.54 1327.37,1204.44 1332.3,1205.36 1337.23,1206.3 1342.16,1207.26 1347.09,1208.24 1352.02,1209.24 \n",
       "  1356.95,1210.26 1361.88,1211.3 1366.81,1212.35 1371.74,1213.42 1376.67,1214.51 1381.6,1215.62 1386.53,1216.74 1391.46,1217.87 1396.39,1219.01 1401.32,1220.17 \n",
       "  1406.25,1221.34 1411.18,1222.52 1416.11,1223.72 1421.04,1224.92 1425.97,1226.13 1430.9,1227.35 1435.83,1228.57 1440.76,1229.81 1445.69,1231.05 1450.62,1232.3 \n",
       "  1455.55,1233.55 1460.48,1234.81 1465.4,1236.08 1470.33,1237.35 1475.26,1238.62 1480.19,1239.9 1485.12,1241.18 1490.05,1242.46 1494.98,1243.74 1499.91,1245.03 \n",
       "  1504.84,1246.31 1509.77,1247.6 1514.7,1248.89 1519.63,1250.18 1524.56,1251.47 1529.49,1252.75 1534.42,1254.04 1539.35,1255.32 1544.28,1256.6 1549.21,1257.88 \n",
       "  1554.14,1259.16 1559.07,1260.43 1564,1261.7 1568.93,1262.97 1573.86,1264.23 1578.79,1265.49 1583.72,1266.75 1588.65,1268 1593.58,1269.24 1598.51,1270.48 \n",
       "  1603.44,1271.72 1608.37,1272.95 1613.3,1274.17 1618.23,1275.39 1623.16,1276.6 1628.09,1277.8 1633.02,1279 1637.95,1280.19 1642.88,1281.37 1647.8,1282.55 \n",
       "  1652.73,1283.72 1657.66,1284.88 1662.59,1286.03 1667.52,1287.18 1672.45,1288.32 1677.38,1289.45 1682.31,1290.57 1687.24,1291.68 1692.17,1292.79 1697.1,1293.89 \n",
       "  1702.03,1294.98 1706.96,1296.06 1711.89,1297.13 1716.82,1298.19 1721.75,1299.25 1726.68,1300.3 1731.61,1301.33 1736.54,1302.36 1741.47,1303.38 1746.4,1304.39 \n",
       "  1751.33,1305.4 1756.26,1306.39 1761.19,1307.38 1766.12,1308.35 1771.05,1309.32 1775.98,1310.28 1780.91,1311.22 1785.84,1312.16 1790.77,1313.1 1795.7,1314.02 \n",
       "  1800.63,1314.93 1805.56,1315.83 1810.49,1316.73 1815.42,1317.61 1820.35,1318.49 1825.28,1319.36 1830.2,1320.22 1835.13,1321.07 1840.06,1321.91 1844.99,1322.74 \n",
       "  1849.92,1323.56 1854.85,1324.38 1859.78,1325.19 1864.71,1325.98 1869.64,1326.77 1874.57,1327.55 1879.5,1328.32 1884.43,1329.08 1889.36,1329.84 1894.29,1330.58 \n",
       "  1899.22,1331.32 1904.15,1332.05 1909.08,1332.77 1914.01,1333.48 1918.94,1334.19 1923.87,1334.89 1928.8,1335.57 1933.73,1336.26 1938.66,1336.93 1943.59,1337.59 \n",
       "  1948.52,1338.25 1953.45,1338.9 1958.38,1339.54 1963.31,1340.18 1968.24,1340.8 1973.17,1341.42 1978.1,1342.03 1983.03,1342.64 1987.96,1343.24 1992.89,1343.83 \n",
       "  1997.82,1344.41 2002.75,1344.98 2007.67,1345.55 2012.6,1346.11 2017.53,1346.67 2022.46,1347.22 2027.39,1347.76 2032.32,1348.29 2037.25,1348.82 2042.18,1349.34 \n",
       "  2047.11,1349.85 2052.04,1350.36 2056.97,1350.86 2061.9,1351.35 2066.83,1351.84 2071.76,1352.32 2076.69,1352.8 2081.62,1353.27 2086.55,1353.73 2091.48,1354.19 \n",
       "  2096.41,1354.64 2101.34,1355.08 2106.27,1355.52 2111.2,1355.96 2116.13,1356.38 2121.06,1356.8 2125.99,1357.22 2130.92,1357.63 2135.85,1358.04 2140.78,1358.44 \n",
       "  2145.71,1358.83 2150.64,1359.22 2155.57,1359.6 2160.5,1359.98 2165.43,1360.35 2170.36,1360.72 2175.29,1361.08 2180.22,1361.44 2185.15,1361.8 2190.07,1362.14 \n",
       "  2195,1362.49 2199.93,1362.83 2204.86,1363.16 2209.79,1363.49 2214.72,1363.82 2219.65,1364.14 2224.58,1364.45 2229.51,1364.77 2234.44,1365.08 2239.37,1365.38 \n",
       "  2244.3,1365.68 2249.23,1365.98 2254.16,1366.27 2259.09,1366.56 2264.02,1366.84 2268.95,1367.12 2273.88,1367.4 2278.81,1367.67 2283.74,1367.94 2288.67,1368.21 \n",
       "  2293.6,1368.47 \n",
       "  \"/>\n",
       "<polyline clip-path=\"url(#clip982)\" style=\"stroke:#3da44d; stroke-linecap:butt; stroke-linejoin:round; stroke-width:4; stroke-opacity:1; fill:none\" points=\"\n",
       "  321.708,1386.4 326.638,1386.08 331.567,1385.76 336.497,1385.43 341.427,1385.09 346.357,1384.75 351.286,1384.39 356.216,1384.03 361.146,1383.66 366.076,1383.28 \n",
       "  371.005,1382.89 375.935,1382.49 380.865,1382.08 385.794,1381.66 390.724,1381.23 395.654,1380.79 400.584,1380.34 405.513,1379.88 410.443,1379.4 415.373,1378.92 \n",
       "  420.303,1378.42 425.232,1377.91 430.162,1377.39 435.092,1376.86 440.021,1376.31 444.951,1375.75 449.881,1375.18 454.811,1374.59 459.74,1373.99 464.67,1373.38 \n",
       "  469.6,1372.75 474.53,1372.11 479.459,1371.45 484.389,1370.77 489.319,1370.08 494.248,1369.37 499.178,1368.65 504.108,1367.91 509.038,1367.15 513.967,1366.38 \n",
       "  518.897,1365.58 523.827,1364.77 528.757,1363.94 533.686,1363.09 538.616,1362.22 543.546,1361.34 548.475,1360.43 553.405,1359.5 558.335,1358.55 563.265,1357.57 \n",
       "  568.194,1356.58 573.124,1355.56 578.054,1354.52 582.984,1353.46 587.913,1352.38 592.843,1351.27 597.773,1350.13 602.702,1348.97 607.632,1347.79 612.562,1346.58 \n",
       "  617.492,1345.34 622.421,1344.08 627.351,1342.79 632.281,1341.47 637.211,1340.13 642.14,1338.75 647.07,1337.35 652,1335.92 656.929,1334.45 661.859,1332.96 \n",
       "  666.789,1331.44 671.719,1329.88 676.648,1328.3 681.578,1326.68 686.508,1325.03 691.438,1323.34 696.367,1321.63 701.297,1319.87 706.227,1318.09 711.156,1316.27 \n",
       "  716.086,1314.41 721.016,1312.52 725.946,1310.59 730.875,1308.63 735.805,1306.63 740.735,1304.59 745.665,1302.51 750.594,1300.4 755.524,1298.24 760.454,1296.05 \n",
       "  765.383,1293.82 770.313,1291.55 775.243,1289.23 780.173,1286.88 785.102,1284.49 790.032,1282.06 794.962,1279.58 799.892,1277.06 804.821,1274.5 809.751,1271.9 \n",
       "  814.681,1269.26 819.61,1266.58 824.54,1263.85 829.47,1261.08 834.4,1258.26 839.329,1255.41 844.259,1252.5 849.189,1249.56 854.119,1246.57 859.048,1243.54 \n",
       "  863.978,1240.47 868.908,1237.35 873.837,1234.19 878.767,1230.98 883.697,1227.73 888.627,1224.44 893.556,1221.1 898.486,1217.72 903.416,1214.29 908.346,1210.83 \n",
       "  913.275,1207.32 918.205,1203.77 923.135,1200.17 928.065,1196.54 932.994,1192.86 937.924,1189.14 942.854,1185.38 947.783,1181.58 952.713,1177.73 957.643,1173.85 \n",
       "  962.573,1169.93 967.502,1165.97 972.432,1161.97 977.362,1157.94 982.292,1153.86 987.221,1149.75 992.151,1145.61 997.081,1141.42 1002.01,1137.21 1006.94,1132.95 \n",
       "  1011.87,1128.67 1016.8,1124.35 1021.73,1120 1026.66,1115.62 1031.59,1111.21 1036.52,1106.76 1041.45,1102.29 1046.38,1097.79 1051.31,1093.26 1056.24,1088.71 \n",
       "  1061.17,1084.13 1066.1,1079.52 1071.03,1074.89 1075.96,1070.24 1080.89,1065.57 1085.82,1060.88 1090.75,1056.16 1095.68,1051.43 1100.6,1046.68 1105.53,1041.91 \n",
       "  1110.46,1037.13 1115.39,1032.33 1120.32,1027.52 1125.25,1022.69 1130.18,1017.85 1135.11,1013 1140.04,1008.14 1144.97,1003.28 1149.9,998.399 1154.83,993.515 \n",
       "  1159.76,988.625 1164.69,983.73 1169.62,978.83 1174.55,973.928 1179.48,969.022 1184.41,964.116 1189.34,959.209 1194.27,954.304 1199.2,949.399 1204.13,944.498 \n",
       "  1209.06,939.6 1213.99,934.707 1218.92,929.82 1223.85,924.939 1228.78,920.066 1233.71,915.201 1238.64,910.346 1243.57,905.5 1248.5,900.665 1253.43,895.841 \n",
       "  1258.36,891.031 1263.29,886.233 1268.22,881.45 1273.15,876.681 1278.08,871.928 1283,867.191 1287.93,862.471 1292.86,857.769 1297.79,853.085 1302.72,848.42 \n",
       "  1307.65,843.775 1312.58,839.151 1317.51,834.547 1322.44,829.965 1327.37,825.404 1332.3,820.867 1337.23,816.353 1342.16,811.862 1347.09,807.396 1352.02,802.954 \n",
       "  1356.95,798.538 1361.88,794.147 1366.81,789.783 1371.74,785.445 1376.67,781.134 1381.6,776.85 1386.53,772.595 1391.46,768.367 1396.39,764.168 1401.32,759.998 \n",
       "  1406.25,755.857 1411.18,751.745 1416.11,747.663 1421.04,743.611 1425.97,739.589 1430.9,735.598 1435.83,731.639 1440.76,727.71 1445.69,723.813 1450.62,719.947 \n",
       "  1455.55,716.112 1460.48,712.309 1465.4,708.538 1470.33,704.798 1475.26,701.09 1480.19,697.413 1485.12,693.769 1490.05,690.156 1494.98,686.575 1499.91,683.026 \n",
       "  1504.84,679.509 1509.77,676.024 1514.7,672.571 1519.63,669.15 1524.56,665.761 1529.49,662.404 1534.42,659.079 1539.35,655.785 1544.28,652.524 1549.21,649.294 \n",
       "  1554.14,646.096 1559.07,642.93 1564,639.796 1568.93,636.693 1573.86,633.622 1578.79,630.582 1583.72,627.573 1588.65,624.596 1593.58,621.65 1598.51,618.735 \n",
       "  1603.44,615.851 1608.37,612.998 1613.3,610.175 1618.23,607.384 1623.16,604.622 1628.09,601.891 1633.02,599.19 1637.95,596.519 1642.88,593.877 1647.8,591.266 \n",
       "  1652.73,588.684 1657.66,586.131 1662.59,583.607 1667.52,581.112 1672.45,578.645 1677.38,576.208 1682.31,573.798 1687.24,571.416 1692.17,569.062 1697.1,566.736 \n",
       "  1702.03,564.437 1706.96,562.165 1711.89,559.92 1716.82,557.702 1721.75,555.511 1726.68,553.345 1731.61,551.206 1736.54,549.092 1741.47,547.004 1746.4,544.942 \n",
       "  1751.33,542.904 1756.26,540.892 1761.19,538.904 1766.12,536.94 1771.05,535.001 1775.98,533.086 1780.91,531.195 1785.84,529.327 1790.77,527.483 1795.7,525.662 \n",
       "  1800.63,523.863 1805.56,522.088 1810.49,520.335 1815.42,518.604 1820.35,516.895 1825.28,515.209 1830.2,513.543 1835.13,511.899 1840.06,510.277 1844.99,508.675 \n",
       "  1849.92,507.094 1854.85,505.533 1859.78,503.993 1864.71,502.473 1869.64,500.972 1874.57,499.492 1879.5,498.03 1884.43,496.588 1889.36,495.165 1894.29,493.76 \n",
       "  1899.22,492.374 1904.15,491.007 1909.08,489.657 1914.01,488.325 1918.94,487.011 1923.87,485.714 1928.8,484.434 1933.73,483.171 1938.66,481.924 1943.59,480.694 \n",
       "  1948.52,479.481 1953.45,478.284 1958.38,477.102 1963.31,475.937 1968.24,474.787 1973.17,473.653 1978.1,472.534 1983.03,471.431 1987.96,470.342 1992.89,469.268 \n",
       "  1997.82,468.209 2002.75,467.165 2007.67,466.134 2012.6,465.118 2017.53,464.116 2022.46,463.128 2027.39,462.154 2032.32,461.193 2037.25,460.245 2042.18,459.311 \n",
       "  2047.11,458.39 2052.04,457.481 2056.97,456.586 2061.9,455.703 2066.83,454.832 2071.76,453.974 2076.69,453.128 2081.62,452.293 2086.55,451.471 2091.48,450.66 \n",
       "  2096.41,449.861 2101.34,449.073 2106.27,448.296 2111.2,447.53 2116.13,446.776 2121.06,446.032 2125.99,445.298 2130.92,444.575 2135.85,443.863 2140.78,443.16 \n",
       "  2145.71,442.468 2150.64,441.785 2155.57,441.113 2160.5,440.45 2165.43,439.796 2170.36,439.152 2175.29,438.516 2180.22,437.89 2185.15,437.273 2190.07,436.665 \n",
       "  2195,436.065 2199.93,435.474 2204.86,434.891 2209.79,434.316 2214.72,433.75 2219.65,433.191 2224.58,432.64 2229.51,432.097 2234.44,431.562 2239.37,431.034 \n",
       "  2244.3,430.513 2249.23,430 2254.16,429.494 2259.09,428.994 2264.02,428.502 2268.95,428.016 2273.88,427.538 2278.81,427.067 2283.74,426.602 2288.67,426.144 \n",
       "  2293.6,425.692 \n",
       "  \"/>\n",
       "<path clip-path=\"url(#clip980)\" d=\"\n",
       "M2023.92 408.716 L2283.08 408.716 L2283.08 166.796 L2023.92 166.796  Z\n",
       "  \" fill=\"#ffffff\" fill-rule=\"evenodd\" fill-opacity=\"1\"/>\n",
       "<polyline clip-path=\"url(#clip980)\" style=\"stroke:#000000; stroke-linecap:butt; stroke-linejoin:round; stroke-width:4; stroke-opacity:1; fill:none\" points=\"\n",
       "  2023.92,408.716 2283.08,408.716 2283.08,166.796 2023.92,166.796 2023.92,408.716 \n",
       "  \"/>\n",
       "<polyline clip-path=\"url(#clip980)\" style=\"stroke:#009af9; stroke-linecap:butt; stroke-linejoin:round; stroke-width:4; stroke-opacity:1; fill:none\" points=\"\n",
       "  2047.14,227.276 2186.49,227.276 \n",
       "  \"/>\n",
       "<path clip-path=\"url(#clip980)\" d=\"M2231.96 211.13 L2231.96 215.69 Q2229.3 214.417 2226.93 213.792 Q2224.57 213.167 2222.37 213.167 Q2218.55 213.167 2216.47 214.648 Q2214.41 216.13 2214.41 218.861 Q2214.41 221.153 2215.78 222.334 Q2217.17 223.491 2221.01 224.209 L2223.83 224.787 Q2229.06 225.783 2231.54 228.306 Q2234.04 230.806 2234.04 235.019 Q2234.04 240.042 2230.66 242.634 Q2227.3 245.227 2220.8 245.227 Q2218.35 245.227 2215.57 244.671 Q2212.81 244.116 2209.85 243.028 L2209.85 238.213 Q2212.7 239.81 2215.43 240.621 Q2218.16 241.431 2220.8 241.431 Q2224.8 241.431 2226.98 239.857 Q2229.16 238.283 2229.16 235.366 Q2229.16 232.82 2227.58 231.384 Q2226.03 229.949 2222.47 229.232 L2219.62 228.676 Q2214.39 227.635 2212.05 225.412 Q2209.71 223.19 2209.71 219.232 Q2209.71 214.648 2212.93 212.01 Q2216.17 209.371 2221.84 209.371 Q2224.27 209.371 2226.8 209.811 Q2229.32 210.25 2231.96 211.13 Z\" fill=\"#000000\" fill-rule=\"evenodd\" fill-opacity=\"1\" /><polyline clip-path=\"url(#clip980)\" style=\"stroke:#e26f46; stroke-linecap:butt; stroke-linejoin:round; stroke-width:4; stroke-opacity:1; fill:none\" points=\"\n",
       "  2047.14,287.756 2186.49,287.756 \n",
       "  \"/>\n",
       "<path clip-path=\"url(#clip980)\" d=\"M2209.71 270.476 L2214.39 270.476 L2214.39 305.036 L2209.71 305.036 L2209.71 270.476 Z\" fill=\"#000000\" fill-rule=\"evenodd\" fill-opacity=\"1\" /><polyline clip-path=\"url(#clip980)\" style=\"stroke:#3da44d; stroke-linecap:butt; stroke-linejoin:round; stroke-width:4; stroke-opacity:1; fill:none\" points=\"\n",
       "  2047.14,348.236 2186.49,348.236 \n",
       "  \"/>\n",
       "<path clip-path=\"url(#clip980)\" d=\"M2226.1 349.312 Q2227.61 349.821 2229.02 351.488 Q2230.45 353.155 2231.89 356.071 L2236.63 365.516 L2231.61 365.516 L2227.19 356.65 Q2225.48 353.178 2223.86 352.044 Q2222.26 350.909 2219.48 350.909 L2214.39 350.909 L2214.39 365.516 L2209.71 365.516 L2209.71 330.956 L2220.27 330.956 Q2226.19 330.956 2229.11 333.433 Q2232.03 335.909 2232.03 340.909 Q2232.03 344.173 2230.5 346.326 Q2228.99 348.479 2226.1 349.312 M2214.39 334.798 L2214.39 347.067 L2220.27 347.067 Q2223.65 347.067 2225.36 345.516 Q2227.1 343.942 2227.1 340.909 Q2227.1 337.877 2225.36 336.349 Q2223.65 334.798 2220.27 334.798 L2214.39 334.798 Z\" fill=\"#000000\" fill-rule=\"evenodd\" fill-opacity=\"1\" /></svg>\n"
      ]
     },
     "execution_count": 10,
     "metadata": {},
     "output_type": "execute_result"
    }
   ],
   "source": [
    "@df df_ode plot(:t,\n",
    "    [:value1 :value2 :value3],\n",
    "    label=[\"S\" \"I\" \"R\"],\n",
    "    xlabel=\"Tempo\",\n",
    "    ylabel=\"Número\",\n",
    "    title = \"Modelo SIR\")"
   ]
  },
  {
   "cell_type": "code",
   "execution_count": 11,
   "id": "b7bf1fd1-fd86-4626-890b-f14dabf5738c",
   "metadata": {},
   "outputs": [],
   "source": [
    "savefig(\"SIR.png\")"
   ]
  },
  {
   "cell_type": "markdown",
   "id": "ebec3058-cf38-4e33-9cd9-608b3403031f",
   "metadata": {},
   "source": [
    "## Benchmarking do problema"
   ]
  },
  {
   "cell_type": "markdown",
   "id": "f616d68e-abbd-4605-b1ca-03c51122c05c",
   "metadata": {},
   "source": [
    "Para fazer um benchmarking de uma função basta utilizar a função `@benchmark` antes da função desejada"
   ]
  },
  {
   "cell_type": "code",
   "execution_count": 12,
   "id": "68a08acc-8e0a-44fb-a431-9fe1dd32b64a",
   "metadata": {},
   "outputs": [
    {
     "data": {
      "text/plain": [
       "BenchmarkTools.Trial: \n",
       "  memory estimate:  31.81 KiB\n",
       "  allocs estimate:  294\n",
       "  --------------\n",
       "  minimum time:     26.700 μs (0.00% GC)\n",
       "  median time:      36.300 μs (0.00% GC)\n",
       "  mean time:        47.656 μs (7.94% GC)\n",
       "  maximum time:     16.038 ms (99.53% GC)\n",
       "  --------------\n",
       "  samples:          10000\n",
       "  evals/sample:     1"
      ]
     },
     "execution_count": 12,
     "metadata": {},
     "output_type": "execute_result"
    }
   ],
   "source": [
    "@benchmark solve(prob_ode)"
   ]
  },
  {
   "cell_type": "markdown",
   "id": "d55b3e68-314b-41da-beb2-9ca6ff3bd4e4",
   "metadata": {},
   "source": [
    "## Multiplos problemas"
   ]
  },
  {
   "cell_type": "code",
   "execution_count": 13,
   "id": "a698ec1d-1cde-4b96-8cff-4c46e6cc647b",
   "metadata": {},
   "outputs": [],
   "source": [
    "p1 = [0.05,10,0.25] # β,c,γ\n",
    "p2 = [0.05,15,0.25] # β,c,γ\n",
    "p3 = [0.05,35,0.25]; # β,c,γ"
   ]
  },
  {
   "cell_type": "code",
   "execution_count": 14,
   "id": "e6700897-b242-4a68-a4fa-ae8810a7cfa0",
   "metadata": {},
   "outputs": [],
   "source": [
    "prob_ode1 = ODEProblem(sir_ode!,u0,tspan,p1);\n",
    "prob_ode2 = ODEProblem(sir_ode!,u0,tspan,p2);\n",
    "prob_ode3 = ODEProblem(sir_ode!,u0,tspan,p3);"
   ]
  },
  {
   "cell_type": "code",
   "execution_count": 15,
   "id": "744756e9-e96d-4dfb-a97f-f4b2b54da46a",
   "metadata": {},
   "outputs": [],
   "source": [
    "sol_ode1 = solve(prob_ode1,saveat = δt);\n",
    "sol_ode2 = solve(prob_ode2,saveat = δt);\n",
    "sol_ode3 = solve(prob_ode3,saveat = δt);"
   ]
  },
  {
   "cell_type": "code",
   "execution_count": 16,
   "id": "52cc15b3-242b-4bb7-919a-0f4c834be37b",
   "metadata": {},
   "outputs": [],
   "source": [
    "df_ode1 = DataFrame(sol_ode1)\n",
    "df_ode2 = DataFrame(sol_ode2)\n",
    "df_ode3 = DataFrame(sol_ode3);"
   ]
  },
  {
   "cell_type": "code",
   "execution_count": 17,
   "id": "77af3ab9-7c46-4790-aaf4-0614b5423b57",
   "metadata": {},
   "outputs": [],
   "source": [
    "plot(df_ode1.timestamp,\n",
    "    [df_ode1.value1 df_ode2.value1 df_ode3.value1],\n",
    "    label=[\"c = 10\" \"c = 15\" \"c = 35\"],\n",
    "    xlabel=\"Tempo\",\n",
    "    ylabel=\"Número\",\n",
    "    title = \"Susceptiveis SIR\")\n",
    "savefig(\"s.png\")"
   ]
  },
  {
   "cell_type": "code",
   "execution_count": 18,
   "id": "27830d0a-ecda-439b-8b40-b74ae71342c1",
   "metadata": {},
   "outputs": [],
   "source": [
    "plot(df_ode1.timestamp,\n",
    "    [df_ode1.value2 df_ode2.value2 df_ode3.value2],\n",
    "    label=[\"c = 10\" \"c = 15\" \"c = 35\"],\n",
    "    xlabel=\"Tempo\",\n",
    "    ylabel=\"Número\",\n",
    "    title = \"Infecciosos SIR\")\n",
    "savefig(\"i.png\")"
   ]
  },
  {
   "cell_type": "code",
   "execution_count": 19,
   "id": "b103d95c-312c-40f4-b381-c7fae1a929ed",
   "metadata": {},
   "outputs": [],
   "source": [
    "plot(df_ode1.timestamp,\n",
    "    [df_ode1.value3 df_ode2.value3 df_ode3.value3],\n",
    "    label=[\"c = 10\" \"c = 15\" \"c = 35\"],\n",
    "    xlabel=\"Tempo\",\n",
    "    ylabel=\"Número\",\n",
    "    title = \"Recuperados SIR\")\n",
    "savefig(\"r.png\")"
   ]
  },
  {
   "cell_type": "code",
   "execution_count": 20,
   "id": "38d3a49a-1a42-45bf-bf2e-ea094fdc2103",
   "metadata": {},
   "outputs": [
    {
     "data": {
      "text/html": [
       "<table class=\"data-frame\"><thead><tr><th></th><th>timestamp</th><th>value1</th><th>value2</th><th>value3</th></tr><tr><th></th><th>Float64</th><th>Float64</th><th>Float64</th><th>Float64</th></tr></thead><tbody><p>6 rows × 4 columns</p><tr><th>1</th><td>39.5</td><td>210.632</td><td>15.561</td><td>773.807</td></tr><tr><th>2</th><td>39.6</td><td>210.469</td><td>15.3374</td><td>774.193</td></tr><tr><th>3</th><td>39.7</td><td>210.309</td><td>15.1169</td><td>774.574</td></tr><tr><th>4</th><td>39.8</td><td>210.151</td><td>14.8995</td><td>774.949</td></tr><tr><th>5</th><td>39.9</td><td>209.996</td><td>14.6851</td><td>775.319</td></tr><tr><th>6</th><td>40.0</td><td>209.843</td><td>14.4736</td><td>775.684</td></tr></tbody></table>"
      ],
      "text/latex": [
       "\\begin{tabular}{r|cccc}\n",
       "\t& timestamp & value1 & value2 & value3\\\\\n",
       "\t\\hline\n",
       "\t& Float64 & Float64 & Float64 & Float64\\\\\n",
       "\t\\hline\n",
       "\t1 & 39.5 & 210.632 & 15.561 & 773.807 \\\\\n",
       "\t2 & 39.6 & 210.469 & 15.3374 & 774.193 \\\\\n",
       "\t3 & 39.7 & 210.309 & 15.1169 & 774.574 \\\\\n",
       "\t4 & 39.8 & 210.151 & 14.8995 & 774.949 \\\\\n",
       "\t5 & 39.9 & 209.996 & 14.6851 & 775.319 \\\\\n",
       "\t6 & 40.0 & 209.843 & 14.4736 & 775.684 \\\\\n",
       "\\end{tabular}\n"
      ],
      "text/plain": [
       "\u001b[1m6×4 DataFrame\u001b[0m\n",
       "\u001b[1m Row \u001b[0m│\u001b[1m timestamp \u001b[0m\u001b[1m value1  \u001b[0m\u001b[1m value2  \u001b[0m\u001b[1m value3  \u001b[0m\n",
       "\u001b[1m     \u001b[0m│\u001b[90m Float64   \u001b[0m\u001b[90m Float64 \u001b[0m\u001b[90m Float64 \u001b[0m\u001b[90m Float64 \u001b[0m\n",
       "─────┼──────────────────────────────────────\n",
       "   1 │      39.5  210.632  15.561   773.807\n",
       "   2 │      39.6  210.469  15.3374  774.193\n",
       "   3 │      39.7  210.309  15.1169  774.574\n",
       "   4 │      39.8  210.151  14.8995  774.949\n",
       "   5 │      39.9  209.996  14.6851  775.319\n",
       "   6 │      40.0  209.843  14.4736  775.684"
      ]
     },
     "execution_count": 20,
     "metadata": {},
     "output_type": "execute_result"
    }
   ],
   "source": [
    "last(df_ode1,6)"
   ]
  },
  {
   "cell_type": "code",
   "execution_count": 21,
   "id": "71d8746a-335b-4822-ab54-b6dd90efa291",
   "metadata": {},
   "outputs": [
    {
     "data": {
      "text/plain": [
       "1.0"
      ]
     },
     "execution_count": 21,
     "metadata": {},
     "output_type": "execute_result"
    }
   ],
   "source": [
    "γ = 0.25\n",
    "β = 0.05\n",
    "c = 5\n",
    "R_0 = (β*c)/γ"
   ]
  },
  {
   "cell_type": "code",
   "execution_count": null,
   "id": "c349fe8d-36b0-4ddf-9e34-dd764e1a8c46",
   "metadata": {},
   "outputs": [],
   "source": []
  }
 ],
 "metadata": {
  "kernelspec": {
   "display_name": "Julia 1.6.1",
   "language": "julia",
   "name": "julia-1.6"
  },
  "language_info": {
   "file_extension": ".jl",
   "mimetype": "application/julia",
   "name": "julia",
   "version": "1.6.1"
  }
 },
 "nbformat": 4,
 "nbformat_minor": 5
}
